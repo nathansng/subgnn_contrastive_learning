{
 "cells": [
  {
   "cell_type": "markdown",
   "metadata": {
    "id": "Bv46oqe2DpeK"
   },
   "source": [
    "# DropGNN + Contrastive Learning Prototyping"
   ]
  },
  {
   "cell_type": "markdown",
   "metadata": {
    "id": "gdzu3FAaGB64"
   },
   "source": [
    "Work based off of DropGNN\n",
    "\n",
    "https://arxiv.org/pdf/2111.06283.pdf \n",
    "\n",
    "https://github.com/KarolisMart/DropGNN "
   ]
  },
  {
   "cell_type": "code",
   "execution_count": 5,
   "metadata": {
    "id": "cmcqq2oyHCvQ"
   },
   "outputs": [],
   "source": [
    "import os.path as osp\n",
    "import numpy as np\n",
    "import networkx as nx\n",
    "import time\n",
    "import random\n",
    "import matplotlib.pyplot as plt\n",
    "import torch\n",
    "from torch import nn\n",
    "import torch.nn.functional as F\n",
    "from sklearn.model_selection import StratifiedKFold\n",
    "\n",
    "\n",
    "# Torch Geometric \n",
    "try: \n",
    "    from torch_geometric.data import DataLoader, Data\n",
    "    from torch_geometric.data.dataloader import Collater\n",
    "    from torch_geometric.datasets import TUDataset\n",
    "    from torch_geometric.utils import degree\n",
    "    from torch_geometric.utils.convert import from_networkx\n",
    "    from torch_geometric.nn import GINConv, GINEConv, global_add_pool\n",
    "except ModuleNotFoundError: \n",
    "    !pip install torch_geometric\n",
    "    from torch_geometric.data import DataLoader, Data\n",
    "    from torch_geometric.data.dataloader import Collater\n",
    "    from torch_geometric.datasets import TUDataset\n",
    "    from torch_geometric.utils import degree\n",
    "    from torch_geometric.utils.convert import from_networkx\n",
    "    from torch_geometric.nn import GINConv, GINEConv, global_add_pool\n",
    "    \n",
    "# Pytorch Metric Learning\n",
    "try: \n",
    "    from pytorch_metric_learning import losses\n",
    "except ModuleNotFoundError:\n",
    "    !pip install pytorch-metric-learning\n",
    "    from pytorch_metric_learning import losses"
   ]
  },
  {
   "cell_type": "markdown",
   "metadata": {
    "id": "U4VpVUxbJeBQ"
   },
   "source": [
    "## Import Dataset\n",
    "\n",
    "Use the IMDB-Binary dataset"
   ]
  },
  {
   "cell_type": "code",
   "execution_count": 6,
   "metadata": {
    "id": "kpop90ZxIaZW"
   },
   "outputs": [],
   "source": [
    "class MyFilter(object):\n",
    "    def __call__(self, data):\n",
    "        return data.num_nodes <= 70\n",
    "\n",
    "class MyPreTransform(object):\n",
    "    def __call__(self, data):\n",
    "        data.x = degree(data.edge_index[0], data.num_nodes, dtype=torch.long)\n",
    "        data.x = F.one_hot(data.x, num_classes=69).to(torch.float)\n",
    "        return data "
   ]
  },
  {
   "cell_type": "code",
   "execution_count": 7,
   "metadata": {
    "id": "oPb5CIfZJ0TV"
   },
   "outputs": [],
   "source": [
    "# Download data \n",
    "path = osp.join(osp.dirname(osp.realpath(\"./\")), 'data', f'IMDB-BINARY')\n",
    "\n",
    "dataset = TUDataset(\n",
    "    path, \n",
    "    name = \"IMDB-BINARY\", \n",
    "    pre_transform = MyPreTransform(), \n",
    "    pre_filter = MyFilter()\n",
    ")"
   ]
  },
  {
   "cell_type": "code",
   "execution_count": 8,
   "metadata": {
    "colab": {
     "base_uri": "https://localhost:8080/"
    },
    "id": "w1u0WXdtb_Zj",
    "outputId": "db3223f4-c7a7-4096-aa77-046cfad4b008"
   },
   "outputs": [
    {
     "name": "stdout",
     "output_type": "stream",
     "text": [
      "IMDB-BINARY(996)\n"
     ]
    }
   ],
   "source": [
    "print(dataset)"
   ]
  },
  {
   "cell_type": "markdown",
   "metadata": {
    "id": "MtqTi8B8HrCb"
   },
   "source": [
    "## Original DropGIN Model\n",
    "\n",
    "DropGIN model found in DropGNN paper modified to work without CLI arguments"
   ]
  },
  {
   "cell_type": "raw",
   "metadata": {
    "id": "C1N3ZszgDkOF"
   },
   "source": [
    "class DropGIN(nn.Module):\n",
    "    def __init__(self, hidden_units, dropout, use_aux_loss=True, num_runs=20, p=0.1):\n",
    "        super(DropGIN, self).__init__()\n",
    "\n",
    "        # Set starting parameters for model \n",
    "        num_features = dataset.num_features # Number of initial features \n",
    "        dim = hidden_units # Number of hidden units per layer \n",
    "        self.dropout = dropout # Dropout rate \n",
    "        self.use_aux_loss = use_aux_loss\n",
    "        self.num_runs = num_runs\n",
    "        self.p = p\n",
    "\n",
    "        # Number of layers in model\n",
    "        self.num_layers = 4\n",
    "\n",
    "        self.convs = nn.ModuleList() # Made of num_layers GINConv (linear -> batchnorm1d -> relu -> linear)\n",
    "        self.bns = nn.ModuleList() # Made of num_layers BatchNorm1d \n",
    "        self.fcs = nn.ModuleList() # Made of num_layers + 1 Linear layers mapping from num_features or dim to num_classes\n",
    "\n",
    "        # Add initial layer from num_features to dim \n",
    "        self.convs.append(GINConv(nn.Sequential(nn.Linear(num_features, dim), nn.BatchNorm1d(dim), nn.ReLU(), nn.Linear(dim, dim))))\n",
    "        self.bns.append(nn.BatchNorm1d(dim))\n",
    "        self.fcs.append(nn.Linear(num_features, dataset.num_classes))\n",
    "        self.fcs.append(nn.Linear(dim, dataset.num_classes))\n",
    "\n",
    "        # Add additional layers from dim to dim \n",
    "        for i in range(self.num_layers-1):\n",
    "            self.convs.append(GINConv(nn.Sequential(nn.Linear(dim, dim), nn.BatchNorm1d(dim), nn.ReLU(), nn.Linear(dim, dim))))\n",
    "            self.bns.append(nn.BatchNorm1d(dim))\n",
    "            self.fcs.append(nn.Linear(dim, dataset.num_classes))\n",
    "\n",
    "        # Use aux_loss for dropGNN: made of num_layers + 1 linear layers \n",
    "        # Adds new module list of linear layers \n",
    "        if self.use_aux_loss:\n",
    "            self.aux_fcs = nn.ModuleList()\n",
    "            self.aux_fcs.append(nn.Linear(num_features, dataset.num_classes))\n",
    "            for i in range(self.num_layers):\n",
    "                self.aux_fcs.append(nn.Linear(dim, dataset.num_classes))\n",
    "        \n",
    "    def reset_parameters(self):\n",
    "        # Resets parameters for Linear, GINConv, and BatchNorm1d layers\n",
    "        for m in self.modules():\n",
    "            if isinstance(m, nn.Linear):\n",
    "                m.reset_parameters()\n",
    "            elif isinstance(m, GINConv):\n",
    "                m.reset_parameters()\n",
    "            elif isinstance(m, nn.BatchNorm1d):\n",
    "                m.reset_parameters()\n",
    "\n",
    "    def forward(self, data, temp):\n",
    "        # Note: num_runs in DropGNN is average number of nodes in each graph in dataset\n",
    "        # Note: p is 2 * 1 / (1 + gamma), but for this project, p is selected to create augmented views \n",
    "\n",
    "        x = data.x\n",
    "        edge_index = data.edge_index\n",
    "        batch = data.batch\n",
    "            \n",
    "        # Do runs in parallel, by repeating the graphs in the batch\n",
    "        x = x.unsqueeze(0).expand(self.num_runs, -1, -1).clone()   # Flattens features and creates num_runs copy of them \n",
    "        drop = torch.bernoulli(torch.ones([x.size(0), x.size(1)], device=x.device) * self.p).bool()   #  Returns a tensor of randomly dropped nodes based on p (p = probability of dropping) \n",
    "        x[drop] = torch.zeros([drop.sum().long().item(), x.size(-1)], device=x.device)  # Drop nodes from data  \n",
    "        del drop\n",
    "\n",
    "        # Run augmented subgraph through model \n",
    "        outs = [x]  # Used to store view of x after each layer \n",
    "        x = x.view(-1, x.size(-1))  # Swap dimensions of data features \n",
    "        run_edge_index = edge_index.repeat(1, self.num_runs) + torch.arange(self.num_runs, device=edge_index.device).repeat_interleave(edge_index.size(1)) * (edge_index.max() + 1) # Expand edge_index and augment values\n",
    "        for i in range(self.num_layers):\n",
    "            x = self.convs[i](x, run_edge_index)  # Run node features and edge indices through CONV layer \n",
    "            x = self.bns[i](x)  # Run resulting values through BatchNorm1d\n",
    "            x = F.relu(x)   # Run final values through RELU\n",
    "            outs.append(x.view(self.num_runs, -1, x.size(-1)))    # Rearrange dimensions and append to outs \n",
    "        del run_edge_index\n",
    "\n",
    "        # TODO: Replace this with replacable head for contrastive learning and making predictions \n",
    "        # Aggregates results of runs by summing mean and applying random dropout (not dropping out nodes)\n",
    "        out = None\n",
    "        for i, x in enumerate(outs):\n",
    "            x = x.mean(dim=0)\n",
    "            x = global_add_pool(x, batch)\n",
    "            x = F.dropout(self.fcs[i](x), p=self.dropout, training=self.training)\n",
    "            if out is None:\n",
    "                out = x\n",
    "            else:\n",
    "                out += x\n",
    "\n",
    "        if self.use_aux_loss:\n",
    "            aux_out = torch.zeros(self.num_runs, out.size(0), out.size(1), device=out.device)\n",
    "            run_batch = batch.repeat(self.num_runs) + torch.arange(self.num_runs, device=edge_index.device).repeat_interleave(batch.size(0)) * (batch.max() + 1)\n",
    "            for i, x in enumerate(outs):\n",
    "                x = x.view(-1, x.size(-1))\n",
    "                x = global_add_pool(x, run_batch)\n",
    "                x = x.view(self.num_runs, -1, x.size(-1))\n",
    "                x = F.dropout(self.aux_fcs[i](x), p=self.dropout, training=self.training)\n",
    "                aux_out += x\n",
    "\n",
    "            # Returns probabilities of each class based on aggregated results \n",
    "            return F.log_softmax(out, dim=-1), F.log_softmax(aux_out, dim=-1)\n",
    "        else:\n",
    "            return F.log_softmax(out, dim=-1), 0"
   ]
  },
  {
   "cell_type": "markdown",
   "metadata": {},
   "source": [
    "## DropGNN + Contrastive Learning Model\n",
    "\n",
    "Copy of DropGIN model with Contrastive Learning Forward methods added\n",
    "\n",
    "Changes made: \n",
    "- Added more arguments when initializing model instead of depending on global variables \n",
    "- Changed how the forward function is called and run\n",
    "- Add two different forward functions\n",
    "    - Contrastive Forward: Runs graph data through the base model and returns a representation vector \n",
    "    - Prediction Forward: Runs graph data through the base model and returns a probablity vector for each class "
   ]
  },
  {
   "cell_type": "code",
   "execution_count": 56,
   "metadata": {},
   "outputs": [],
   "source": [
    "class DropGNN_Contrastive(nn.Module):\n",
    "    def __init__(self, num_features, num_reps, num_classes, hidden_units, use_aux_loss=True):\n",
    "        super(DropGNN_Contrastive, self).__init__()\n",
    "\n",
    "        # Set starting parameters for model \n",
    "        self.num_features = num_features   # Number of initial features \n",
    "        self.num_reps = num_reps           # Number of features in representation vector \n",
    "        self.num_classes = num_classes     # Number of different classes\n",
    "        self.dim = hidden_units            # Number of units for hidden layers\n",
    "        self.use_aux_loss = use_aux_loss   # Whether to include aux loss to total loss\n",
    "\n",
    "        # Number of layers in model\n",
    "        self.num_layers = 4\n",
    "\n",
    "        self.convs = nn.ModuleList()                     # Made of num_layers GINConv (linear -> batchnorm1d -> relu -> linear)\n",
    "        self.bns = nn.ModuleList()                       # Made of num_layers BatchNorm1d \n",
    "        self.reps = nn.ModuleList() # nn.Linear(self.dim, self.num_reps)   # Layer between base model and contrastive learning representation\n",
    "        self.fcs = nn.ModuleList()                       # Made of num_layers + 1 Linear layers mapping from num_features or dim to num_reps\n",
    "\n",
    "        # Add initial layer from num_features to dim \n",
    "        self.convs.append(GINConv(nn.Sequential(nn.Linear(self.num_features, self.dim), nn.BatchNorm1d(self.dim), nn.ReLU(), nn.Linear(self.dim, self.dim))))\n",
    "        self.bns.append(nn.BatchNorm1d(self.dim))\n",
    "        self.reps.append(nn.Linear(self.num_features, self.num_reps))\n",
    "        self.reps.append(nn.Linear(self.dim, self.num_reps))\n",
    "        self.fcs.append(nn.Linear(self.num_features, self.num_classes))\n",
    "        self.fcs.append(nn.Linear(self.dim, self.num_classes))\n",
    "\n",
    "        # Add additional layers from dim to dim \n",
    "        for i in range(self.num_layers-1):\n",
    "            self.convs.append(GINConv(nn.Sequential(nn.Linear(self.dim, self.dim), nn.BatchNorm1d(self.dim), nn.ReLU(), nn.Linear(self.dim, self.dim))))\n",
    "            self.bns.append(nn.BatchNorm1d(self.dim))\n",
    "            self.reps.append(nn.Linear(self.dim, self.num_reps))\n",
    "            self.fcs.append(nn.Linear(self.dim, self.num_classes))\n",
    "\n",
    "        # Use aux_loss for dropGNN: made of num_layers + 1 linear layers \n",
    "        # Adds new module list of linear layers \n",
    "        if self.use_aux_loss:\n",
    "            self.aux_fcs = nn.ModuleList()\n",
    "            self.aux_fcs.append(nn.Linear(self.num_features, self.num_classes))\n",
    "            for i in range(self.num_layers):\n",
    "                self.aux_fcs.append(nn.Linear(self.dim, self.num_classes))\n",
    "        \n",
    "    def reset_parameters(self):\n",
    "        # Resets parameters for Linear, GINConv, and BatchNorm1d layers\n",
    "        for m in self.modules():\n",
    "            if isinstance(m, nn.Linear):\n",
    "                m.reset_parameters()\n",
    "            elif isinstance(m, GINConv):\n",
    "                m.reset_parameters()\n",
    "            elif isinstance(m, nn.BatchNorm1d):\n",
    "                m.reset_parameters()\n",
    "                \n",
    "    def forward(self, data, mode=\"test\", p=None, dropout=None, num_runs=20):\n",
    "        # Runs different modes based on whether running contrastive loss or making predictions\n",
    "        if mode == 'contrastive':\n",
    "            return self.contrastive(data, p, num_runs)\n",
    "        else:\n",
    "            return self.prediction(data, dropout, num_runs)\n",
    "        \n",
    "    def contrastive(self, data, p, num_runs):\n",
    "        # Trains contrastive model and representation vector model \n",
    "        \n",
    "        # Note: num_runs in DropGNN is average number of nodes in each graph in dataset\n",
    "        # Note: p is 2 * 1 / (1 + gamma), but for this project, p is selected to create augmented views \n",
    "        \n",
    "        self.p = p\n",
    "        self.num_runs = num_runs\n",
    "        \n",
    "        # Store all graphs in sampled batch as one large graph with separate components\n",
    "        x = data.x                     # All nodes and their features (# nodes x # node features)\n",
    "        edge_index = data.edge_index   # All edge index pairs from large single graph\n",
    "        batch = data.batch             # Batch numbers that group nodes within the same graph with same batch number\n",
    "        \n",
    "        # Do runs in parallel by repeating nodes and creating num_runs different views\n",
    "        x = x.unsqueeze(0).expand(self.num_runs, -1, -1).clone()   # Creates num_runs copy of node features\n",
    "        drop = torch.bernoulli(torch.ones([x.size(0), x.size(1)], device=x.device) * self.p).bool()   #  Randomly determine whether node is dropped within each copy of num_runs\n",
    "        x[drop] = torch.zeros([drop.sum().long().item(), x.size(-1)], device=x.device)  # Drop nodes from graphs  \n",
    "        del drop\n",
    "        \n",
    "        # Allow gradients to update base model \n",
    "        if self.training:\n",
    "            for layer in self.convs: \n",
    "                for p in layer.parameters():\n",
    "                    p.requires_grad = True\n",
    "\n",
    "            for layer in self.bns:\n",
    "                for p in layer.parameters():\n",
    "                    p.requires_grad = True\n",
    "        \n",
    "        # Run augmented subgraph through model \n",
    "        outs = [x]  # Used to store n-hop neighborhood representations, after running through model n times\n",
    "        x = x.view(-1, x.size(-1))  # Concat all num_run copies of nodes \n",
    "        run_edge_index = edge_index.repeat(1, self.num_runs) + torch.arange(self.num_runs, device=edge_index.device).repeat_interleave(edge_index.size(1)) * (edge_index.max() + 1) # Transform edge_index to correspond to the same nodes in concatenated form  \n",
    "        for i in range(self.num_layers):\n",
    "            x = self.convs[i](x, run_edge_index)  # Run node features and edge indices through CONV layer \n",
    "            x = self.bns[i](x)  # Run resulting values through BatchNorm1d\n",
    "            x = F.relu(x)   # Run final values through RELU\n",
    "            outs.append(x.view(self.num_runs, -1, x.size(-1)))  # Return x back to original stacked form \n",
    "        del run_edge_index\n",
    "        \n",
    "        # Aggregates results of runs by taking mean of each run and summing results of runs\n",
    "        out = None\n",
    "        for i, x in enumerate(outs):\n",
    "            x = x.mean(dim=0)                  # Take average of all node features of same nodes \n",
    "            x = global_add_pool(x, batch)      # Take the sum of all node features for nodes in same graph \n",
    "            x = self.reps[i](x)                # Run graph features into linear layer to get contrastive representation\n",
    "            if out is None:\n",
    "                out = x\n",
    "            else:\n",
    "                out += x\n",
    "                \n",
    "        # Returns all contrastive graph embeddings in batch \n",
    "        return out\n",
    "    \n",
    "    def prediction(self, data, dropout, num_runs):\n",
    "        self.dropout = dropout\n",
    "        self.num_runs = num_runs\n",
    "        \n",
    "        # Create intermediate representations \n",
    "        x = data.x \n",
    "        edge_index = data.edge_index\n",
    "        batch = data.batch \n",
    "        \n",
    "        # Do runs in parallel, by repeating the graphs in the batch\n",
    "        x = x.unsqueeze(0).expand(self.num_runs, -1, -1).clone()   # Flattens features and creates num_runs copy of them \n",
    "        drop = torch.bernoulli(torch.ones([x.size(0), x.size(1)], device=x.device) * self.p).bool()   #  Returns a tensor of randomly dropped nodes based on p (p = probability of dropping) \n",
    "        x[drop] = torch.zeros([drop.sum().long().item(), x.size(-1)], device=x.device)  # Drop nodes from data  \n",
    "        del drop\n",
    "        \n",
    "        # Stop gradients from updating base model \n",
    "        for layer in self.convs:\n",
    "            for p in layer.parameters():\n",
    "                p.requires_grad = False\n",
    "                \n",
    "        for layer in self.bns:\n",
    "            for p in layer.parameters():\n",
    "                p.requires_grad = False\n",
    "        \n",
    "        # Run augmented subgraph through model \n",
    "        outs = [x]  # Used to store view of x after each layer \n",
    "        x = x.view(-1, x.size(-1))  # Swap dimensions of data features \n",
    "        run_edge_index = edge_index.repeat(1, self.num_runs) + torch.arange(self.num_runs, device=edge_index.device).repeat_interleave(edge_index.size(1)) * (edge_index.max() + 1) # Expand edge_index and augment values\n",
    "        for i in range(self.num_layers):\n",
    "            x = self.convs[i](x, run_edge_index)  # Run node features and edge indices through CONV layer \n",
    "            x = self.bns[i](x)  # Run resulting values through BatchNorm1d\n",
    "            x = F.relu(x)   # Run final values through RELU\n",
    "            outs.append(x.view(self.num_runs, -1, x.size(-1)))    # Rearrange dimensions and append to outs \n",
    "        del run_edge_index\n",
    "        \n",
    "        # Aggregates results of runs by summing mean and applying random dropout (not dropping out nodes)\n",
    "        out = None\n",
    "        for i, x in enumerate(outs):\n",
    "            x = x.mean(dim=0)\n",
    "            x = global_add_pool(x, batch)\n",
    "            x = F.dropout(self.fcs[i](x), p=self.dropout, training=self.training)\n",
    "            if out is None:\n",
    "                out = x\n",
    "            else:\n",
    "                out += x\n",
    "        \n",
    "        # Returns the likelihood of each outcome class\n",
    "        return F.log_softmax(out, dim=-1)  # Swap this with code block below to allow aux loss, removed for simplicity\n",
    "    \n",
    "#         if self.use_aux_loss:\n",
    "#             # Use predictions from individual runs instead of aggregating results of all runs (no mean(x))\n",
    "#             aux_out = torch.zeros(self.num_runs, out.size(0), out.size(1), device=out.device)\n",
    "#             run_batch = batch.repeat(self.num_runs) + torch.arange(self.num_runs, device=edge_index.device).repeat_interleave(batch.size(0)) * (batch.max() + 1) # Assign updated batch numbers such that each individual run is counted separately\n",
    "#             for i, x in enumerate(outs):\n",
    "#                 x = x.view(-1, x.size(-1))\n",
    "#                 x = global_add_pool(x, run_batch)\n",
    "#                 x = x.view(self.num_runs, -1, x.size(-1))\n",
    "#                 x = F.dropout(self.aux_fcs[i](x), p=self.dropout, training=self.training)\n",
    "#                 aux_out += x\n",
    "\n",
    "#             # Returns probabilities of each class based on aggregated results \n",
    "#             return F.log_softmax(out, dim=-1), F.log_softmax(aux_out, dim=-1)\n",
    "#         else:\n",
    "#             return F.log_softmax(out, dim=-1), 0"
   ]
  },
  {
   "cell_type": "markdown",
   "metadata": {
    "id": "fF6Gp8oIf2yR"
   },
   "source": [
    "## Training Modules\n",
    "\n",
    "Note: DropGIN Training Modules are meant for DropGIN model only\n",
    "\n",
    "Changes Made: \n",
    "- Added training function and validation function for contrastive learning \n",
    "- Added training function, validation function, and testing function for prediction task"
   ]
  },
  {
   "cell_type": "markdown",
   "metadata": {},
   "source": [
    "### DropGIN Training Modules"
   ]
  },
  {
   "cell_type": "code",
   "execution_count": 57,
   "metadata": {
    "id": "GB8RAp5Lf2YJ"
   },
   "outputs": [],
   "source": [
    "# Default training function for original DropGIN\n",
    "def train(model, epoch, loader, optimizer):\n",
    "    # Set model to training \n",
    "    model.train()\n",
    "\n",
    "    # Run data through model and update model \n",
    "    loss_all = 0\n",
    "    n = 0\n",
    "    for data in loader:\n",
    "        data = data.to(device)\n",
    "        optimizer.zero_grad()\n",
    "        logs, aux_logs = model(data) \n",
    "        loss = F.nll_loss(logs, data.y) \n",
    "    \n",
    "        if model.use_aux_loss:\n",
    "            aux_loss = F.nll_loss(aux_logs.view(-1, aux_logs.size(-1)), data.y.unsqueeze(0).expand(aux_logs.size(0), -1).clone().view(-1))\n",
    "            loss = 0.75 * loss + 0.25 * aux_loss \n",
    "    \n",
    "        loss.backward()\n",
    "        loss_all += data.num_graphs * loss.item()\n",
    "        n += len(data.y)\n",
    "        optimizer.step()\n",
    "\n",
    "    return loss_all / n"
   ]
  },
  {
   "cell_type": "code",
   "execution_count": 58,
   "metadata": {
    "id": "e36kqtIcpsN-"
   },
   "outputs": [],
   "source": [
    "# Default validation function for original DropGIN, uses nll loss \n",
    "def validate(model, loader):\n",
    "    model.eval()\n",
    "    with torch.no_grad():\n",
    "        loss_all = 0\n",
    "        for data in loader:\n",
    "            data = data.to(device)\n",
    "            logs, aux_logs = model(data)\n",
    "            loss_all += F.nll_loss(logs, data.y, reduction=\"sum\").item()\n",
    "    return loss_all / len(loader.dataset)"
   ]
  },
  {
   "cell_type": "code",
   "execution_count": 59,
   "metadata": {
    "id": "wG80t0A3qRdg"
   },
   "outputs": [],
   "source": [
    "# Default test function for original DropGIN, uses accuracy \n",
    "def test(model, loader):\n",
    "    model.eval()\n",
    "    with torch.no_grad():\n",
    "        correct = 0\n",
    "        for data in loader:\n",
    "            data = data.to(device)\n",
    "            logs, aux_logs = model(data) \n",
    "            pred = logs.max(1)[1]\n",
    "            correct += pred.eq(data.y).sum().item()\n",
    "    return correct / len(loader.dataset)"
   ]
  },
  {
   "cell_type": "markdown",
   "metadata": {},
   "source": [
    "### Contrastive Learning Training Modules"
   ]
  },
  {
   "cell_type": "code",
   "execution_count": 85,
   "metadata": {},
   "outputs": [],
   "source": [
    "# Used to train contrastive model \n",
    "def train_contrastive(model, loader, optimizer, loss_fn, p1 = 0.1, p2 = 0.2):\n",
    "    # Set model to training\n",
    "    model.train()\n",
    "    \n",
    "#     # Create self-supervised loss function\n",
    "#     loss_func = losses.SelfSupervisedLoss(losses.TripletMarginLoss())\n",
    "    \n",
    "    # Run data through model and update model\n",
    "    loss_all = 0\n",
    "    n = 0 \n",
    "    for data in loader: \n",
    "        data = data.to(device)\n",
    "        optimizer.zero_grad()\n",
    "        embeddings_1 = model(data, mode = \"contrastive\", p = p1)\n",
    "        embeddings_2 = model(data, mode = \"contrastive\", p = p2)\n",
    "        \n",
    "        # Used as loss(embeddings, labels)\n",
    "        loss = loss_fn(embeddings_1, embeddings_2)\n",
    "        loss.backward()\n",
    "        optimizer.step() \n",
    "        \n",
    "        loss_all += data.num_graphs * loss.item()\n",
    "        n += data.num_graphs\n",
    "    return loss_all / n"
   ]
  },
  {
   "cell_type": "code",
   "execution_count": 86,
   "metadata": {},
   "outputs": [],
   "source": [
    "# Used to validate contrastive model \n",
    "def valid_contrastive(model, loader, loss_fn, p1 = 0.1, p2 = 0.2):\n",
    "    # Set model to eval\n",
    "    model.eval()\n",
    "    \n",
    "#     # Create self-supervised loss function\n",
    "#     loss_func = losses.SelfSupervisedLoss(losses.TripletMarginLoss())\n",
    "    \n",
    "    with torch.no_grad():\n",
    "        loss_all = 0\n",
    "        n = 0\n",
    "        for data in loader: \n",
    "            data = data.to(device)\n",
    "            embeddings_1 = model(data, mode = \"contrastive\", p = p1)\n",
    "            embeddings_2 = model(data, mode = \"contrastive\", p = p2)\n",
    "            loss = loss_fn(embeddings_1, embeddings_2)\n",
    "            \n",
    "            loss_all += data.num_graphs * loss.item()\n",
    "            n += data.num_graphs\n",
    "    return loss_all / n"
   ]
  },
  {
   "cell_type": "markdown",
   "metadata": {},
   "source": [
    "### Prediction Training Modules"
   ]
  },
  {
   "cell_type": "code",
   "execution_count": 64,
   "metadata": {},
   "outputs": [],
   "source": [
    "# Used to train prediction model AFTER contrastive learning \n",
    "def train_prediction(model, loader, optimizer, dropout = 0.5):\n",
    "    # Set model to training\n",
    "    model.train()\n",
    "    \n",
    "    # Run data through model and update model \n",
    "    loss_all = 0\n",
    "    n = 0\n",
    "    for data in loader:\n",
    "        data = data.to(device)\n",
    "        optimizer.zero_grad()\n",
    "        results = model(data, mode = \"prediction\", dropout = dropout)\n",
    "        loss = F.nll_loss(results, data.y)\n",
    "        \n",
    "#         if model.use_aux_loss:\n",
    "#             aux_loss = F.nll_loss(aux_logs.view(-1, aux_logs.size(-1)), data.y.unsqueeze(0).expand(aux_logs.size(0), -1).clone().view(-1))\n",
    "#             loss = 0.75 * loss + 0.25 * aux_loss \n",
    "    \n",
    "        loss.backward()\n",
    "        loss_all += data.num_graphs * loss.item()\n",
    "        n += len(data.y)\n",
    "        optimizer.step()\n",
    "\n",
    "    return loss_all / n"
   ]
  },
  {
   "cell_type": "code",
   "execution_count": 65,
   "metadata": {},
   "outputs": [],
   "source": [
    "# Used to validate prediction model AFTER contrastive learning, returns loss \n",
    "def valid_prediction(model, loader, dropout = 0.5):\n",
    "    # Set model to eval\n",
    "    model.eval()\n",
    "    \n",
    "    # Run data through model\n",
    "    with torch.no_grad():\n",
    "        loss_all = 0\n",
    "        n = 0\n",
    "        for data in loader:\n",
    "            data = data.to(device)\n",
    "            results = model(data, mode = \"prediction\", dropout = dropout)\n",
    "            loss = F.nll_loss(results, data.y)\n",
    "\n",
    "#             if model.use_aux_loss:\n",
    "#                 aux_loss = F.nll_loss(aux_logs.view(-1, aux_logs.size(-1)), data.y.unsqueeze(0).expand(aux_logs.size(0), -1).clone().view(-1))\n",
    "#                 loss = 0.75 * loss + 0.25 * aux_loss \n",
    "                \n",
    "            loss_all += data.num_graphs * loss.item()\n",
    "            n += len(data.y)\n",
    "\n",
    "    return loss_all / n"
   ]
  },
  {
   "cell_type": "code",
   "execution_count": 17,
   "metadata": {},
   "outputs": [],
   "source": [
    "# Used to test prediction model AFTER contrastive learning, returns accuracy\n",
    "def test_prediction(model, loader, dropout = 0.5):\n",
    "    # Set model to eval\n",
    "    model.eval() \n",
    "    \n",
    "    # Run data through model and make predictions\n",
    "    with torch.no_grad():\n",
    "        correct = 0\n",
    "        for data in loader: \n",
    "            data = data.to(device)\n",
    "            results = model(data, mode = \"prediction\", dropout = dropout)\n",
    "            pred = results.max(1)[1]\n",
    "            correct += pred.eq(data.y).sum().item()\n",
    "    return correct / len(loader.dataset)"
   ]
  },
  {
   "cell_type": "markdown",
   "metadata": {
    "id": "YyriXAImrdTd"
   },
   "source": [
    "## Split Dataset into K-Folds"
   ]
  },
  {
   "cell_type": "code",
   "execution_count": 66,
   "metadata": {
    "id": "3wui_6Yerfn-"
   },
   "outputs": [],
   "source": [
    "def separate_data(dataset_len, seed=0):\n",
    "    folds = StratifiedKFold(n_splits=10, shuffle=True, random_state=seed)\n",
    "    idx_list = []\n",
    "    for idx in folds.split(np.zeros(dataset_len), np.zeros(dataset_len)):\n",
    "        idx_list.append(idx)\n",
    "    return idx_list"
   ]
  },
  {
   "cell_type": "markdown",
   "metadata": {
    "id": "RK_8wBdMgBjj"
   },
   "source": [
    "## Run DropGIN Model"
   ]
  },
  {
   "cell_type": "raw",
   "metadata": {
    "colab": {
     "base_uri": "https://localhost:8080/"
    },
    "id": "nQjeCJN-c8og",
    "outputId": "fe7dd714-7d4d-4de8-a3ad-42e2eacae683"
   },
   "source": [
    "# Set random seeds\n",
    "torch.manual_seed(0)\n",
    "np.random.seed(0)\n",
    "\n",
    "# Set batch size\n",
    "BATCH = 32    # Default batch size in DropGNN\n",
    "\n",
    "# Set number of epochs\n",
    "NUM_EPOCHS = 100\n",
    "\n",
    "# Use GPU if available\n",
    "device = torch.device('cuda' if torch.cuda.is_available() else 'cpu')\n",
    "print(f\"Device: {device}\")"
   ]
  },
  {
   "cell_type": "raw",
   "metadata": {
    "id": "7qE6ky4lgAFF"
   },
   "source": [
    "# Create model\n",
    "model = DropGIN(64, 0.5).to(device)\n",
    "\n",
    "# Split dataset\n",
    "n = len(dataset)\n",
    "splits = separate_data(n, seed=0)"
   ]
  },
  {
   "cell_type": "raw",
   "metadata": {
    "colab": {
     "base_uri": "https://localhost:8080/"
    },
    "id": "diafNwnnsw1d",
    "outputId": "4a95e6a7-31bd-46d4-9020-05c85ab17924"
   },
   "source": [
    "# Train model\n",
    "acc = []\n",
    "for i, (train_idx, valid_idx) in enumerate(splits[2:3]): # TODO: Change back to all splits\n",
    "    model.reset_parameters()    # Resets upon every new fold \n",
    "    lr = 0.01\n",
    "    optimizer = torch.optim.Adam(model.parameters(), lr=lr)\n",
    "    scheduler = torch.optim.lr_scheduler.StepLR(optimizer, step_size=50, gamma=0.5) # Used to learn learning rate \n",
    "  \n",
    "    valid_dataset = dataset[valid_idx.tolist()]\n",
    "    train_dataset = dataset[train_idx.tolist()]\n",
    "\n",
    "    valid_loader = DataLoader(valid_dataset, batch_size=BATCH)\n",
    "    # train_loader = DataLoader(train_dataset, batch_size=BATCH)\n",
    "    train_loader = torch.utils.data.DataLoader(train_dataset, sampler=torch.utils.data.RandomSampler(train_dataset, replacement=True, num_samples=int(len(train_dataset)*50/(len(train_dataset)/BATCH))), batch_size=BATCH, drop_last=False, collate_fn=Collater(follow_batch=[],exclude_keys=[]))\n",
    "\n",
    "    # Train model for multiple epochs\n",
    "    valid_acc = 0 \n",
    "    acc_temp = []\n",
    "    for epoch in range(NUM_EPOCHS):\n",
    "        if epoch % 25 == 0:\n",
    "            start = time.time()\n",
    "\n",
    "        lr = scheduler.optimizer.param_groups[0]['lr']\n",
    "        train_loss = train(model, epoch, train_loader, optimizer)\n",
    "        scheduler.step()\n",
    "        valid_acc = test(model, valid_loader)\n",
    "        acc_temp.append(valid_acc)\n",
    "\n",
    "        if epoch % 25 == 0:\n",
    "            print('Epoch: {:03d}, LR: {:7f}, Train Loss: {:.7f}, '\n",
    "                'Val Loss: {:.7f}, Test Acc: {:.7f}, Time: {:7f}'.format(\n",
    "                    epoch, lr, train_loss, 0, valid_acc, time.time() - start), flush=True)\n",
    "\n",
    "    acc.append(torch.tensor(acc_temp))\n",
    "\n",
    "acc = torch.stack(acc, dim=0)\n",
    "acc_mean = acc.mean(dim=0)\n",
    "best_epoch = acc_mean.argmax().item()"
   ]
  },
  {
   "cell_type": "raw",
   "metadata": {
    "colab": {
     "base_uri": "https://localhost:8080/"
    },
    "id": "_Uu-W5AzzMoH",
    "outputId": "2dff7bd7-286e-41d3-ac71-2c32ed8f4232"
   },
   "source": [
    "# Note: std won't work if only using one k-fold \n",
    "\n",
    "print('---------------- Final Epoch Result ----------------')\n",
    "print('Mean: {:7f}, Std: {:7f}'.format(acc[:,-1].mean(), acc[:,-1].std()))\n",
    "print(f'---------------- Best Epoch: {best_epoch} ----------------')\n",
    "print('Mean: {:7f}, Std: {:7f}'.format(acc[:,best_epoch].mean(), acc[:,best_epoch].std()), flush=True)"
   ]
  },
  {
   "cell_type": "markdown",
   "metadata": {},
   "source": [
    "## Run DropGNN + Contrastive Learning Model"
   ]
  },
  {
   "cell_type": "code",
   "execution_count": 100,
   "metadata": {},
   "outputs": [
    {
     "name": "stdout",
     "output_type": "stream",
     "text": [
      "Device: cuda\n"
     ]
    }
   ],
   "source": [
    "# Set random seeds\n",
    "torch.manual_seed(0)\n",
    "np.random.seed(0)\n",
    "\n",
    "# Set batch size\n",
    "BATCH = 32    # Default batch size in DropGNN\n",
    "\n",
    "# Set number of epochs\n",
    "NUM_EPOCHS = 25\n",
    "\n",
    "# Set node dropout probabilities \n",
    "p1 = 0.1\n",
    "p2 = 0.2\n",
    "\n",
    "# Set embedding dropout probabilities \n",
    "dropout = 0.5\n",
    "\n",
    "# Use GPU if available\n",
    "device = torch.device('cuda' if torch.cuda.is_available() else 'cpu')\n",
    "print(f\"Device: {device}\")"
   ]
  },
  {
   "cell_type": "code",
   "execution_count": 101,
   "metadata": {},
   "outputs": [],
   "source": [
    "# Create model\n",
    "model = DropGNN_Contrastive(num_features=dataset.num_features, num_reps=32, num_classes=dataset.num_classes, hidden_units=64).to(device)\n",
    "\n",
    "# Split dataset\n",
    "n = len(dataset)\n",
    "splits = separate_data(n, seed=2)"
   ]
  },
  {
   "cell_type": "code",
   "execution_count": 102,
   "metadata": {
    "scrolled": true
   },
   "outputs": [
    {
     "name": "stdout",
     "output_type": "stream",
     "text": [
      "Epoch: 000, LR: 0.001000, Train Loss: 0.2565527, Val Loss: 0.2155473, Time: 1.471770\n",
      "Epoch: 001, LR: 0.001000, Train Loss: 0.1710394, Val Loss: 0.1847021, Time: 1.246302\n",
      "Epoch: 002, LR: 0.001000, Train Loss: 0.1476834, Val Loss: 0.1850543, Time: 1.180802\n",
      "Epoch: 003, LR: 0.001000, Train Loss: 0.1656873, Val Loss: 0.1611893, Time: 1.230057\n",
      "Epoch: 004, LR: 0.001000, Train Loss: 0.1469223, Val Loss: 0.1668350, Time: 1.212219\n",
      "Epoch: 005, LR: 0.001000, Train Loss: 0.1720805, Val Loss: 0.1655489, Time: 1.455952\n",
      "Epoch: 006, LR: 0.001000, Train Loss: 0.1650359, Val Loss: 0.1676911, Time: 1.361962\n",
      "Epoch: 007, LR: 0.001000, Train Loss: 0.1782687, Val Loss: 0.1656384, Time: 1.251639\n",
      "Epoch: 008, LR: 0.001000, Train Loss: 0.1619395, Val Loss: 0.1676017, Time: 1.473643\n",
      "Epoch: 009, LR: 0.001000, Train Loss: 0.1560792, Val Loss: 0.1689188, Time: 1.278888\n",
      "Epoch: 010, LR: 0.001000, Train Loss: 0.1588135, Val Loss: 0.1598530, Time: 1.513129\n",
      "Epoch: 011, LR: 0.001000, Train Loss: 0.1603609, Val Loss: 0.1549776, Time: 1.304132\n",
      "Epoch: 012, LR: 0.001000, Train Loss: 0.1549578, Val Loss: 0.1555098, Time: 1.261890\n",
      "Epoch: 013, LR: 0.001000, Train Loss: 0.1548785, Val Loss: 0.1612167, Time: 1.266141\n",
      "Epoch: 014, LR: 0.001000, Train Loss: 0.1549262, Val Loss: 0.1510991, Time: 1.299979\n",
      "Epoch: 015, LR: 0.001000, Train Loss: 0.1808212, Val Loss: 0.1667625, Time: 1.226187\n",
      "Epoch: 016, LR: 0.001000, Train Loss: 0.1588191, Val Loss: 0.1566263, Time: 1.219781\n",
      "Epoch: 017, LR: 0.001000, Train Loss: 0.1570430, Val Loss: 0.1592625, Time: 1.216177\n",
      "Epoch: 018, LR: 0.001000, Train Loss: 0.1571903, Val Loss: 0.1636824, Time: 1.226400\n",
      "Epoch: 019, LR: 0.001000, Train Loss: 0.1669585, Val Loss: 0.1568106, Time: 1.213012\n",
      "Epoch: 020, LR: 0.001000, Train Loss: 0.1635061, Val Loss: 0.1588278, Time: 1.223097\n",
      "Epoch: 021, LR: 0.001000, Train Loss: 0.1449342, Val Loss: 0.1589487, Time: 1.229858\n",
      "Epoch: 022, LR: 0.001000, Train Loss: 0.1859700, Val Loss: 0.1583515, Time: 1.216520\n",
      "Epoch: 023, LR: 0.001000, Train Loss: 0.1575928, Val Loss: 0.1512549, Time: 1.218882\n",
      "Epoch: 024, LR: 0.001000, Train Loss: 0.1662097, Val Loss: 0.1543294, Time: 1.228906\n",
      "Epoch: 000, LR: 0.001000, Train Loss: 6.7824280, Val Loss: 3.0846446, Time: 0.621814\n",
      "Epoch: 001, LR: 0.001000, Train Loss: 3.2379964, Val Loss: 1.6394608, Time: 0.615363\n",
      "Epoch: 002, LR: 0.001000, Train Loss: 2.3065023, Val Loss: 1.3564468, Time: 0.626159\n",
      "Epoch: 003, LR: 0.001000, Train Loss: 2.1716248, Val Loss: 1.1139722, Time: 0.619884\n",
      "Epoch: 004, LR: 0.001000, Train Loss: 1.7955942, Val Loss: 0.9885823, Time: 0.620731\n",
      "Epoch: 005, LR: 0.001000, Train Loss: 1.7349206, Val Loss: 0.8759048, Time: 0.619733\n",
      "Epoch: 006, LR: 0.001000, Train Loss: 1.6546797, Val Loss: 0.7862975, Time: 0.618630\n",
      "Epoch: 007, LR: 0.001000, Train Loss: 1.6961066, Val Loss: 0.7749458, Time: 0.618761\n",
      "Epoch: 008, LR: 0.001000, Train Loss: 1.5493035, Val Loss: 0.6830005, Time: 0.623354\n",
      "Epoch: 009, LR: 0.001000, Train Loss: 1.3606198, Val Loss: 0.7246054, Time: 0.623175\n",
      "Epoch: 010, LR: 0.001000, Train Loss: 1.3170172, Val Loss: 0.8863133, Time: 0.624939\n",
      "Epoch: 011, LR: 0.001000, Train Loss: 1.2829235, Val Loss: 0.6638323, Time: 0.615201\n",
      "Epoch: 012, LR: 0.001000, Train Loss: 1.2537290, Val Loss: 0.6564897, Time: 0.621084\n",
      "Epoch: 013, LR: 0.001000, Train Loss: 1.1434737, Val Loss: 0.6958849, Time: 0.621579\n",
      "Epoch: 014, LR: 0.001000, Train Loss: 1.1773196, Val Loss: 0.5676006, Time: 0.615986\n",
      "Epoch: 015, LR: 0.001000, Train Loss: 1.0970217, Val Loss: 0.5224040, Time: 0.614161\n",
      "Epoch: 016, LR: 0.001000, Train Loss: 1.1372433, Val Loss: 0.5409025, Time: 0.617032\n",
      "Epoch: 017, LR: 0.001000, Train Loss: 1.1202248, Val Loss: 0.5686587, Time: 0.618117\n",
      "Epoch: 018, LR: 0.001000, Train Loss: 1.0814822, Val Loss: 0.5174445, Time: 0.620154\n",
      "Epoch: 019, LR: 0.001000, Train Loss: 1.0183655, Val Loss: 0.6742330, Time: 0.617880\n",
      "Epoch: 020, LR: 0.001000, Train Loss: 0.9527133, Val Loss: 0.6357284, Time: 0.620202\n",
      "Epoch: 021, LR: 0.001000, Train Loss: 1.0443610, Val Loss: 0.6712235, Time: 0.630234\n",
      "Epoch: 022, LR: 0.001000, Train Loss: 0.9369362, Val Loss: 0.5080397, Time: 0.628126\n",
      "Epoch: 023, LR: 0.001000, Train Loss: 0.9754310, Val Loss: 0.5445480, Time: 0.623924\n",
      "Epoch: 024, LR: 0.001000, Train Loss: 0.9936446, Val Loss: 0.4950459, Time: 0.615925\n"
     ]
    }
   ],
   "source": [
    "# Run contrastive learning \n",
    "# Train model on different splits, meant to evaluate model, not save best model\n",
    "contrastive_loss = []\n",
    "prediction_loss = []\n",
    "for i, (train_idx, test_idx) in enumerate(splits[:1]): # TODO: Change back to all splits\n",
    "    # Create training and testing datasets\n",
    "    train_dataset = dataset[train_idx.tolist()]\n",
    "    test_dataset = dataset[test_idx.tolist()]\n",
    "    train_loader = torch.utils.data.DataLoader(train_dataset, sampler=torch.utils.data.RandomSampler(train_dataset, replacement=True, num_samples=int(len(train_dataset)*50/(len(train_dataset)/BATCH))), batch_size=BATCH, drop_last=False, collate_fn=Collater(follow_batch=[],exclude_keys=[]))\n",
    "    test_loader = DataLoader(test_dataset, batch_size=BATCH)\n",
    "    \n",
    "    # Set up for contrastive learning\n",
    "    model.reset_parameters()    # Resets upon every new fold \n",
    "    lr = 0.001   # Starting learning rate for each split \n",
    "    loss_func = losses.SelfSupervisedLoss(losses.NTXentLoss())   # Specify contrastive loss function to use \n",
    "    optimizer = torch.optim.Adam(model.parameters(), lr=lr)      # Optimizer for model to use \n",
    "    scheduler = torch.optim.lr_scheduler.StepLR(optimizer, step_size=50, gamma=0.5) # Used to adjust learning rate while training \n",
    "    m = 1  # How often updates get printed\n",
    "\n",
    "    # CONTRASTIVE LEARNING: Train model on contrastive representation \n",
    "    temp_losses = []\n",
    "    for epoch in range(NUM_EPOCHS):\n",
    "        if epoch % m == 0:\n",
    "            start = time.time()\n",
    "\n",
    "        lr = scheduler.optimizer.param_groups[0]['lr']\n",
    "        train_loss = train_contrastive(model, train_loader, optimizer, loss_func, p1=p1, p2=p2)\n",
    "        scheduler.step()\n",
    "        test_loss = valid_contrastive(model, test_loader, loss_func, p1=p1, p2=p2)\n",
    "        temp_losses.append(test_loss)\n",
    "\n",
    "        if epoch % m == 0:\n",
    "            print('Epoch: {:03d}, LR: {:7f}, Train Loss: {:.7f}, '\n",
    "                'Val Loss: {:.7f}, Time: {:7f}'.format(\n",
    "                    epoch, lr, train_loss, test_loss, time.time() - start), flush=True)\n",
    "            \n",
    "    # Append all losses recorded for this split \n",
    "    contrastive_loss.append(torch.tensor(temp_losses))\n",
    "    \n",
    "    # Set up for prediction \n",
    "    lr = 0.001   # Starting learning rate for each split \n",
    "    optimizer = torch.optim.Adam(model.parameters(), lr=lr)      # Optimizer for model to use \n",
    "    scheduler = torch.optim.lr_scheduler.StepLR(optimizer, step_size=50, gamma=0.5) # Used to adjust learning rate while training \n",
    "    m = 1  # How often updates get printed\n",
    "    \n",
    "    # PREDICTION: Train model using contrastive representation to make predictions \n",
    "    temp_losses = []\n",
    "    for epoch in range(NUM_EPOCHS):\n",
    "        if epoch % m == 0:\n",
    "            start = time.time()\n",
    "\n",
    "        lr = scheduler.optimizer.param_groups[0]['lr']\n",
    "        train_loss = train_prediction(model, train_loader, optimizer, dropout=dropout)\n",
    "        scheduler.step()\n",
    "        test_loss = valid_prediction(model, test_loader, dropout=dropout)\n",
    "        temp_losses.append(test_loss)\n",
    "\n",
    "        if epoch % m == 0:\n",
    "            print('Epoch: {:03d}, LR: {:7f}, Train Loss: {:.7f}, '\n",
    "                'Val Loss: {:.7f}, Time: {:7f}'.format(\n",
    "                    epoch, lr, train_loss, test_loss, time.time() - start), flush=True)\n",
    "    \n",
    "    # Append all losses recorded for this split \n",
    "    prediction_loss.append(torch.tensor(temp_losses))\n",
    "    \n",
    "# Calculate average contrastive loss and return best epoch for contrastive loss\n",
    "contrastive_loss = torch.stack(contrastive_loss, dim=0)\n",
    "contrastive_loss_mean = contrastive_loss.mean(dim=0)\n",
    "best_contrastive_epoch = contrastive_loss_mean.argmin().item()\n",
    "\n",
    "# Calculate average prediction loss and return best epoch for predictions \n",
    "prediction_loss = torch.stack(prediction_loss, dim=0)\n",
    "prediction_loss_mean = prediction_loss.mean(dim=0)\n",
    "best_prediction_epoch = prediction_loss_mean.argmin().item()"
   ]
  },
  {
   "cell_type": "code",
   "execution_count": 110,
   "metadata": {},
   "outputs": [
    {
     "name": "stdout",
     "output_type": "stream",
     "text": [
      "Average Contrastive Loss\n",
      "tensor([0.2155, 0.1847, 0.1851, 0.1612, 0.1668, 0.1655, 0.1677, 0.1656, 0.1676,\n",
      "        0.1689, 0.1599, 0.1550, 0.1555, 0.1612, 0.1511, 0.1668, 0.1566, 0.1593,\n",
      "        0.1637, 0.1568, 0.1588, 0.1589, 0.1584, 0.1513, 0.1543]) \n",
      "\n",
      "Best Contrastive Loss Epoch 14\n"
     ]
    }
   ],
   "source": [
    "# Print metrics from contrastive learning \n",
    "print(f\"Average Contrastive Loss\")\n",
    "print(f\"{contrastive_loss_mean} \\n\")\n",
    "print(f\"Best Contrastive Loss Epoch {best_contrastive_epoch}\")"
   ]
  },
  {
   "cell_type": "code",
   "execution_count": 111,
   "metadata": {},
   "outputs": [
    {
     "name": "stdout",
     "output_type": "stream",
     "text": [
      "Average Prediction Loss\n",
      "tensor([3.0846, 1.6395, 1.3564, 1.1140, 0.9886, 0.8759, 0.7863, 0.7749, 0.6830,\n",
      "        0.7246, 0.8863, 0.6638, 0.6565, 0.6959, 0.5676, 0.5224, 0.5409, 0.5687,\n",
      "        0.5174, 0.6742, 0.6357, 0.6712, 0.5080, 0.5445, 0.4950]) \n",
      "\n",
      "Best Prediction Loss Epoch 24\n"
     ]
    }
   ],
   "source": [
    "# Print metrics from prediction learning \n",
    "print(f\"Average Prediction Loss\")\n",
    "print(f\"{prediction_loss_mean} \\n\")\n",
    "print(f\"Best Prediction Loss Epoch {best_prediction_epoch}\")"
   ]
  }
 ],
 "metadata": {
  "accelerator": "GPU",
  "colab": {
   "gpuType": "T4",
   "provenance": []
  },
  "gpuClass": "standard",
  "kernelspec": {
   "display_name": "Python (myenv)",
   "language": "python",
   "name": "my-env"
  },
  "language_info": {
   "codemirror_mode": {
    "name": "ipython",
    "version": 3
   },
   "file_extension": ".py",
   "mimetype": "text/x-python",
   "name": "python",
   "nbconvert_exporter": "python",
   "pygments_lexer": "ipython3",
   "version": "3.8.15"
  }
 },
 "nbformat": 4,
 "nbformat_minor": 1
}
