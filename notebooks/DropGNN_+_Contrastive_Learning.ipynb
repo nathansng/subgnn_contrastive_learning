{
 "cells": [
  {
   "cell_type": "markdown",
   "metadata": {
    "id": "Bv46oqe2DpeK"
   },
   "source": [
    "# DropGNN + Contrastive Learning Prototyping"
   ]
  },
  {
   "cell_type": "markdown",
   "metadata": {
    "id": "gdzu3FAaGB64"
   },
   "source": [
    "Work based off of DropGNN\n",
    "\n",
    "https://arxiv.org/pdf/2111.06283.pdf \n",
    "\n",
    "https://github.com/KarolisMart/DropGNN "
   ]
  },
  {
   "cell_type": "code",
   "execution_count": 2,
   "metadata": {
    "id": "cmcqq2oyHCvQ"
   },
   "outputs": [],
   "source": [
    "import os.path as osp\n",
    "import numpy as np\n",
    "import networkx as nx\n",
    "import time\n",
    "import random\n",
    "import matplotlib.pyplot as plt\n",
    "import torch\n",
    "from torch import nn\n",
    "import torch.nn.functional as F\n",
    "from sklearn.model_selection import StratifiedKFold\n",
    "\n",
    "\n",
    "# Torch Geometric \n",
    "try: \n",
    "    from torch_geometric.data import DataLoader, Data\n",
    "    from torch_geometric.data.dataloader import Collater\n",
    "    from torch_geometric.datasets import TUDataset\n",
    "    from torch_geometric.utils import degree\n",
    "    from torch_geometric.utils.convert import from_networkx\n",
    "    from torch_geometric.nn import GINConv, GINEConv, global_add_pool\n",
    "except ModuleNotFoundError: \n",
    "    !pip install torch_geometric\n",
    "    from torch_geometric.data import DataLoader, Data\n",
    "    from torch_geometric.data.dataloader import Collater\n",
    "    from torch_geometric.datasets import TUDataset\n",
    "    from torch_geometric.utils import degree\n",
    "    from torch_geometric.utils.convert import from_networkx\n",
    "    from torch_geometric.nn import GINConv, GINEConv, global_add_pool\n",
    "    \n",
    "# Pytorch Metric Learning\n",
    "try: \n",
    "    from pytorch_metric_learning import losses\n",
    "except ModuleNotFoundError:\n",
    "    !pip install pytorch-metric-learning\n",
    "    from pytorch_metric_learning import losses"
   ]
  },
  {
   "cell_type": "markdown",
   "metadata": {
    "id": "U4VpVUxbJeBQ"
   },
   "source": [
    "## Import Dataset\n",
    "\n",
    "Use the IMDB-Binary dataset"
   ]
  },
  {
   "cell_type": "code",
   "execution_count": 3,
   "metadata": {
    "id": "kpop90ZxIaZW"
   },
   "outputs": [],
   "source": [
    "class MyFilter(object):\n",
    "    def __call__(self, data):\n",
    "        return data.num_nodes <= 70\n",
    "\n",
    "class MyPreTransform(object):\n",
    "    def __call__(self, data):\n",
    "        data.x = degree(data.edge_index[0], data.num_nodes, dtype=torch.long)\n",
    "        data.x = F.one_hot(data.x, num_classes=69).to(torch.float)\n",
    "        return data "
   ]
  },
  {
   "cell_type": "code",
   "execution_count": 4,
   "metadata": {
    "id": "oPb5CIfZJ0TV"
   },
   "outputs": [],
   "source": [
    "# Download data \n",
    "path = osp.join(osp.dirname(osp.realpath(\"./\")), 'data', f'IMDB-BINARY')\n",
    "\n",
    "dataset = TUDataset(\n",
    "    path, \n",
    "    name = \"IMDB-BINARY\", \n",
    "    pre_transform = MyPreTransform(), \n",
    "    pre_filter = MyFilter()\n",
    ")"
   ]
  },
  {
   "cell_type": "code",
   "execution_count": 5,
   "metadata": {
    "colab": {
     "base_uri": "https://localhost:8080/"
    },
    "id": "w1u0WXdtb_Zj",
    "outputId": "db3223f4-c7a7-4096-aa77-046cfad4b008"
   },
   "outputs": [
    {
     "name": "stdout",
     "output_type": "stream",
     "text": [
      "IMDB-BINARY(996)\n"
     ]
    }
   ],
   "source": [
    "print(dataset)"
   ]
  },
  {
   "cell_type": "markdown",
   "metadata": {
    "id": "MtqTi8B8HrCb"
   },
   "source": [
    "## Original DropGIN Model\n",
    "\n",
    "DropGIN model found in DropGNN paper modified to work without CLI arguments"
   ]
  },
  {
   "cell_type": "code",
   "execution_count": 6,
   "metadata": {
    "id": "C1N3ZszgDkOF"
   },
   "outputs": [],
   "source": [
    "class DropGIN(nn.Module):\n",
    "    def __init__(self, hidden_units, dropout, use_aux_loss=True, num_runs=20, p=0.1):\n",
    "        super(DropGIN, self).__init__()\n",
    "\n",
    "        # Set starting parameters for model \n",
    "        num_features = dataset.num_features # Number of initial features \n",
    "        dim = hidden_units # Number of hidden units per layer \n",
    "        self.dropout = dropout # Dropout rate \n",
    "        self.use_aux_loss = use_aux_loss\n",
    "        self.num_runs = num_runs\n",
    "        self.p = p\n",
    "\n",
    "        # Number of layers in model\n",
    "        self.num_layers = 4\n",
    "\n",
    "        self.convs = nn.ModuleList() # Made of num_layers GINConv (linear -> batchnorm1d -> relu -> linear)\n",
    "        self.bns = nn.ModuleList() # Made of num_layers BatchNorm1d \n",
    "        self.fcs = nn.ModuleList() # Made of num_layers + 1 Linear layers mapping from num_features or dim to num_classes\n",
    "\n",
    "        # Add initial layer from num_features to dim \n",
    "        self.convs.append(GINConv(nn.Sequential(nn.Linear(num_features, dim), nn.BatchNorm1d(dim), nn.ReLU(), nn.Linear(dim, dim))))\n",
    "        self.bns.append(nn.BatchNorm1d(dim))\n",
    "        self.fcs.append(nn.Linear(num_features, dataset.num_classes))\n",
    "        self.fcs.append(nn.Linear(dim, dataset.num_classes))\n",
    "\n",
    "        # Add additional layers from dim to dim \n",
    "        for i in range(self.num_layers-1):\n",
    "            self.convs.append(GINConv(nn.Sequential(nn.Linear(dim, dim), nn.BatchNorm1d(dim), nn.ReLU(), nn.Linear(dim, dim))))\n",
    "            self.bns.append(nn.BatchNorm1d(dim))\n",
    "            self.fcs.append(nn.Linear(dim, dataset.num_classes))\n",
    "\n",
    "        # Use aux_loss for dropGNN: made of num_layers + 1 linear layers \n",
    "        # Adds new module list of linear layers \n",
    "        if self.use_aux_loss:\n",
    "            self.aux_fcs = nn.ModuleList()\n",
    "            self.aux_fcs.append(nn.Linear(num_features, dataset.num_classes))\n",
    "            for i in range(self.num_layers):\n",
    "                self.aux_fcs.append(nn.Linear(dim, dataset.num_classes))\n",
    "        \n",
    "    def reset_parameters(self):\n",
    "        # Resets parameters for Linear, GINConv, and BatchNorm1d layers\n",
    "        for m in self.modules():\n",
    "            if isinstance(m, nn.Linear):\n",
    "                m.reset_parameters()\n",
    "            elif isinstance(m, GINConv):\n",
    "                m.reset_parameters()\n",
    "            elif isinstance(m, nn.BatchNorm1d):\n",
    "                m.reset_parameters()\n",
    "\n",
    "    def forward(self, data, temp):\n",
    "        # Note: num_runs in DropGNN is average number of nodes in each graph in dataset\n",
    "        # Note: p is 2 * 1 / (1 + gamma), but for this project, p is selected to create augmented views \n",
    "\n",
    "        x = data.x\n",
    "        edge_index = data.edge_index\n",
    "        batch = data.batch\n",
    "            \n",
    "        # Do runs in parallel, by repeating the graphs in the batch\n",
    "        x = x.unsqueeze(0).expand(self.num_runs, -1, -1).clone()   # Flattens features and creates num_runs copy of them \n",
    "        drop = torch.bernoulli(torch.ones([x.size(0), x.size(1)], device=x.device) * self.p).bool()   #  Returns a tensor of randomly dropped nodes based on p (p = probability of dropping) \n",
    "        x[drop] = torch.zeros([drop.sum().long().item(), x.size(-1)], device=x.device)  # Drop nodes from data  \n",
    "        del drop\n",
    "\n",
    "        # Run augmented subgraph through model \n",
    "        outs = [x]  # Used to store view of x after each layer \n",
    "        x = x.view(-1, x.size(-1))  # Swap dimensions of data features \n",
    "        run_edge_index = edge_index.repeat(1, self.num_runs) + torch.arange(self.num_runs, device=edge_index.device).repeat_interleave(edge_index.size(1)) * (edge_index.max() + 1) # Expand edge_index and augment values\n",
    "        for i in range(self.num_layers):\n",
    "            x = self.convs[i](x, run_edge_index)  # Run node features and edge indices through CONV layer \n",
    "            x = self.bns[i](x)  # Run resulting values through BatchNorm1d\n",
    "            x = F.relu(x)   # Run final values through RELU\n",
    "            outs.append(x.view(self.num_runs, -1, x.size(-1)))    # Rearrange dimensions and append to outs \n",
    "        del run_edge_index\n",
    "\n",
    "        # TODO: Replace this with replacable head for contrastive learning and making predictions \n",
    "        # Aggregates results of runs by summing mean and applying random dropout (not dropping out nodes)\n",
    "        out = None\n",
    "        for i, x in enumerate(outs):\n",
    "            x = x.mean(dim=0)\n",
    "            x = global_add_pool(x, batch)\n",
    "            x = F.dropout(self.fcs[i](x), p=self.dropout, training=self.training)\n",
    "            if out is None:\n",
    "                out = x\n",
    "            else:\n",
    "                out += x\n",
    "\n",
    "        if self.use_aux_loss:\n",
    "            aux_out = torch.zeros(self.num_runs, out.size(0), out.size(1), device=out.device)\n",
    "            run_batch = batch.repeat(self.num_runs) + torch.arange(self.num_runs, device=edge_index.device).repeat_interleave(batch.size(0)) * (batch.max() + 1)\n",
    "            for i, x in enumerate(outs):\n",
    "                x = x.view(-1, x.size(-1))\n",
    "                x = global_add_pool(x, run_batch)\n",
    "                x = x.view(self.num_runs, -1, x.size(-1))\n",
    "                x = F.dropout(self.aux_fcs[i](x), p=self.dropout, training=self.training)\n",
    "                aux_out += x\n",
    "\n",
    "            # Returns probabilities of each class based on aggregated results \n",
    "            return F.log_softmax(out, dim=-1), F.log_softmax(aux_out, dim=-1)\n",
    "        else:\n",
    "            return F.log_softmax(out, dim=-1), 0"
   ]
  },
  {
   "cell_type": "markdown",
   "metadata": {},
   "source": [
    "## DropGNN + Contrastive Learning Model\n",
    "\n",
    "Copy of DropGIN model with Contrastive Learning Forward methods added\n",
    "\n",
    "Changes made: \n",
    "- Added more arguments when initializing model instead of depending on global variables \n",
    "- Changed how the forward function is called and run\n",
    "- Add two different forward functions\n",
    "    - Contrastive Forward: Runs graph data through the base model and returns a representation vector \n",
    "    - Prediction Forward: Runs graph data through the base model and returns a probablity vector for each class "
   ]
  },
  {
   "cell_type": "code",
   "execution_count": 7,
   "metadata": {},
   "outputs": [],
   "source": [
    "class DropGNN_Contrastive(nn.Module):\n",
    "    def __init__(self, num_features, num_reps, num_classes, hidden_units, use_aux_loss=True):\n",
    "        super(DropGIN, self).__init__()\n",
    "\n",
    "        # Set starting parameters for model \n",
    "        self.num_features = num_features   # Number of initial features \n",
    "        self.num_reps = num_reps           # Number of features in representation vector \n",
    "        self.num_classes = num_classes     # Number of different classes\n",
    "        self.dim = hidden_units            # Number of units for hidden layers\n",
    "        self.use_aux_loss = use_aux_loss   # Whether to include aux loss to total loss\n",
    "\n",
    "        # Number of layers in model\n",
    "        self.num_layers = 4\n",
    "\n",
    "        self.convs = nn.ModuleList()                     # Made of num_layers GINConv (linear -> batchnorm1d -> relu -> linear)\n",
    "        self.bns = nn.ModuleList()                       # Made of num_layers BatchNorm1d \n",
    "        self.reps = nn.Linear(self.dim, self.num_reps)   # Layer between base model and contrastive learning representation\n",
    "        self.fcs = nn.ModuleList()                       # Made of num_layers + 1 Linear layers mapping from num_features or dim to num_reps\n",
    "\n",
    "        # Add initial layer from num_features to dim \n",
    "        self.convs.append(GINConv(nn.Sequential(nn.Linear(self.num_features, self.dim), nn.BatchNorm1d(self.dim), nn.ReLU(), nn.Linear(self.dim, self.dim))))\n",
    "        self.bns.append(nn.BatchNorm1d(self.dim))\n",
    "        self.fcs.append(nn.Linear(self.num_features, self.num_classes))\n",
    "        self.fcs.append(nn.Linear(self.dim, self.num_classes))\n",
    "\n",
    "        # Add additional layers from dim to dim \n",
    "        for i in range(self.num_layers-1):\n",
    "            self.convs.append(GINConv(nn.Sequential(nn.Linear(self.dim, self.dim), nn.BatchNorm1d(self.dim), nn.ReLU(), nn.Linear(self.dim, self.dim))))\n",
    "            self.bns.append(nn.BatchNorm1d(self.dim))\n",
    "            self.fcs.append(nn.Linear(self.dim, self.num_classes))\n",
    "\n",
    "        # Use aux_loss for dropGNN: made of num_layers + 1 linear layers \n",
    "        # Adds new module list of linear layers \n",
    "        if self.use_aux_loss:\n",
    "            self.aux_fcs = nn.ModuleList()\n",
    "            self.aux_fcs.append(nn.Linear(self.num_features, self.num_classes))\n",
    "            for i in range(self.num_layers):\n",
    "                self.aux_fcs.append(nn.Linear(self.dim, self.num_classes))\n",
    "        \n",
    "    def reset_parameters(self):\n",
    "        # Resets parameters for Linear, GINConv, and BatchNorm1d layers\n",
    "        for m in self.modules():\n",
    "            if isinstance(m, nn.Linear):\n",
    "                m.reset_parameters()\n",
    "            elif isinstance(m, GINConv):\n",
    "                m.reset_parameters()\n",
    "            elif isinstance(m, nn.BatchNorm1d):\n",
    "                m.reset_parameters()\n",
    "                \n",
    "    def forward(self, data, mode=\"test\", p=None, dropout=None, num_runs=20):\n",
    "        # Runs different modes based on whether running contrastive loss or making predictions\n",
    "        if mode == 'contrastive':\n",
    "            return self.contrastive(data, p, num_runs)\n",
    "        else:\n",
    "            return self.prediction(data, dropout, num_runs)\n",
    "        \n",
    "    def contrastive(self, data, p, num_runs):\n",
    "        # Trains contrastive model and representation vector model \n",
    "        \n",
    "        # Note: num_runs in DropGNN is average number of nodes in each graph in dataset\n",
    "        # Note: p is 2 * 1 / (1 + gamma), but for this project, p is selected to create augmented views \n",
    "        \n",
    "        self.p = p\n",
    "        self.num_runs = num_runs\n",
    "        \n",
    "        x = data.x\n",
    "        edge_index = data.edge_index\n",
    "        batch = data.batch \n",
    "        \n",
    "        # Do runs in parallel, by repeating the graphs in the batch\n",
    "        x = x.unsqueeze(0).expand(self.num_runs, -1, -1).clone()   # Flattens features and creates num_runs copy of them \n",
    "        drop = torch.bernoulli(torch.ones([x.size(0), x.size(1)], device=x.device) * self.p).bool()   #  Returns a tensor of randomly dropped nodes based on p (p = probability of dropping) \n",
    "        x[drop] = torch.zeros([drop.sum().long().item(), x.size(-1)], device=x.device)  # Drop nodes from data  \n",
    "        del drop\n",
    "        \n",
    "        # Allow gradients to update base model \n",
    "        if self.training:\n",
    "            for layer in self.convs:\n",
    "                for p in layer.parameters():\n",
    "                    p.requires_grad = True\n",
    "\n",
    "            for layer in self.bns:\n",
    "                for p in layer.parameters():\n",
    "                    p.requires_grad = True\n",
    "        \n",
    "        # Run augmented subgraph through model \n",
    "        outs = [x]  # Used to store view of x after each layer \n",
    "        x = x.view(-1, x.size(-1))  # Swap dimensions of data features \n",
    "        run_edge_index = edge_index.repeat(1, self.num_runs) + torch.arange(self.num_runs, device=edge_index.device).repeat_interleave(edge_index.size(1)) * (edge_index.max() + 1) # Expand edge_index and augment values\n",
    "        for i in range(self.num_layers):\n",
    "            x = self.convs[i](x, run_edge_index)  # Run node features and edge indices through CONV layer \n",
    "            x = self.bns[i](x)  # Run resulting values through BatchNorm1d\n",
    "            x = F.relu(x)   # Run final values through RELU\n",
    "            outs.append(x.view(self.num_runs, -1, x.size(-1)))    # Rearrange dimensions and append to outs \n",
    "        del run_edge_index\n",
    "        \n",
    "        # Turn intermediate representation into contrastive representation\n",
    "        x = self.reps(x)\n",
    "        return x\n",
    "    \n",
    "    def prediction(self, data, dropout, num_runs):\n",
    "        self.dropout = dropout\n",
    "        self.num_runs = num_runs\n",
    "        \n",
    "        # Create intermediate representations \n",
    "        x = data.x \n",
    "        edge_index = data.edge_index\n",
    "        batch = data.batch \n",
    "        \n",
    "        # Do runs in parallel, by repeating the graphs in the batch\n",
    "        x = x.unsqueeze(0).expand(self.num_runs, -1, -1).clone()   # Flattens features and creates num_runs copy of them \n",
    "        drop = torch.bernoulli(torch.ones([x.size(0), x.size(1)], device=x.device) * self.p).bool()   #  Returns a tensor of randomly dropped nodes based on p (p = probability of dropping) \n",
    "        x[drop] = torch.zeros([drop.sum().long().item(), x.size(-1)], device=x.device)  # Drop nodes from data  \n",
    "        del drop\n",
    "        \n",
    "        # Stop gradients from updating base model \n",
    "        for layer in self.convs:\n",
    "            for p in layer.parameters():\n",
    "                p.requires_grad = False\n",
    "                \n",
    "        for layer in self.bns:\n",
    "            for p in layer.parameters():\n",
    "                p.requires_grad = False\n",
    "        \n",
    "        # Run augmented subgraph through model \n",
    "        outs = [x]  # Used to store view of x after each layer \n",
    "        x = x.view(-1, x.size(-1))  # Swap dimensions of data features \n",
    "        run_edge_index = edge_index.repeat(1, self.num_runs) + torch.arange(self.num_runs, device=edge_index.device).repeat_interleave(edge_index.size(1)) * (edge_index.max() + 1) # Expand edge_index and augment values\n",
    "        for i in range(self.num_layers):\n",
    "            x = self.convs[i](x, run_edge_index)  # Run node features and edge indices through CONV layer \n",
    "            x = self.bns[i](x)  # Run resulting values through BatchNorm1d\n",
    "            x = F.relu(x)   # Run final values through RELU\n",
    "            outs.append(x.view(self.num_runs, -1, x.size(-1)))    # Rearrange dimensions and append to outs \n",
    "        del run_edge_index\n",
    "        \n",
    "        # Aggregates results of runs by summing mean and applying random dropout (not dropping out nodes)\n",
    "        out = None\n",
    "        for i, x in enumerate(outs):\n",
    "            x = x.mean(dim=0)\n",
    "            x = global_add_pool(x, batch)\n",
    "            x = F.dropout(self.fcs[i](x), p=self.dropout, training=self.training)\n",
    "            if out is None:\n",
    "                out = x\n",
    "            else:\n",
    "                out += x\n",
    "\n",
    "        if self.use_aux_loss:\n",
    "            aux_out = torch.zeros(self.num_runs, out.size(0), out.size(1), device=out.device)\n",
    "            run_batch = batch.repeat(self.num_runs) + torch.arange(self.num_runs, device=edge_index.device).repeat_interleave(batch.size(0)) * (batch.max() + 1)\n",
    "            for i, x in enumerate(outs):\n",
    "                x = x.view(-1, x.size(-1))\n",
    "                x = global_add_pool(x, run_batch)\n",
    "                x = x.view(self.num_runs, -1, x.size(-1))\n",
    "                x = F.dropout(self.aux_fcs[i](x), p=self.dropout, training=self.training)\n",
    "                aux_out += x\n",
    "\n",
    "            # Returns probabilities of each class based on aggregated results \n",
    "            return F.log_softmax(out, dim=-1), F.log_softmax(aux_out, dim=-1)\n",
    "        else:\n",
    "            return F.log_softmax(out, dim=-1), 0"
   ]
  },
  {
   "cell_type": "markdown",
   "metadata": {
    "id": "fF6Gp8oIf2yR"
   },
   "source": [
    "## Training Modules\n",
    "\n",
    "NOTE: Currently, all training modules are for base DropGNN model\n",
    "\n",
    "Changes Made: \n",
    "- Added training function and validation function for contrastive learning \n",
    "- Added training function, validation function, and testing function for prediction task"
   ]
  },
  {
   "cell_type": "markdown",
   "metadata": {},
   "source": [
    "### DropGIN Training Modules"
   ]
  },
  {
   "cell_type": "code",
   "execution_count": 42,
   "metadata": {
    "id": "GB8RAp5Lf2YJ"
   },
   "outputs": [],
   "source": [
    "# Default training function for original DropGIN\n",
    "def train(model, epoch, loader, optimizer):\n",
    "    # Set model to training \n",
    "    model.train()\n",
    "\n",
    "    # Run data through model and update model \n",
    "    loss_all = 0\n",
    "    n = 0\n",
    "    for data in loader:\n",
    "        data = data.to(device)\n",
    "        optimizer.zero_grad()\n",
    "        logs, aux_logs = model(data) \n",
    "        loss = F.nll_loss(logs, data.y) \n",
    "    \n",
    "        if model.use_aux_loss:\n",
    "            aux_loss = F.nll_loss(aux_logs.view(-1, aux_logs.size(-1)), data.y.unsqueeze(0).expand(aux_logs.size(0), -1).clone().view(-1))\n",
    "            loss = 0.75 * loss + 0.25 * aux_loss \n",
    "    \n",
    "        loss.backward()\n",
    "        loss_all += data.num_graphs * loss.item()\n",
    "        n += len(data.y)\n",
    "        optimizer.step()\n",
    "\n",
    "    return loss_all / n"
   ]
  },
  {
   "cell_type": "code",
   "execution_count": 31,
   "metadata": {
    "id": "e36kqtIcpsN-"
   },
   "outputs": [],
   "source": [
    "# Default validation function for original DropGIN, uses nll loss \n",
    "def validate(model, loader):\n",
    "    model.eval()\n",
    "    with torch.no_grad():\n",
    "        loss_all = 0\n",
    "        for data in loader:\n",
    "            data = data.to(device)\n",
    "            logs, aux_logs = model(data)\n",
    "            loss_all += F.nll_loss(logs, data.y, reduction=\"sum\").item()\n",
    "    return loss_all / len(loader.dataset)"
   ]
  },
  {
   "cell_type": "code",
   "execution_count": 43,
   "metadata": {
    "id": "wG80t0A3qRdg"
   },
   "outputs": [],
   "source": [
    "# Default test function for original DropGIN, uses accuracy \n",
    "def test(model, loader):\n",
    "    model.eval()\n",
    "    with torch.no_grad():\n",
    "        correct = 0\n",
    "        for data in loader:\n",
    "            data = data.to(device)\n",
    "            logs, aux_logs = model(data) \n",
    "            pred = logs.max(1)[1]\n",
    "            correct += pred.eq(data.y).sum().item()\n",
    "    return correct / len(loader.dataset)"
   ]
  },
  {
   "cell_type": "markdown",
   "metadata": {},
   "source": [
    "### Contrastive Learning Training Modules"
   ]
  },
  {
   "cell_type": "code",
   "execution_count": 9,
   "metadata": {},
   "outputs": [],
   "source": [
    "# Used to train contrastive model \n",
    "def train_contrastive(model, loader, optimizer, p = 0.1):\n",
    "    # Set model to training\n",
    "    model.train()\n",
    "    \n",
    "    # Create self-supervised loss function\n",
    "    loss_func = losses.SelfSupervisedLoss(losses.TripletMarginLoss())\n",
    "    \n",
    "    # Run data through model and update model\n",
    "    loss_all = 0\n",
    "    n = 0 \n",
    "    for data in loader: \n",
    "        data = data.to(device)\n",
    "        optimizer.zero_grad()\n",
    "        embeddings = model(data, mode = \"contrastive\", p = 0.0)\n",
    "        augmented = model(data, mode = \"contrastive\", p = p)\n",
    "        loss = loss_func(embeddings, augmented)\n",
    "        loss.backward()\n",
    "        optimizer.step() \n",
    "        \n",
    "        loss_all += data.num_graphs * loss.item()\n",
    "        n += data.num_graphs\n",
    "    return loss_all / n"
   ]
  },
  {
   "cell_type": "code",
   "execution_count": null,
   "metadata": {},
   "outputs": [],
   "source": [
    "# Used to validate contrastive model \n",
    "def valid_contrastive(model, loader, p = 0.1):\n",
    "    # Set model to eval\n",
    "    model.eval()\n",
    "    \n",
    "    with torch.no_grad():\n",
    "        loss_all = 0\n",
    "        for data in loader: \n",
    "            data = data.to(device)\n",
    "            embeddings = model(data, mode = \"contrastive\", p = 0.0)\n",
    "            augmented = model(data, mode = \"contrastive\", p = p)\n",
    "            loss = loss_func(embeddings, augmented)\n",
    "            \n",
    "            loss_all += data.num_graphs * loss.item()\n",
    "            n += data.num_graphs\n",
    "            \n",
    "    return loss_all / n"
   ]
  },
  {
   "cell_type": "markdown",
   "metadata": {},
   "source": [
    "### Prediction Training Modules"
   ]
  },
  {
   "cell_type": "code",
   "execution_count": null,
   "metadata": {},
   "outputs": [],
   "source": [
    "# Used to train prediction model AFTER contrastive learning \n",
    "def train_prediction(model, loader, optimizer, dropout = 0.5):\n",
    "    # Set model to training\n",
    "    model.train()\n",
    "    \n",
    "    # Run data through model and update model \n",
    "    loss_all = 0\n",
    "    n = 0\n",
    "    for data in loader:\n",
    "        data = data.to(device)\n",
    "        optimizer.zero_grad()\n",
    "        logs, aux_logs = model(data, mode = \"prediction\", dropout = dropout)\n",
    "        loss = F.nll_loss(logs, data.y)\n",
    "        \n",
    "       if model.use_aux_loss:\n",
    "            aux_loss = F.nll_loss(aux_logs.view(-1, aux_logs.size(-1)), data.y.unsqueeze(0).expand(aux_logs.size(0), -1).clone().view(-1))\n",
    "            loss = 0.75 * loss + 0.25 * aux_loss \n",
    "    \n",
    "        loss.backward()\n",
    "        loss_all += data.num_graphs * loss.item()\n",
    "        n += len(data.y)\n",
    "        optimizer.step()\n",
    "\n",
    "    return loss_all / n"
   ]
  },
  {
   "cell_type": "code",
   "execution_count": null,
   "metadata": {},
   "outputs": [],
   "source": [
    "# Used to validate prediction model AFTER contrastive learning, returns loss \n",
    "def valid_prediction(model, loader, dropout = 0.5):\n",
    "    # Set model to eval\n",
    "    model.eval()\n",
    "    \n",
    "    # Run data through model\n",
    "    with torch.no_grad():\n",
    "        loss_all = 0\n",
    "        n = 0\n",
    "        for data in loader:\n",
    "            data = data.to(device)\n",
    "            logs, aux_logs = model(data, mode = \"prediction\", dropout = dropout)\n",
    "            loss = F.nll_loss(logs, data.y)\n",
    "\n",
    "            if model.use_aux_loss:\n",
    "                aux_loss = F.nll_loss(aux_logs.view(-1, aux_logs.size(-1)), data.y.unsqueeze(0).expand(aux_logs.size(0), -1).clone().view(-1))\n",
    "                loss = 0.75 * loss + 0.25 * aux_loss \n",
    "                \n",
    "            loss_all += data.num_graphs * loss.item()\n",
    "            n += len(data.y)\n",
    "\n",
    "    return loss_all / n"
   ]
  },
  {
   "cell_type": "code",
   "execution_count": null,
   "metadata": {},
   "outputs": [],
   "source": [
    "# Used to test prediction model AFTER contrastive learning, returns accuracy\n",
    "def test_prediction(model, loader, dropout = 0.5):\n",
    "    # Set model to eval\n",
    "    model.eval() \n",
    "    \n",
    "    # Run data through model \n",
    "    with torch.no_grad():\n",
    "        correct = 0\n",
    "        for data in loader: \n",
    "            data = data.to(device)\n",
    "            logs, aux_logs = model(data, mode = \"prediction\", dropout = dropout)\n",
    "            pred = logs.max(1)[1]\n",
    "            correct += pred.eq(data.y).sum().item()\n",
    "    return correct / len(loader.dataset)"
   ]
  },
  {
   "cell_type": "markdown",
   "metadata": {
    "id": "YyriXAImrdTd"
   },
   "source": [
    "## Split Dataset into K-Folds"
   ]
  },
  {
   "cell_type": "code",
   "execution_count": 33,
   "metadata": {
    "id": "3wui_6Yerfn-"
   },
   "outputs": [],
   "source": [
    "def separate_data(dataset_len, seed=0):\n",
    "    folds = StratifiedKFold(n_splits=10, shuffle=True, random_state=seed)\n",
    "    idx_list = []\n",
    "    for idx in folds.split(np.zeros(dataset_len), np.zeros(dataset_len)):\n",
    "        idx_list.append(idx)\n",
    "    return idx_list"
   ]
  },
  {
   "cell_type": "markdown",
   "metadata": {
    "id": "RK_8wBdMgBjj"
   },
   "source": [
    "## Run DropGIN Model"
   ]
  },
  {
   "cell_type": "code",
   "execution_count": 34,
   "metadata": {
    "colab": {
     "base_uri": "https://localhost:8080/"
    },
    "id": "nQjeCJN-c8og",
    "outputId": "fe7dd714-7d4d-4de8-a3ad-42e2eacae683"
   },
   "outputs": [
    {
     "name": "stdout",
     "output_type": "stream",
     "text": [
      "Device: cuda\n"
     ]
    }
   ],
   "source": [
    "# Set random seeds\n",
    "torch.manual_seed(0)\n",
    "np.random.seed(0)\n",
    "\n",
    "# Set batch size\n",
    "BATCH = 32    # Default batch size in DropGNN\n",
    "\n",
    "# Set number of epochs\n",
    "NUM_EPOCHS = 100\n",
    "\n",
    "# Use GPU if available\n",
    "device = torch.device('cuda' if torch.cuda.is_available() else 'cpu')\n",
    "print(f\"Device: {device}\")"
   ]
  },
  {
   "cell_type": "code",
   "execution_count": 38,
   "metadata": {
    "id": "7qE6ky4lgAFF"
   },
   "outputs": [],
   "source": [
    "# Create model\n",
    "model = DropGIN(64, 0.5).to(device)\n",
    "\n",
    "# Split dataset\n",
    "n = len(dataset)\n",
    "splits = separate_data(n, seed=0)"
   ]
  },
  {
   "cell_type": "code",
   "execution_count": null,
   "metadata": {
    "colab": {
     "base_uri": "https://localhost:8080/"
    },
    "id": "diafNwnnsw1d",
    "outputId": "4a95e6a7-31bd-46d4-9020-05c85ab17924"
   },
   "outputs": [],
   "source": [
    "# Train model\n",
    "acc = []\n",
    "for i, (train_idx, valid_idx) in enumerate(splits[2:3]): # TODO: Change back to all splits\n",
    "    model.reset_parameters()    # Resets upon every new fold \n",
    "    lr = 0.01\n",
    "    optimizer = torch.optim.Adam(model.parameters(), lr=lr)\n",
    "    scheduler = torch.optim.lr_scheduler.StepLR(optimizer, step_size=50, gamma=0.5) # Used to learn learning rate \n",
    "  \n",
    "    valid_dataset = dataset[valid_idx.tolist()]\n",
    "    train_dataset = dataset[train_idx.tolist()]\n",
    "\n",
    "    valid_loader = DataLoader(valid_dataset, batch_size=BATCH)\n",
    "    # train_loader = DataLoader(train_dataset, batch_size=BATCH)\n",
    "    train_loader = torch.utils.data.DataLoader(train_dataset, sampler=torch.utils.data.RandomSampler(train_dataset, replacement=True, num_samples=int(len(train_dataset)*50/(len(train_dataset)/BATCH))), batch_size=BATCH, drop_last=False, collate_fn=Collater(follow_batch=[],exclude_keys=[]))\n",
    "\n",
    "    # Train model for multiple epochs\n",
    "    valid_acc = 0 \n",
    "    acc_temp = []\n",
    "    for epoch in range(NUM_EPOCHS):\n",
    "        if epoch % 25 == 0:\n",
    "            start = time.time()\n",
    "\n",
    "        lr = scheduler.optimizer.param_groups[0]['lr']\n",
    "        train_loss = train(model, epoch, train_loader, optimizer)\n",
    "        scheduler.step()\n",
    "        valid_acc = test(model, valid_loader)\n",
    "        acc_temp.append(valid_acc)\n",
    "\n",
    "        if epoch % 25 == 0:\n",
    "            print('Epoch: {:03d}, LR: {:7f}, Train Loss: {:.7f}, '\n",
    "                'Val Loss: {:.7f}, Test Acc: {:.7f}, Time: {:7f}'.format(\n",
    "                    epoch, lr, train_loss, 0, valid_acc, time.time() - start), flush=True)\n",
    "\n",
    "    acc.append(torch.tensor(acc_temp))\n",
    "\n",
    "acc = torch.stack(acc, dim=0)\n",
    "acc_mean = acc.mean(dim=0)\n",
    "best_epoch = acc_mean.argmax().item()"
   ]
  },
  {
   "cell_type": "code",
   "execution_count": null,
   "metadata": {
    "colab": {
     "base_uri": "https://localhost:8080/"
    },
    "id": "_Uu-W5AzzMoH",
    "outputId": "2dff7bd7-286e-41d3-ac71-2c32ed8f4232"
   },
   "outputs": [],
   "source": [
    "# Note: std won't work if only using one k-fold \n",
    "\n",
    "print('---------------- Final Epoch Result ----------------')\n",
    "print('Mean: {:7f}, Std: {:7f}'.format(acc[:,-1].mean(), acc[:,-1].std()))\n",
    "print(f'---------------- Best Epoch: {best_epoch} ----------------')\n",
    "print('Mean: {:7f}, Std: {:7f}'.format(acc[:,best_epoch].mean(), acc[:,best_epoch].std()), flush=True)"
   ]
  },
  {
   "cell_type": "code",
   "execution_count": null,
   "metadata": {},
   "outputs": [],
   "source": []
  }
 ],
 "metadata": {
  "accelerator": "GPU",
  "colab": {
   "gpuType": "T4",
   "provenance": []
  },
  "gpuClass": "standard",
  "kernelspec": {
   "display_name": "Python (myenv)",
   "language": "python",
   "name": "my-env"
  },
  "language_info": {
   "codemirror_mode": {
    "name": "ipython",
    "version": 3
   },
   "file_extension": ".py",
   "mimetype": "text/x-python",
   "name": "python",
   "nbconvert_exporter": "python",
   "pygments_lexer": "ipython3",
   "version": "3.8.15"
  }
 },
 "nbformat": 4,
 "nbformat_minor": 1
}
