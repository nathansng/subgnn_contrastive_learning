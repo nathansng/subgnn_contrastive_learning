{
 "cells": [
  {
   "cell_type": "markdown",
   "metadata": {
    "id": "Bv46oqe2DpeK"
   },
   "source": [
    "# DropGNN + Contrastive Learning Prototyping"
   ]
  },
  {
   "cell_type": "markdown",
   "metadata": {
    "id": "gdzu3FAaGB64"
   },
   "source": [
    "Work based off of DropGNN\n",
    "\n",
    "https://arxiv.org/pdf/2111.06283.pdf \n",
    "\n",
    "https://github.com/KarolisMart/DropGNN "
   ]
  },
  {
   "cell_type": "code",
   "execution_count": 1,
   "metadata": {
    "id": "cmcqq2oyHCvQ"
   },
   "outputs": [
    {
     "name": "stderr",
     "output_type": "stream",
     "text": [
      "/opt/conda/envs/DropGNN/lib/python3.8/site-packages/tqdm/auto.py:22: TqdmWarning: IProgress not found. Please update jupyter and ipywidgets. See https://ipywidgets.readthedocs.io/en/stable/user_install.html\n",
      "  from .autonotebook import tqdm as notebook_tqdm\n"
     ]
    }
   ],
   "source": [
    "import os.path as osp\n",
    "import numpy as np\n",
    "import networkx as nx\n",
    "import time\n",
    "import random\n",
    "import matplotlib.pyplot as plt\n",
    "import torch\n",
    "from torch import nn\n",
    "import torch.nn.functional as F\n",
    "from sklearn.model_selection import StratifiedKFold\n",
    "\n",
    "\n",
    "# Torch Geometric \n",
    "try: \n",
    "    from torch_geometric.data import DataLoader, Data\n",
    "    from torch_geometric.data.dataloader import Collater\n",
    "    from torch_geometric.datasets import TUDataset\n",
    "    from torch_geometric.utils import degree\n",
    "    from torch_geometric.utils.convert import from_networkx\n",
    "    from torch_geometric.nn import GINConv, GINEConv, global_add_pool\n",
    "except ModuleNotFoundError: \n",
    "    !pip install torch_geometric\n",
    "    from torch_geometric.data import DataLoader, Data\n",
    "    from torch_geometric.data.dataloader import Collater\n",
    "    from torch_geometric.datasets import TUDataset\n",
    "    from torch_geometric.utils import degree\n",
    "    from torch_geometric.utils.convert import from_networkx\n",
    "    from torch_geometric.nn import GINConv, GINEConv, global_add_pool\n",
    "    \n",
    "# Pytorch Metric Learning\n",
    "try: \n",
    "    from pytorch_metric_learning import losses\n",
    "except ModuleNotFoundError:\n",
    "    !pip install pytorch-metric-learning\n",
    "    from pytorch_metric_learning import losses"
   ]
  },
  {
   "cell_type": "markdown",
   "metadata": {
    "id": "U4VpVUxbJeBQ"
   },
   "source": [
    "## Import Dataset\n",
    "\n",
    "Use the IMDB-Binary dataset"
   ]
  },
  {
   "cell_type": "code",
   "execution_count": 2,
   "metadata": {
    "id": "kpop90ZxIaZW"
   },
   "outputs": [],
   "source": [
    "class MyFilter(object):\n",
    "    def __call__(self, data):\n",
    "        return data.num_nodes <= 70\n",
    "\n",
    "class MyPreTransform(object):\n",
    "    def __call__(self, data):\n",
    "        data.x = degree(data.edge_index[0], data.num_nodes, dtype=torch.long)\n",
    "        data.x = F.one_hot(data.x, num_classes=69).to(torch.float)\n",
    "        return data "
   ]
  },
  {
   "cell_type": "code",
   "execution_count": 3,
   "metadata": {
    "id": "oPb5CIfZJ0TV"
   },
   "outputs": [],
   "source": [
    "# Download data \n",
    "path = osp.join(osp.dirname(osp.realpath(\"./\")), 'data', f'IMDB-BINARY')\n",
    "\n",
    "dataset = TUDataset(\n",
    "    path, \n",
    "    name = \"IMDB-BINARY\", \n",
    "    pre_transform = MyPreTransform(), \n",
    "    pre_filter = MyFilter()\n",
    ")"
   ]
  },
  {
   "cell_type": "code",
   "execution_count": 4,
   "metadata": {
    "colab": {
     "base_uri": "https://localhost:8080/"
    },
    "id": "w1u0WXdtb_Zj",
    "outputId": "db3223f4-c7a7-4096-aa77-046cfad4b008"
   },
   "outputs": [
    {
     "name": "stdout",
     "output_type": "stream",
     "text": [
      "IMDB-BINARY(996)\n"
     ]
    }
   ],
   "source": [
    "print(dataset)"
   ]
  },
  {
   "cell_type": "markdown",
   "metadata": {},
   "source": [
    "Use the IMDB-Multi dataset"
   ]
  },
  {
   "cell_type": "code",
   "execution_count": 5,
   "metadata": {},
   "outputs": [],
   "source": [
    "# Download data \n",
    "path = osp.join(osp.dirname(osp.realpath(\"./\")), 'data', f'IMDB-MULTI')\n",
    "\n",
    "dataset2 = TUDataset(\n",
    "    path, \n",
    "    name = \"IMDB-MULTI\", \n",
    "    pre_transform = MyPreTransform(), \n",
    "    pre_filter = MyFilter()\n",
    ")"
   ]
  },
  {
   "cell_type": "code",
   "execution_count": 6,
   "metadata": {},
   "outputs": [
    {
     "name": "stdout",
     "output_type": "stream",
     "text": [
      "IMDB-MULTI(1498)\n"
     ]
    }
   ],
   "source": [
    "print(dataset2)"
   ]
  },
  {
   "cell_type": "markdown",
   "metadata": {},
   "source": [
    "## DropGNN + Contrastive Learning Model\n",
    "\n",
    "DropGNN Model with Contrastive Learning Methods using SimCLR Contrastive Learning Framework"
   ]
  },
  {
   "cell_type": "code",
   "execution_count": 7,
   "metadata": {},
   "outputs": [],
   "source": [
    "class DropGNN_Contrastive(nn.Module):\n",
    "    def __init__(self, num_features, num_reps, num_classes, hidden_units, use_aux_loss=True):\n",
    "        super(DropGNN_Contrastive, self).__init__()\n",
    "\n",
    "        # Set starting parameters for model \n",
    "        self.num_features = num_features   # Number of initial features \n",
    "        self.num_reps = num_reps           # Number of features in representation vector \n",
    "        self.num_classes = num_classes     # Number of different classes\n",
    "        self.dim = hidden_units            # Number of units for hidden layers\n",
    "        self.use_aux_loss = use_aux_loss   # Whether to include aux loss to total loss\n",
    "\n",
    "        # Number of layers in model\n",
    "        self.num_layers = 4\n",
    "\n",
    "        self.convs = nn.ModuleList()                     # Made of num_layers GINConv (linear -> batchnorm1d -> relu -> linear)\n",
    "        self.bns = nn.ModuleList()                       # Made of num_layers BatchNorm1d \n",
    "        self.reps = nn.ModuleList() # nn.Linear(self.dim, self.num_reps)   # Layer between base model and contrastive learning representation\n",
    "        self.fcs = nn.ModuleList()                       # Made of num_layers + 1 Linear layers mapping from num_features or dim to num_reps\n",
    "\n",
    "        # Add initial layer from num_features to dim \n",
    "        self.convs.append(GINConv(nn.Sequential(nn.Linear(self.num_features, self.dim), nn.BatchNorm1d(self.dim), nn.ReLU(), nn.Linear(self.dim, self.dim))))\n",
    "        self.bns.append(nn.BatchNorm1d(self.dim))\n",
    "        self.reps.append(nn.Linear(self.num_features, self.num_reps))\n",
    "        self.reps.append(nn.Linear(self.dim, self.num_reps))\n",
    "        self.fcs.append(nn.Linear(self.num_features, self.num_classes))\n",
    "        self.fcs.append(nn.Linear(self.dim, self.num_classes))\n",
    "\n",
    "        # Add additional layers from dim to dim \n",
    "        for i in range(self.num_layers-1):\n",
    "            self.convs.append(GINConv(nn.Sequential(nn.Linear(self.dim, self.dim), nn.BatchNorm1d(self.dim), nn.ReLU(), nn.Linear(self.dim, self.dim))))\n",
    "            self.bns.append(nn.BatchNorm1d(self.dim))\n",
    "            self.reps.append(nn.Linear(self.dim, self.num_reps))\n",
    "            self.fcs.append(nn.Linear(self.dim, self.num_classes))\n",
    "\n",
    "        # Use aux_loss for dropGNN: made of num_layers + 1 linear layers \n",
    "        # Adds new module list of linear layers \n",
    "        if self.use_aux_loss:\n",
    "            self.aux_fcs = nn.ModuleList()\n",
    "            self.aux_fcs.append(nn.Linear(self.num_features, self.num_classes))\n",
    "            for i in range(self.num_layers):\n",
    "                self.aux_fcs.append(nn.Linear(self.dim, self.num_classes))\n",
    "        \n",
    "    def reset_parameters(self):\n",
    "        # Resets parameters for Linear, GINConv, and BatchNorm1d layers\n",
    "        for m in self.modules():\n",
    "            if isinstance(m, nn.Linear):\n",
    "                m.reset_parameters()\n",
    "            elif isinstance(m, GINConv):\n",
    "                m.reset_parameters()\n",
    "            elif isinstance(m, nn.BatchNorm1d):\n",
    "                m.reset_parameters()\n",
    "                \n",
    "    def forward(self, data, mode=\"test\", p=None, dropout=None, num_runs=20):\n",
    "        # Runs different modes based on whether running contrastive loss or making predictions\n",
    "        if mode == 'contrastive':\n",
    "            return self.contrastive(data, p, num_runs)\n",
    "        else:\n",
    "            return self.prediction(data, dropout, num_runs)\n",
    "        \n",
    "    def contrastive(self, data, p, num_runs):\n",
    "        # Trains contrastive model and representation vector model \n",
    "        \n",
    "        # Note: num_runs in DropGNN is average number of nodes in each graph in dataset\n",
    "        # Note: p is 2 * 1 / (1 + gamma), but for this project, p is selected to create augmented views \n",
    "        \n",
    "        self.p = p\n",
    "        self.num_runs = num_runs\n",
    "        \n",
    "        # Store all graphs in sampled batch as one large graph with separate components\n",
    "        x = data.x                     # All nodes and their features (# nodes x # node features)\n",
    "        edge_index = data.edge_index   # All edge index pairs from large single graph\n",
    "        batch = data.batch             # Batch numbers that group nodes within the same graph with same batch number\n",
    "        \n",
    "        # Do runs in parallel by repeating nodes and creating num_runs different views\n",
    "        x = x.unsqueeze(0).expand(self.num_runs, -1, -1).clone()   # Creates num_runs copy of node features\n",
    "        drop = torch.bernoulli(torch.ones([x.size(0), x.size(1)], device=x.device) * self.p).bool()   #  Randomly determine whether node is dropped within each copy of num_runs\n",
    "        x[drop] = torch.zeros([drop.sum().long().item(), x.size(-1)], device=x.device)  # Drop nodes from graphs  \n",
    "        del drop\n",
    "        \n",
    "        # Allow gradients to update base model \n",
    "        if self.training:\n",
    "            for layer in self.convs: \n",
    "                for p in layer.parameters():\n",
    "                    p.requires_grad = True\n",
    "\n",
    "            for layer in self.bns:\n",
    "                for p in layer.parameters():\n",
    "                    p.requires_grad = True\n",
    "        \n",
    "        # Run augmented subgraph through model \n",
    "        outs = [x]  # Used to store n-hop neighborhood representations, after running through model n times\n",
    "        x = x.view(-1, x.size(-1))  # Concat all num_run copies of nodes \n",
    "        run_edge_index = edge_index.repeat(1, self.num_runs) + torch.arange(self.num_runs, device=edge_index.device).repeat_interleave(edge_index.size(1)) * (edge_index.max() + 1) # Transform edge_index to correspond to the same nodes in concatenated form  \n",
    "        for i in range(self.num_layers):\n",
    "            x = self.convs[i](x, run_edge_index)  # Run node features and edge indices through CONV layer \n",
    "            x = self.bns[i](x)  # Run resulting values through BatchNorm1d\n",
    "            x = F.relu(x)   # Run final values through RELU\n",
    "            outs.append(x.view(self.num_runs, -1, x.size(-1)))  # Return x back to original stacked form \n",
    "        del run_edge_index\n",
    "        \n",
    "        # Aggregates results of runs by taking mean of each run and summing results of runs\n",
    "        out = None\n",
    "        for i, x in enumerate(outs):\n",
    "            x = x.mean(dim=0)                  # Take average of all node features of same nodes \n",
    "            x = global_add_pool(x, batch)      # Take the sum of all node features for nodes in same graph \n",
    "            x = self.reps[i](x)                # Run graph features into linear layer to get contrastive representation\n",
    "            if out is None:\n",
    "                out = x\n",
    "            else:\n",
    "                out += x\n",
    "                \n",
    "        # Returns all contrastive graph embeddings in batch \n",
    "        return out\n",
    "    \n",
    "    def prediction(self, data, dropout, num_runs):\n",
    "        self.dropout = dropout\n",
    "        self.num_runs = num_runs\n",
    "        \n",
    "        # Create intermediate representations \n",
    "        x = data.x \n",
    "        edge_index = data.edge_index\n",
    "        batch = data.batch \n",
    "        \n",
    "        # Do runs in parallel, by repeating the graphs in the batch\n",
    "        x = x.unsqueeze(0).expand(self.num_runs, -1, -1).clone()   # Flattens features and creates num_runs copy of them \n",
    "        drop = torch.bernoulli(torch.ones([x.size(0), x.size(1)], device=x.device) * self.p).bool()   #  Returns a tensor of randomly dropped nodes based on p (p = probability of dropping) \n",
    "        x[drop] = torch.zeros([drop.sum().long().item(), x.size(-1)], device=x.device)  # Drop nodes from data  \n",
    "        del drop\n",
    "        \n",
    "        # Stop gradients from updating base model \n",
    "        for layer in self.convs:\n",
    "            for p in layer.parameters():\n",
    "                p.requires_grad = False\n",
    "                \n",
    "        for layer in self.bns:\n",
    "            for p in layer.parameters():\n",
    "                p.requires_grad = False\n",
    "        \n",
    "        # Run augmented subgraph through model \n",
    "        outs = [x]  # Used to store view of x after each layer \n",
    "        x = x.view(-1, x.size(-1))  # Swap dimensions of data features \n",
    "        run_edge_index = edge_index.repeat(1, self.num_runs) + torch.arange(self.num_runs, device=edge_index.device).repeat_interleave(edge_index.size(1)) * (edge_index.max() + 1) # Expand edge_index and augment values\n",
    "        for i in range(self.num_layers):\n",
    "            x = self.convs[i](x, run_edge_index)  # Run node features and edge indices through CONV layer \n",
    "            x = self.bns[i](x)  # Run resulting values through BatchNorm1d\n",
    "            x = F.relu(x)   # Run final values through RELU\n",
    "            outs.append(x.view(self.num_runs, -1, x.size(-1)))    # Rearrange dimensions and append to outs \n",
    "        del run_edge_index\n",
    "        \n",
    "        # Aggregates results of runs by summing mean and applying random dropout (not dropping out nodes)\n",
    "        out = None\n",
    "        for i, x in enumerate(outs):\n",
    "            x = x.mean(dim=0)\n",
    "            x = global_add_pool(x, batch)\n",
    "            x = F.dropout(self.fcs[i](x), p=self.dropout, training=self.training)\n",
    "            if out is None:\n",
    "                out = x\n",
    "            else:\n",
    "                out += x\n",
    "        \n",
    "        # Returns the likelihood of each outcome class\n",
    "        return F.log_softmax(out, dim=-1)  # Swap this with code block below to allow aux loss, removed for simplicity\n",
    "    \n",
    "#         if self.use_aux_loss:\n",
    "#             # Use predictions from individual runs instead of aggregating results of all runs (no mean(x))\n",
    "#             aux_out = torch.zeros(self.num_runs, out.size(0), out.size(1), device=out.device)\n",
    "#             run_batch = batch.repeat(self.num_runs) + torch.arange(self.num_runs, device=edge_index.device).repeat_interleave(batch.size(0)) * (batch.max() + 1) # Assign updated batch numbers such that each individual run is counted separately\n",
    "#             for i, x in enumerate(outs):\n",
    "#                 x = x.view(-1, x.size(-1))\n",
    "#                 x = global_add_pool(x, run_batch)\n",
    "#                 x = x.view(self.num_runs, -1, x.size(-1))\n",
    "#                 x = F.dropout(self.aux_fcs[i](x), p=self.dropout, training=self.training)\n",
    "#                 aux_out += x\n",
    "\n",
    "#             # Returns probabilities of each class based on aggregated results \n",
    "#             return F.log_softmax(out, dim=-1), F.log_softmax(aux_out, dim=-1)\n",
    "#         else:\n",
    "#             return F.log_softmax(out, dim=-1), 0"
   ]
  },
  {
   "cell_type": "markdown",
   "metadata": {
    "id": "fF6Gp8oIf2yR"
   },
   "source": [
    "## Training Modules\n",
    "\n",
    "Training Functions to run Contrastive Learning and Downstream Task Prediction"
   ]
  },
  {
   "cell_type": "markdown",
   "metadata": {},
   "source": [
    "### Contrastive Learning Training Modules"
   ]
  },
  {
   "cell_type": "code",
   "execution_count": 11,
   "metadata": {},
   "outputs": [],
   "source": [
    "# Used to train contrastive model \n",
    "def train_contrastive(model, loader, optimizer, loss_fn, p1 = 0.1, p2 = 0.2):\n",
    "    # Set model to training\n",
    "    model.train()\n",
    "    \n",
    "#     # Create self-supervised loss function\n",
    "#     loss_func = losses.SelfSupervisedLoss(losses.TripletMarginLoss())\n",
    "    \n",
    "    # Run data through model and update model\n",
    "    loss_all = 0\n",
    "    n = 0 \n",
    "    for data in loader: \n",
    "        data = data.to(device)\n",
    "        optimizer.zero_grad()\n",
    "        embeddings_1 = model(data, mode = \"contrastive\", p = p1)\n",
    "        embeddings_2 = model(data, mode = \"contrastive\", p = p2)\n",
    "        \n",
    "        # Used as loss(embeddings, labels)\n",
    "        loss = loss_fn(embeddings_1, embeddings_2)\n",
    "        loss.backward()\n",
    "        optimizer.step() \n",
    "        \n",
    "        loss_all += data.num_graphs * loss.item()\n",
    "        n += data.num_graphs\n",
    "    return loss_all / n"
   ]
  },
  {
   "cell_type": "code",
   "execution_count": 12,
   "metadata": {},
   "outputs": [],
   "source": [
    "# Used to validate contrastive model \n",
    "def valid_contrastive(model, loader, loss_fn, p1 = 0.1, p2 = 0.2):\n",
    "    # Set model to eval\n",
    "    model.eval()\n",
    "    \n",
    "#     # Create self-supervised loss function\n",
    "#     loss_func = losses.SelfSupervisedLoss(losses.TripletMarginLoss())\n",
    "    \n",
    "    with torch.no_grad():\n",
    "        loss_all = 0\n",
    "        n = 0\n",
    "        for data in loader: \n",
    "            data = data.to(device)\n",
    "            embeddings_1 = model(data, mode = \"contrastive\", p = p1)\n",
    "            embeddings_2 = model(data, mode = \"contrastive\", p = p2)\n",
    "            loss = loss_fn(embeddings_1, embeddings_2)\n",
    "            \n",
    "            loss_all += data.num_graphs * loss.item()\n",
    "            n += data.num_graphs\n",
    "    return loss_all / n"
   ]
  },
  {
   "cell_type": "markdown",
   "metadata": {},
   "source": [
    "### Prediction Training Modules"
   ]
  },
  {
   "cell_type": "code",
   "execution_count": 13,
   "metadata": {},
   "outputs": [],
   "source": [
    "# Used to train prediction model AFTER contrastive learning \n",
    "def train_prediction(model, loader, optimizer, dropout = 0.5):\n",
    "    # Set model to training\n",
    "    model.train()\n",
    "    \n",
    "    # Run data through model and update model \n",
    "    loss_all = 0\n",
    "    n = 0\n",
    "    for data in loader:\n",
    "        data = data.to(device)\n",
    "        optimizer.zero_grad()\n",
    "        results = model(data, mode = \"prediction\", dropout = dropout)\n",
    "        loss = F.nll_loss(results, data.y)\n",
    "        \n",
    "#         if model.use_aux_loss:\n",
    "#             aux_loss = F.nll_loss(aux_logs.view(-1, aux_logs.size(-1)), data.y.unsqueeze(0).expand(aux_logs.size(0), -1).clone().view(-1))\n",
    "#             loss = 0.75 * loss + 0.25 * aux_loss \n",
    "    \n",
    "        loss.backward()\n",
    "        loss_all += data.num_graphs * loss.item()\n",
    "        n += len(data.y)\n",
    "        optimizer.step()\n",
    "\n",
    "    return loss_all / n"
   ]
  },
  {
   "cell_type": "code",
   "execution_count": 14,
   "metadata": {},
   "outputs": [],
   "source": [
    "# Used to validate prediction model AFTER contrastive learning, returns loss \n",
    "def valid_prediction(model, loader, dropout = 0.5):\n",
    "    # Set model to eval\n",
    "    model.eval()\n",
    "    \n",
    "    # Run data through model\n",
    "    with torch.no_grad():\n",
    "        loss_all = 0\n",
    "        n = 0\n",
    "        for data in loader:\n",
    "            data = data.to(device)\n",
    "            results = model(data, mode = \"prediction\", dropout = dropout)\n",
    "            loss = F.nll_loss(results, data.y)\n",
    "\n",
    "#             if model.use_aux_loss:\n",
    "#                 aux_loss = F.nll_loss(aux_logs.view(-1, aux_logs.size(-1)), data.y.unsqueeze(0).expand(aux_logs.size(0), -1).clone().view(-1))\n",
    "#                 loss = 0.75 * loss + 0.25 * aux_loss \n",
    "                \n",
    "            loss_all += data.num_graphs * loss.item()\n",
    "            n += len(data.y)\n",
    "\n",
    "    return loss_all / n"
   ]
  },
  {
   "cell_type": "code",
   "execution_count": 15,
   "metadata": {},
   "outputs": [],
   "source": [
    "# Used to test prediction model AFTER contrastive learning, returns accuracy\n",
    "def test_prediction(model, loader, dropout = 0.5):\n",
    "    # Set model to eval\n",
    "    model.eval() \n",
    "    \n",
    "    # Run data through model and make predictions\n",
    "    with torch.no_grad():\n",
    "        correct = 0\n",
    "        for data in loader: \n",
    "            data = data.to(device)\n",
    "            results = model(data, mode = \"prediction\", dropout = dropout)\n",
    "            pred = results.max(1)[1]\n",
    "            correct += pred.eq(data.y).sum().item()\n",
    "    return correct / len(loader.dataset)"
   ]
  },
  {
   "cell_type": "markdown",
   "metadata": {
    "id": "YyriXAImrdTd"
   },
   "source": [
    "## Split Dataset into K-Folds"
   ]
  },
  {
   "cell_type": "code",
   "execution_count": 16,
   "metadata": {
    "id": "3wui_6Yerfn-"
   },
   "outputs": [],
   "source": [
    "def separate_data(dataset_len, seed=0):\n",
    "    folds = StratifiedKFold(n_splits=10, shuffle=True, random_state=seed)\n",
    "    idx_list = []\n",
    "    for idx in folds.split(np.zeros(dataset_len), np.zeros(dataset_len)):\n",
    "        idx_list.append(idx)\n",
    "    return idx_list"
   ]
  },
  {
   "cell_type": "markdown",
   "metadata": {},
   "source": [
    "## Training and Evaluation Loop"
   ]
  },
  {
   "cell_type": "code",
   "execution_count": 17,
   "metadata": {},
   "outputs": [],
   "source": [
    "def training_loop(model, dataset, train_idx, test_idx, batch_size, epochs, p1, p2, dropout, device, lr=0.001, seed=0, m=10):\n",
    "    \"\"\"\n",
    "    Runs a single training loop based on given training and testing indices \n",
    "    \"\"\"\n",
    "    # Set random seeds \n",
    "    torch.manual_seed(seed)\n",
    "    np.random.seed(seed)\n",
    "    \n",
    "    # Set batch size and number of epochs \n",
    "    BATCH = batch_size\n",
    "    NUM_EPOCHS = epochs \n",
    "    \n",
    "    # Create training and testing datasets\n",
    "    train_dataset = dataset[train_idx.tolist()]\n",
    "    test_dataset = dataset[test_idx.tolist()]\n",
    "    train_loader = torch.utils.data.DataLoader(train_dataset, sampler=torch.utils.data.RandomSampler(train_dataset, replacement=True, num_samples=int(len(train_dataset)*50/(len(train_dataset)/BATCH))), batch_size=BATCH, drop_last=False, collate_fn=Collater(follow_batch=[],exclude_keys=[]))\n",
    "    test_loader = DataLoader(test_dataset, batch_size=BATCH)\n",
    "    \n",
    "    # Set up for contrastive learning\n",
    "    loss_func = losses.SelfSupervisedLoss(losses.NTXentLoss())   # Specify contrastive loss function to use \n",
    "    optimizer = torch.optim.Adam(model.parameters(), lr=lr)      # Optimizer for model to use \n",
    "    scheduler = torch.optim.lr_scheduler.StepLR(optimizer, step_size=50, gamma=0.5) # Used to adjust learning rate while training \n",
    "    \n",
    "    # CONTRASTIVE LEARNING: Train model on contrastive representation \n",
    "    contrastive_losses = []\n",
    "    print(\"STARTING CONTRASTIVE LEARNING\")\n",
    "    for epoch in range(NUM_EPOCHS):\n",
    "        if epoch % m == 0:\n",
    "            start = time.time()\n",
    "\n",
    "        lr = scheduler.optimizer.param_groups[0]['lr']\n",
    "        train_loss = train_contrastive(model, train_loader, optimizer, loss_func, p1=p1, p2=p2)\n",
    "        scheduler.step()\n",
    "        test_loss = valid_contrastive(model, test_loader, loss_func, p1=p1, p2=p2)\n",
    "        contrastive_losses.append(test_loss)\n",
    "\n",
    "        if epoch % m == 0:\n",
    "            print('Epoch: {:03d}, LR: {:7f}, Train Loss: {:.7f}, '\n",
    "                'Val Loss: {:.7f}, Time: {:7f}'.format(\n",
    "                    epoch, lr, train_loss, test_loss, time.time() - start), flush=True)\n",
    "            \n",
    "    # Set up for prediction \n",
    "    optimizer = torch.optim.Adam(model.parameters(), lr=lr)      # Optimizer for model to use \n",
    "    scheduler = torch.optim.lr_scheduler.StepLR(optimizer, step_size=50, gamma=0.5) # Used to adjust learning rate while training \n",
    "    \n",
    "    # PREDICTION: Train model using contrastive representations to make predictions \n",
    "    prediction_losses = []\n",
    "    print(\"\\nSTARTING PREDICTION LEARNING\")\n",
    "    for epoch in range(NUM_EPOCHS):\n",
    "        if epoch % m == 0:\n",
    "            start = time.time()\n",
    "\n",
    "        lr = scheduler.optimizer.param_groups[0]['lr']\n",
    "        train_loss = train_prediction(model, train_loader, optimizer, dropout=dropout)\n",
    "        scheduler.step()\n",
    "        test_loss = valid_prediction(model, test_loader, dropout=dropout)\n",
    "        prediction_losses.append(test_loss)\n",
    "\n",
    "        if epoch % m == 0:\n",
    "            print('Epoch: {:03d}, LR: {:7f}, Train Loss: {:.7f}, '\n",
    "                'Val Loss: {:.7f}, Time: {:7f}'.format(\n",
    "                    epoch, lr, train_loss, test_loss, time.time() - start), flush=True)\n",
    "            \n",
    "    # Test final accuracy of final model \n",
    "    test_acc = test_prediction(model, test_loader, dropout=dropout)\n",
    "    print(f\"\\nFinal Prediction Accuracy: {test_acc}\\n\")\n",
    "    \n",
    "    return contrastive_losses, prediction_losses, test_acc"
   ]
  },
  {
   "cell_type": "code",
   "execution_count": 18,
   "metadata": {},
   "outputs": [],
   "source": [
    "def evaluation_loop(model, dataset, splits, batch_size, epochs, p1, p2, dropout, device, lr=0.001, seed=0, m=10):\n",
    "    # Train model on different splits, meant to evaluate model, not save best model\n",
    "    contrastive_loss = []\n",
    "    prediction_loss = []\n",
    "    test_accuracies = []\n",
    "    \n",
    "    # Train a new model on every fold for evaluation\n",
    "    for i, (train_idx, test_idx) in enumerate(splits): \n",
    "        print(f\"Running Split {i}\")\n",
    "        model.reset_parameters()    # Resets upon every new fold \n",
    "        c_loss, p_loss, t_acc = training_loop(model, dataset, train_idx, test_idx, batch_size, epochs, p1, p2, dropout, device, lr, seed, m)\n",
    "        contrastive_loss.append(torch.tensor(c_loss))\n",
    "        prediction_loss.append(torch.tensor(p_loss))\n",
    "        test_accuracies.append(torch.tensor(t_acc))\n",
    "        \n",
    "    # Calculate average contrastive loss and return best epoch for contrastive loss\n",
    "    contrastive_loss = torch.stack(contrastive_loss, dim=0)\n",
    "    contrastive_loss_mean = contrastive_loss.mean(dim=0)\n",
    "    best_contrastive_epoch = contrastive_loss_mean.argmin().item()\n",
    "\n",
    "    # Calculate average prediction loss and return best epoch for predictions \n",
    "    prediction_loss = torch.stack(prediction_loss, dim=0)\n",
    "    prediction_loss_mean = prediction_loss.mean(dim=0)\n",
    "    best_prediction_epoch = prediction_loss_mean.argmin().item()\n",
    "    \n",
    "    return (contrastive_loss, contrastive_loss_mean, best_contrastive_epoch), (prediction_loss, prediction_loss_mean, best_prediction_epoch), test_accuracies"
   ]
  },
  {
   "cell_type": "markdown",
   "metadata": {},
   "source": [
    "## Run DropGNN + Contrastive Learning Model"
   ]
  },
  {
   "cell_type": "markdown",
   "metadata": {},
   "source": [
    "### Train Model on IMDB-Binary"
   ]
  },
  {
   "cell_type": "code",
   "execution_count": 26,
   "metadata": {},
   "outputs": [
    {
     "name": "stdout",
     "output_type": "stream",
     "text": [
      "Device: cuda\n"
     ]
    }
   ],
   "source": [
    "\"\"\"\n",
    "SET UP PARAMETERS FOR TRAINING\n",
    "\"\"\"\n",
    "\n",
    "# Set random seeds\n",
    "torch.manual_seed(0)\n",
    "np.random.seed(0)\n",
    "\n",
    "# Set batch size\n",
    "BATCH = 32    # Default batch size in DropGNN\n",
    "\n",
    "# Set number of epochs\n",
    "NUM_EPOCHS = 100\n",
    "\n",
    "# Set size of contrastive representation\n",
    "NUM_REPS = 32\n",
    "\n",
    "# Set node dropout probabilities \n",
    "p1 = 0.1\n",
    "p2 = 0.2\n",
    "\n",
    "# Set embedding dropout probabilities \n",
    "dropout = 0.5\n",
    "\n",
    "# Use GPU if available\n",
    "device = torch.device('cuda' if torch.cuda.is_available() else 'cpu')\n",
    "\n",
    "print(f\"Device: {device}\")"
   ]
  },
  {
   "cell_type": "code",
   "execution_count": 27,
   "metadata": {},
   "outputs": [],
   "source": [
    "\"\"\"\n",
    "CREATE MODEL AND CREATE DATA SPLITS\n",
    "\"\"\"\n",
    "\n",
    "# Create model\n",
    "model = DropGNN_Contrastive(num_features=dataset.num_features, num_reps=NUM_REPS, num_classes=dataset.num_classes, hidden_units=64).to(device)\n",
    "\n",
    "# Split dataset\n",
    "n = len(dataset)\n",
    "splits = separate_data(n, seed=2)"
   ]
  },
  {
   "cell_type": "code",
   "execution_count": 19,
   "metadata": {},
   "outputs": [
    {
     "name": "stdout",
     "output_type": "stream",
     "text": [
      "STARTING CONTRASTIVE LEARNING\n",
      "Epoch: 000, LR: 0.001000, Train Loss: 0.2182636, Val Loss: 0.2284868, Time: 2.268660\n",
      "Epoch: 010, LR: 0.001000, Train Loss: 0.1397976, Val Loss: 0.1764665, Time: 1.740617\n",
      "Epoch: 020, LR: 0.001000, Train Loss: 0.1519121, Val Loss: 0.1772696, Time: 1.676606\n",
      "Epoch: 030, LR: 0.001000, Train Loss: 0.1576299, Val Loss: 0.1751140, Time: 1.913610\n",
      "Epoch: 040, LR: 0.001000, Train Loss: 0.1557956, Val Loss: 0.1684278, Time: 1.787359\n",
      "Epoch: 050, LR: 0.000500, Train Loss: 0.1466705, Val Loss: 0.1639943, Time: 1.690199\n",
      "Epoch: 060, LR: 0.000500, Train Loss: 0.1393766, Val Loss: 0.1641586, Time: 1.700798\n",
      "Epoch: 070, LR: 0.000500, Train Loss: 0.1576357, Val Loss: 0.1643149, Time: 1.966390\n",
      "Epoch: 080, LR: 0.000500, Train Loss: 0.1486617, Val Loss: 0.1641138, Time: 1.697750\n",
      "Epoch: 090, LR: 0.000500, Train Loss: 0.1440432, Val Loss: 0.1634369, Time: 1.685822\n",
      "\n",
      "STARTING PREDICTION LEARNING\n",
      "Epoch: 000, LR: 0.000500, Train Loss: 5.1914301, Val Loss: 1.6985630, Time: 0.693039\n",
      "Epoch: 010, LR: 0.000500, Train Loss: 1.7983948, Val Loss: 0.9017066, Time: 0.689335\n",
      "Epoch: 020, LR: 0.000500, Train Loss: 1.3854692, Val Loss: 0.6990560, Time: 0.682075\n",
      "Epoch: 030, LR: 0.000500, Train Loss: 1.0722260, Val Loss: 0.7150924, Time: 0.733529\n",
      "Epoch: 040, LR: 0.000500, Train Loss: 0.9196155, Val Loss: 0.5423689, Time: 0.685640\n",
      "Epoch: 050, LR: 0.000250, Train Loss: 0.8654615, Val Loss: 0.4900463, Time: 0.686317\n",
      "Epoch: 060, LR: 0.000250, Train Loss: 0.7613119, Val Loss: 0.4756132, Time: 0.826733\n",
      "Epoch: 070, LR: 0.000250, Train Loss: 0.7303444, Val Loss: 0.5016449, Time: 0.758893\n",
      "Epoch: 080, LR: 0.000250, Train Loss: 0.7581641, Val Loss: 0.4700607, Time: 0.685540\n",
      "Epoch: 090, LR: 0.000250, Train Loss: 0.6965618, Val Loss: 0.4539660, Time: 0.693647\n",
      "\n",
      "Final Prediction Accuracy: 0.7544642857142857\n"
     ]
    }
   ],
   "source": [
    "# Run one test of training a single split \n",
    "con_loss, pred_loss, test_acc = training_loop(model, dataset, train_idx=splits[0][0], test_idx=splits[0][0], batch_size=BATCH, epochs=NUM_EPOCHS, p1=p1, p2=p2, dropout=dropout, device=device, lr=0.001, seed=0, m=10)"
   ]
  },
  {
   "cell_type": "code",
   "execution_count": 32,
   "metadata": {
    "scrolled": false
   },
   "outputs": [
    {
     "name": "stdout",
     "output_type": "stream",
     "text": [
      "Running Split 0\n",
      "STARTING CONTRASTIVE LEARNING\n",
      "Epoch: 000, LR: 0.001000, Train Loss: 0.8577212, Val Loss: 0.7581988, Time: 1.481414\n",
      "Epoch: 010, LR: 0.001000, Train Loss: 0.7217305, Val Loss: 0.6846188, Time: 1.481297\n",
      "Epoch: 020, LR: 0.001000, Train Loss: 0.7343596, Val Loss: 0.6867907, Time: 1.486436\n",
      "Epoch: 030, LR: 0.001000, Train Loss: 0.7185254, Val Loss: 0.6825860, Time: 1.572199\n",
      "Epoch: 040, LR: 0.001000, Train Loss: 0.7567702, Val Loss: 0.6926438, Time: 1.653671\n",
      "Epoch: 050, LR: 0.000500, Train Loss: 0.7936304, Val Loss: 0.6865512, Time: 1.413609\n",
      "Epoch: 060, LR: 0.000500, Train Loss: 0.7132576, Val Loss: 0.6893845, Time: 1.486974\n",
      "Epoch: 070, LR: 0.000500, Train Loss: 0.6701815, Val Loss: 0.6822991, Time: 1.385326\n",
      "Epoch: 080, LR: 0.000500, Train Loss: 0.7677331, Val Loss: 0.6827128, Time: 1.464864\n",
      "Epoch: 090, LR: 0.000500, Train Loss: 0.7038253, Val Loss: 0.6834503, Time: 1.410454\n",
      "\n",
      "STARTING PREDICTION LEARNING\n",
      "Epoch: 000, LR: 0.000500, Train Loss: 4.7479936, Val Loss: 2.4119128, Time: 0.478355\n",
      "Epoch: 010, LR: 0.000500, Train Loss: 1.5938956, Val Loss: 1.1339762, Time: 0.470206\n",
      "Epoch: 020, LR: 0.000500, Train Loss: 1.4058890, Val Loss: 1.1052338, Time: 0.470933\n",
      "Epoch: 030, LR: 0.000500, Train Loss: 1.0747513, Val Loss: 0.9676646, Time: 0.472886\n",
      "Epoch: 040, LR: 0.000500, Train Loss: 1.0500427, Val Loss: 0.8187596, Time: 0.593777\n",
      "Epoch: 050, LR: 0.000250, Train Loss: 0.9291458, Val Loss: 0.7834876, Time: 0.598280\n",
      "Epoch: 060, LR: 0.000250, Train Loss: 0.8099128, Val Loss: 0.7373019, Time: 0.606577\n",
      "Epoch: 070, LR: 0.000250, Train Loss: 0.7887107, Val Loss: 0.7948844, Time: 0.463975\n",
      "Epoch: 080, LR: 0.000250, Train Loss: 0.7676831, Val Loss: 0.7152157, Time: 0.476558\n",
      "Epoch: 090, LR: 0.000250, Train Loss: 0.7996288, Val Loss: 0.6613015, Time: 0.470379\n",
      "\n",
      "Final Prediction Accuracy: 0.66\n",
      "\n",
      "Running Split 1\n",
      "STARTING CONTRASTIVE LEARNING\n",
      "Epoch: 000, LR: 0.001000, Train Loss: 0.7738750, Val Loss: 0.8476675, Time: 1.405707\n",
      "Epoch: 010, LR: 0.001000, Train Loss: 0.7426935, Val Loss: 0.8108725, Time: 1.360318\n",
      "Epoch: 020, LR: 0.001000, Train Loss: 0.6927252, Val Loss: 0.7978856, Time: 1.448199\n",
      "Epoch: 030, LR: 0.001000, Train Loss: 0.7791965, Val Loss: 0.7956575, Time: 1.374709\n",
      "Epoch: 040, LR: 0.001000, Train Loss: 0.7048644, Val Loss: 0.8002792, Time: 1.426646\n",
      "Epoch: 050, LR: 0.000500, Train Loss: 0.6877336, Val Loss: 0.7946369, Time: 1.429252\n",
      "Epoch: 060, LR: 0.000500, Train Loss: 0.7525096, Val Loss: 0.7915252, Time: 1.435575\n",
      "Epoch: 070, LR: 0.000500, Train Loss: 0.6888866, Val Loss: 0.7925334, Time: 1.546444\n",
      "Epoch: 080, LR: 0.000500, Train Loss: 0.7247749, Val Loss: 0.7945552, Time: 1.540918\n",
      "Epoch: 090, LR: 0.000500, Train Loss: 0.7438541, Val Loss: 0.7910080, Time: 1.387642\n",
      "\n",
      "STARTING PREDICTION LEARNING\n",
      "Epoch: 000, LR: 0.000500, Train Loss: 5.5330791, Val Loss: 4.6051596, Time: 0.484522\n",
      "Epoch: 010, LR: 0.000500, Train Loss: 1.7411818, Val Loss: 1.1064167, Time: 0.476799\n",
      "Epoch: 020, LR: 0.000500, Train Loss: 1.2748509, Val Loss: 0.9582888, Time: 0.480279\n",
      "Epoch: 030, LR: 0.000500, Train Loss: 1.1074565, Val Loss: 0.9173609, Time: 0.471900\n",
      "Epoch: 040, LR: 0.000500, Train Loss: 0.9666117, Val Loss: 0.7242214, Time: 0.467129\n",
      "Epoch: 050, LR: 0.000250, Train Loss: 0.9429694, Val Loss: 0.7216357, Time: 0.468772\n",
      "Epoch: 060, LR: 0.000250, Train Loss: 0.8962292, Val Loss: 0.7135349, Time: 0.484390\n",
      "Epoch: 070, LR: 0.000250, Train Loss: 0.8155697, Val Loss: 0.6820104, Time: 0.466539\n",
      "Epoch: 080, LR: 0.000250, Train Loss: 0.8162962, Val Loss: 0.6843055, Time: 0.463808\n",
      "Epoch: 090, LR: 0.000250, Train Loss: 0.8210662, Val Loss: 0.6615368, Time: 0.467367\n",
      "\n",
      "Final Prediction Accuracy: 0.66\n",
      "\n"
     ]
    }
   ],
   "source": [
    "# Evaluate model performance over several different splits\n",
    "eval_results = evaluation_loop(model, dataset, splits[:2], batch_size=BATCH, epochs=NUM_EPOCHS, p1=p1, p2=p2, dropout=dropout, device=device, lr=0.001, seed=0, m=10)"
   ]
  },
  {
   "cell_type": "markdown",
   "metadata": {},
   "source": [
    "### Train Model on IMDB-Multi"
   ]
  },
  {
   "cell_type": "code",
   "execution_count": 22,
   "metadata": {},
   "outputs": [
    {
     "name": "stdout",
     "output_type": "stream",
     "text": [
      "Device: cuda\n"
     ]
    }
   ],
   "source": [
    "\"\"\"\n",
    "SET UP PARAMETERS FOR TRAINING\n",
    "\"\"\"\n",
    "\n",
    "# Set random seeds\n",
    "torch.manual_seed(0)\n",
    "np.random.seed(0)\n",
    "\n",
    "# Set batch size\n",
    "BATCH = 32    # Default batch size in DropGNN\n",
    "\n",
    "# Set number of epochs\n",
    "NUM_EPOCHS = 100\n",
    "\n",
    "# Set size of contrastive representation \n",
    "NUM_REPS = 64\n",
    "\n",
    "# Set node dropout probabilities \n",
    "p1 = 0.1\n",
    "p2 = 0.2\n",
    "\n",
    "# Set embedding dropout probabilities \n",
    "dropout = 0.5\n",
    "\n",
    "# Use GPU if available\n",
    "device = torch.device('cuda' if torch.cuda.is_available() else 'cpu')\n",
    "\n",
    "print(f\"Device: {device}\")"
   ]
  },
  {
   "cell_type": "code",
   "execution_count": 23,
   "metadata": {},
   "outputs": [],
   "source": [
    "\"\"\"\n",
    "CREATE MODEL AND CREATE DATA SPLITS\n",
    "\"\"\"\n",
    "\n",
    "# Create model\n",
    "model2 = DropGNN_Contrastive(num_features=dataset2.num_features, num_reps=NUM_REPS, num_classes=dataset2.num_classes, hidden_units=64).to(device)\n",
    "\n",
    "# Split dataset\n",
    "n = len(dataset2)\n",
    "splits = separate_data(n, seed=2)"
   ]
  },
  {
   "cell_type": "code",
   "execution_count": 21,
   "metadata": {},
   "outputs": [
    {
     "name": "stdout",
     "output_type": "stream",
     "text": [
      "STARTING CONTRASTIVE LEARNING\n",
      "Epoch: 000, LR: 0.001000, Train Loss: 0.8356679, Val Loss: 0.7995140, Time: 2.505042\n",
      "Epoch: 010, LR: 0.001000, Train Loss: 0.7122133, Val Loss: 0.7579982, Time: 1.750991\n",
      "Epoch: 020, LR: 0.001000, Train Loss: 0.6926598, Val Loss: 0.7495884, Time: 1.773495\n",
      "Epoch: 030, LR: 0.001000, Train Loss: 0.7395013, Val Loss: 0.7509951, Time: 1.826457\n",
      "Epoch: 040, LR: 0.001000, Train Loss: 0.7283752, Val Loss: 0.7460425, Time: 1.827289\n",
      "Epoch: 050, LR: 0.000500, Train Loss: 0.6993063, Val Loss: 0.7454823, Time: 1.727684\n",
      "Epoch: 060, LR: 0.000500, Train Loss: 0.7110714, Val Loss: 0.7454571, Time: 1.723190\n",
      "Epoch: 070, LR: 0.000500, Train Loss: 0.7526240, Val Loss: 0.7442305, Time: 1.766463\n",
      "Epoch: 080, LR: 0.000500, Train Loss: 0.7469680, Val Loss: 0.7427226, Time: 1.820799\n",
      "Epoch: 090, LR: 0.000500, Train Loss: 0.7023168, Val Loss: 0.7445388, Time: 1.789928\n",
      "\n",
      "STARTING PREDICTION LEARNING\n",
      "Epoch: 000, LR: 0.000500, Train Loss: 7.6022769, Val Loss: 6.3104228, Time: 0.722889\n",
      "Epoch: 010, LR: 0.000500, Train Loss: 2.6686576, Val Loss: 1.8717156, Time: 0.671007\n",
      "Epoch: 020, LR: 0.000500, Train Loss: 2.0690867, Val Loss: 1.5471721, Time: 0.657275\n",
      "Epoch: 030, LR: 0.000500, Train Loss: 1.7953049, Val Loss: 1.1043625, Time: 0.659034\n",
      "Epoch: 040, LR: 0.000500, Train Loss: 1.5673763, Val Loss: 1.4854173, Time: 0.658911\n",
      "Epoch: 050, LR: 0.000250, Train Loss: 1.4138980, Val Loss: 0.9717233, Time: 0.659623\n",
      "Epoch: 060, LR: 0.000250, Train Loss: 1.3752298, Val Loss: 0.9612711, Time: 0.690352\n",
      "Epoch: 070, LR: 0.000250, Train Loss: 1.2816691, Val Loss: 1.1238717, Time: 0.719429\n",
      "Epoch: 080, LR: 0.000250, Train Loss: 1.2011532, Val Loss: 2.3623613, Time: 0.668796\n",
      "Epoch: 090, LR: 0.000250, Train Loss: 1.2103751, Val Loss: 0.9848851, Time: 0.669184\n",
      "\n",
      "Final Prediction Accuracy: 0.5474777448071216\n",
      "\n"
     ]
    }
   ],
   "source": [
    "# Run one test of training a single split \n",
    "con_loss2, pred_loss2, test_acc2 = training_loop(model2, dataset2, train_idx=splits[0][0], test_idx=splits[0][0], batch_size=BATCH, epochs=NUM_EPOCHS, p1=p1, p2=p2, dropout=dropout, device=device, lr=0.001, seed=0, m=10)"
   ]
  },
  {
   "cell_type": "code",
   "execution_count": null,
   "metadata": {},
   "outputs": [],
   "source": []
  }
 ],
 "metadata": {
  "accelerator": "GPU",
  "colab": {
   "gpuType": "T4",
   "provenance": []
  },
  "gpuClass": "standard",
  "kernelspec": {
   "display_name": "Python (myenv)",
   "language": "python",
   "name": "my-env"
  },
  "language_info": {
   "codemirror_mode": {
    "name": "ipython",
    "version": 3
   },
   "file_extension": ".py",
   "mimetype": "text/x-python",
   "name": "python",
   "nbconvert_exporter": "python",
   "pygments_lexer": "ipython3",
   "version": "3.8.15"
  }
 },
 "nbformat": 4,
 "nbformat_minor": 1
}
