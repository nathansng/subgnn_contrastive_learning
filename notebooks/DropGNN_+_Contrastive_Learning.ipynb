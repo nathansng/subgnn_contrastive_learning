{
 "cells": [
  {
   "cell_type": "markdown",
   "metadata": {
    "id": "Bv46oqe2DpeK"
   },
   "source": [
    "# DropGNN + Contrastive Learning Prototyping"
   ]
  },
  {
   "cell_type": "markdown",
   "metadata": {
    "id": "gdzu3FAaGB64"
   },
   "source": [
    "Work based off of DropGNN\n",
    "\n",
    "https://arxiv.org/pdf/2111.06283.pdf \n",
    "\n",
    "https://github.com/KarolisMart/DropGNN "
   ]
  },
  {
   "cell_type": "code",
   "execution_count": 5,
   "metadata": {
    "id": "cmcqq2oyHCvQ"
   },
   "outputs": [],
   "source": [
    "import os.path as osp\n",
    "import numpy as np\n",
    "import networkx as nx\n",
    "import time\n",
    "import random\n",
    "import matplotlib.pyplot as plt\n",
    "import torch\n",
    "from torch import nn\n",
    "import torch.nn.functional as F\n",
    "from sklearn.model_selection import StratifiedKFold\n",
    "\n",
    "\n",
    "# Torch Geometric \n",
    "try: \n",
    "    from torch_geometric.data import DataLoader, Data\n",
    "    from torch_geometric.data.dataloader import Collater\n",
    "    from torch_geometric.datasets import TUDataset\n",
    "    from torch_geometric.utils import degree\n",
    "    from torch_geometric.utils.convert import from_networkx\n",
    "    from torch_geometric.nn import GINConv, GINEConv, global_add_pool\n",
    "except ModuleNotFoundError: \n",
    "    !pip install torch_geometric\n",
    "    from torch_geometric.data import DataLoader, Data\n",
    "    from torch_geometric.data.dataloader import Collater\n",
    "    from torch_geometric.datasets import TUDataset\n",
    "    from torch_geometric.utils import degree\n",
    "    from torch_geometric.utils.convert import from_networkx\n",
    "    from torch_geometric.nn import GINConv, GINEConv, global_add_pool\n",
    "    \n",
    "# Pytorch Metric Learning\n",
    "try: \n",
    "    from pytorch_metric_learning import losses\n",
    "except ModuleNotFoundError:\n",
    "    !pip install pytorch-metric-learning\n",
    "    from pytorch_metric_learning import losses"
   ]
  },
  {
   "cell_type": "markdown",
   "metadata": {
    "id": "U4VpVUxbJeBQ"
   },
   "source": [
    "## Import Dataset\n",
    "\n",
    "Use the IMDB-Binary dataset"
   ]
  },
  {
   "cell_type": "code",
   "execution_count": 6,
   "metadata": {
    "id": "kpop90ZxIaZW"
   },
   "outputs": [],
   "source": [
    "class MyFilter(object):\n",
    "    def __call__(self, data):\n",
    "        return data.num_nodes <= 70\n",
    "\n",
    "class MyPreTransform(object):\n",
    "    def __call__(self, data):\n",
    "        data.x = degree(data.edge_index[0], data.num_nodes, dtype=torch.long)\n",
    "        data.x = F.one_hot(data.x, num_classes=69).to(torch.float)\n",
    "        return data "
   ]
  },
  {
   "cell_type": "code",
   "execution_count": 7,
   "metadata": {
    "id": "oPb5CIfZJ0TV"
   },
   "outputs": [],
   "source": [
    "# Download data \n",
    "path = osp.join(osp.dirname(osp.realpath(\"./\")), 'data', f'IMDB-BINARY')\n",
    "\n",
    "dataset = TUDataset(\n",
    "    path, \n",
    "    name = \"IMDB-BINARY\", \n",
    "    pre_transform = MyPreTransform(), \n",
    "    pre_filter = MyFilter()\n",
    ")"
   ]
  },
  {
   "cell_type": "code",
   "execution_count": 8,
   "metadata": {
    "colab": {
     "base_uri": "https://localhost:8080/"
    },
    "id": "w1u0WXdtb_Zj",
    "outputId": "db3223f4-c7a7-4096-aa77-046cfad4b008"
   },
   "outputs": [
    {
     "name": "stdout",
     "output_type": "stream",
     "text": [
      "IMDB-BINARY(996)\n"
     ]
    }
   ],
   "source": [
    "print(dataset)"
   ]
  },
  {
   "cell_type": "markdown",
   "metadata": {
    "id": "MtqTi8B8HrCb"
   },
   "source": [
    "## Original DropGIN Model\n",
    "\n",
    "DropGIN model found in DropGNN paper modified to work without CLI arguments"
   ]
  },
  {
   "cell_type": "raw",
   "metadata": {
    "id": "C1N3ZszgDkOF"
   },
   "source": [
    "class DropGIN(nn.Module):\n",
    "    def __init__(self, hidden_units, dropout, use_aux_loss=True, num_runs=20, p=0.1):\n",
    "        super(DropGIN, self).__init__()\n",
    "\n",
    "        # Set starting parameters for model \n",
    "        num_features = dataset.num_features # Number of initial features \n",
    "        dim = hidden_units # Number of hidden units per layer \n",
    "        self.dropout = dropout # Dropout rate \n",
    "        self.use_aux_loss = use_aux_loss\n",
    "        self.num_runs = num_runs\n",
    "        self.p = p\n",
    "\n",
    "        # Number of layers in model\n",
    "        self.num_layers = 4\n",
    "\n",
    "        self.convs = nn.ModuleList() # Made of num_layers GINConv (linear -> batchnorm1d -> relu -> linear)\n",
    "        self.bns = nn.ModuleList() # Made of num_layers BatchNorm1d \n",
    "        self.fcs = nn.ModuleList() # Made of num_layers + 1 Linear layers mapping from num_features or dim to num_classes\n",
    "\n",
    "        # Add initial layer from num_features to dim \n",
    "        self.convs.append(GINConv(nn.Sequential(nn.Linear(num_features, dim), nn.BatchNorm1d(dim), nn.ReLU(), nn.Linear(dim, dim))))\n",
    "        self.bns.append(nn.BatchNorm1d(dim))\n",
    "        self.fcs.append(nn.Linear(num_features, dataset.num_classes))\n",
    "        self.fcs.append(nn.Linear(dim, dataset.num_classes))\n",
    "\n",
    "        # Add additional layers from dim to dim \n",
    "        for i in range(self.num_layers-1):\n",
    "            self.convs.append(GINConv(nn.Sequential(nn.Linear(dim, dim), nn.BatchNorm1d(dim), nn.ReLU(), nn.Linear(dim, dim))))\n",
    "            self.bns.append(nn.BatchNorm1d(dim))\n",
    "            self.fcs.append(nn.Linear(dim, dataset.num_classes))\n",
    "\n",
    "        # Use aux_loss for dropGNN: made of num_layers + 1 linear layers \n",
    "        # Adds new module list of linear layers \n",
    "        if self.use_aux_loss:\n",
    "            self.aux_fcs = nn.ModuleList()\n",
    "            self.aux_fcs.append(nn.Linear(num_features, dataset.num_classes))\n",
    "            for i in range(self.num_layers):\n",
    "                self.aux_fcs.append(nn.Linear(dim, dataset.num_classes))\n",
    "        \n",
    "    def reset_parameters(self):\n",
    "        # Resets parameters for Linear, GINConv, and BatchNorm1d layers\n",
    "        for m in self.modules():\n",
    "            if isinstance(m, nn.Linear):\n",
    "                m.reset_parameters()\n",
    "            elif isinstance(m, GINConv):\n",
    "                m.reset_parameters()\n",
    "            elif isinstance(m, nn.BatchNorm1d):\n",
    "                m.reset_parameters()\n",
    "\n",
    "    def forward(self, data, temp):\n",
    "        # Note: num_runs in DropGNN is average number of nodes in each graph in dataset\n",
    "        # Note: p is 2 * 1 / (1 + gamma), but for this project, p is selected to create augmented views \n",
    "\n",
    "        x = data.x\n",
    "        edge_index = data.edge_index\n",
    "        batch = data.batch\n",
    "            \n",
    "        # Do runs in parallel, by repeating the graphs in the batch\n",
    "        x = x.unsqueeze(0).expand(self.num_runs, -1, -1).clone()   # Flattens features and creates num_runs copy of them \n",
    "        drop = torch.bernoulli(torch.ones([x.size(0), x.size(1)], device=x.device) * self.p).bool()   #  Returns a tensor of randomly dropped nodes based on p (p = probability of dropping) \n",
    "        x[drop] = torch.zeros([drop.sum().long().item(), x.size(-1)], device=x.device)  # Drop nodes from data  \n",
    "        del drop\n",
    "\n",
    "        # Run augmented subgraph through model \n",
    "        outs = [x]  # Used to store view of x after each layer \n",
    "        x = x.view(-1, x.size(-1))  # Swap dimensions of data features \n",
    "        run_edge_index = edge_index.repeat(1, self.num_runs) + torch.arange(self.num_runs, device=edge_index.device).repeat_interleave(edge_index.size(1)) * (edge_index.max() + 1) # Expand edge_index and augment values\n",
    "        for i in range(self.num_layers):\n",
    "            x = self.convs[i](x, run_edge_index)  # Run node features and edge indices through CONV layer \n",
    "            x = self.bns[i](x)  # Run resulting values through BatchNorm1d\n",
    "            x = F.relu(x)   # Run final values through RELU\n",
    "            outs.append(x.view(self.num_runs, -1, x.size(-1)))    # Rearrange dimensions and append to outs \n",
    "        del run_edge_index\n",
    "\n",
    "        # TODO: Replace this with replacable head for contrastive learning and making predictions \n",
    "        # Aggregates results of runs by summing mean and applying random dropout (not dropping out nodes)\n",
    "        out = None\n",
    "        for i, x in enumerate(outs):\n",
    "            x = x.mean(dim=0)\n",
    "            x = global_add_pool(x, batch)\n",
    "            x = F.dropout(self.fcs[i](x), p=self.dropout, training=self.training)\n",
    "            if out is None:\n",
    "                out = x\n",
    "            else:\n",
    "                out += x\n",
    "\n",
    "        if self.use_aux_loss:\n",
    "            aux_out = torch.zeros(self.num_runs, out.size(0), out.size(1), device=out.device)\n",
    "            run_batch = batch.repeat(self.num_runs) + torch.arange(self.num_runs, device=edge_index.device).repeat_interleave(batch.size(0)) * (batch.max() + 1)\n",
    "            for i, x in enumerate(outs):\n",
    "                x = x.view(-1, x.size(-1))\n",
    "                x = global_add_pool(x, run_batch)\n",
    "                x = x.view(self.num_runs, -1, x.size(-1))\n",
    "                x = F.dropout(self.aux_fcs[i](x), p=self.dropout, training=self.training)\n",
    "                aux_out += x\n",
    "\n",
    "            # Returns probabilities of each class based on aggregated results \n",
    "            return F.log_softmax(out, dim=-1), F.log_softmax(aux_out, dim=-1)\n",
    "        else:\n",
    "            return F.log_softmax(out, dim=-1), 0"
   ]
  },
  {
   "cell_type": "markdown",
   "metadata": {},
   "source": [
    "## DropGNN + Contrastive Learning Model\n",
    "\n",
    "Copy of DropGIN model with Contrastive Learning Forward methods added\n",
    "\n",
    "Changes made: \n",
    "- Added more arguments when initializing model instead of depending on global variables \n",
    "- Changed how the forward function is called and run\n",
    "- Add two different forward functions\n",
    "    - Contrastive Forward: Runs graph data through the base model and returns a representation vector \n",
    "    - Prediction Forward: Runs graph data through the base model and returns a probablity vector for each class "
   ]
  },
  {
   "cell_type": "code",
   "execution_count": 56,
   "metadata": {},
   "outputs": [],
   "source": [
    "class DropGNN_Contrastive(nn.Module):\n",
    "    def __init__(self, num_features, num_reps, num_classes, hidden_units, use_aux_loss=True):\n",
    "        super(DropGNN_Contrastive, self).__init__()\n",
    "\n",
    "        # Set starting parameters for model \n",
    "        self.num_features = num_features   # Number of initial features \n",
    "        self.num_reps = num_reps           # Number of features in representation vector \n",
    "        self.num_classes = num_classes     # Number of different classes\n",
    "        self.dim = hidden_units            # Number of units for hidden layers\n",
    "        self.use_aux_loss = use_aux_loss   # Whether to include aux loss to total loss\n",
    "\n",
    "        # Number of layers in model\n",
    "        self.num_layers = 4\n",
    "\n",
    "        self.convs = nn.ModuleList()                     # Made of num_layers GINConv (linear -> batchnorm1d -> relu -> linear)\n",
    "        self.bns = nn.ModuleList()                       # Made of num_layers BatchNorm1d \n",
    "        self.reps = nn.ModuleList() # nn.Linear(self.dim, self.num_reps)   # Layer between base model and contrastive learning representation\n",
    "        self.fcs = nn.ModuleList()                       # Made of num_layers + 1 Linear layers mapping from num_features or dim to num_reps\n",
    "\n",
    "        # Add initial layer from num_features to dim \n",
    "        self.convs.append(GINConv(nn.Sequential(nn.Linear(self.num_features, self.dim), nn.BatchNorm1d(self.dim), nn.ReLU(), nn.Linear(self.dim, self.dim))))\n",
    "        self.bns.append(nn.BatchNorm1d(self.dim))\n",
    "        self.reps.append(nn.Linear(self.num_features, self.num_reps))\n",
    "        self.reps.append(nn.Linear(self.dim, self.num_reps))\n",
    "        self.fcs.append(nn.Linear(self.num_features, self.num_classes))\n",
    "        self.fcs.append(nn.Linear(self.dim, self.num_classes))\n",
    "\n",
    "        # Add additional layers from dim to dim \n",
    "        for i in range(self.num_layers-1):\n",
    "            self.convs.append(GINConv(nn.Sequential(nn.Linear(self.dim, self.dim), nn.BatchNorm1d(self.dim), nn.ReLU(), nn.Linear(self.dim, self.dim))))\n",
    "            self.bns.append(nn.BatchNorm1d(self.dim))\n",
    "            self.reps.append(nn.Linear(self.dim, self.num_reps))\n",
    "            self.fcs.append(nn.Linear(self.dim, self.num_classes))\n",
    "\n",
    "        # Use aux_loss for dropGNN: made of num_layers + 1 linear layers \n",
    "        # Adds new module list of linear layers \n",
    "        if self.use_aux_loss:\n",
    "            self.aux_fcs = nn.ModuleList()\n",
    "            self.aux_fcs.append(nn.Linear(self.num_features, self.num_classes))\n",
    "            for i in range(self.num_layers):\n",
    "                self.aux_fcs.append(nn.Linear(self.dim, self.num_classes))\n",
    "        \n",
    "    def reset_parameters(self):\n",
    "        # Resets parameters for Linear, GINConv, and BatchNorm1d layers\n",
    "        for m in self.modules():\n",
    "            if isinstance(m, nn.Linear):\n",
    "                m.reset_parameters()\n",
    "            elif isinstance(m, GINConv):\n",
    "                m.reset_parameters()\n",
    "            elif isinstance(m, nn.BatchNorm1d):\n",
    "                m.reset_parameters()\n",
    "                \n",
    "    def forward(self, data, mode=\"test\", p=None, dropout=None, num_runs=20):\n",
    "        # Runs different modes based on whether running contrastive loss or making predictions\n",
    "        if mode == 'contrastive':\n",
    "            return self.contrastive(data, p, num_runs)\n",
    "        else:\n",
    "            return self.prediction(data, dropout, num_runs)\n",
    "        \n",
    "    def contrastive(self, data, p, num_runs):\n",
    "        # Trains contrastive model and representation vector model \n",
    "        \n",
    "        # Note: num_runs in DropGNN is average number of nodes in each graph in dataset\n",
    "        # Note: p is 2 * 1 / (1 + gamma), but for this project, p is selected to create augmented views \n",
    "        \n",
    "        self.p = p\n",
    "        self.num_runs = num_runs\n",
    "        \n",
    "        # Store all graphs in sampled batch as one large graph with separate components\n",
    "        x = data.x                     # All nodes and their features (# nodes x # node features)\n",
    "        edge_index = data.edge_index   # All edge index pairs from large single graph\n",
    "        batch = data.batch             # Batch numbers that group nodes within the same graph with same batch number\n",
    "        \n",
    "        # Do runs in parallel by repeating nodes and creating num_runs different views\n",
    "        x = x.unsqueeze(0).expand(self.num_runs, -1, -1).clone()   # Creates num_runs copy of node features\n",
    "        drop = torch.bernoulli(torch.ones([x.size(0), x.size(1)], device=x.device) * self.p).bool()   #  Randomly determine whether node is dropped within each copy of num_runs\n",
    "        x[drop] = torch.zeros([drop.sum().long().item(), x.size(-1)], device=x.device)  # Drop nodes from graphs  \n",
    "        del drop\n",
    "        \n",
    "        # Allow gradients to update base model \n",
    "        if self.training:\n",
    "            for layer in self.convs: \n",
    "                for p in layer.parameters():\n",
    "                    p.requires_grad = True\n",
    "\n",
    "            for layer in self.bns:\n",
    "                for p in layer.parameters():\n",
    "                    p.requires_grad = True\n",
    "        \n",
    "        # Run augmented subgraph through model \n",
    "        outs = [x]  # Used to store n-hop neighborhood representations, after running through model n times\n",
    "        x = x.view(-1, x.size(-1))  # Concat all num_run copies of nodes \n",
    "        run_edge_index = edge_index.repeat(1, self.num_runs) + torch.arange(self.num_runs, device=edge_index.device).repeat_interleave(edge_index.size(1)) * (edge_index.max() + 1) # Transform edge_index to correspond to the same nodes in concatenated form  \n",
    "        for i in range(self.num_layers):\n",
    "            x = self.convs[i](x, run_edge_index)  # Run node features and edge indices through CONV layer \n",
    "            x = self.bns[i](x)  # Run resulting values through BatchNorm1d\n",
    "            x = F.relu(x)   # Run final values through RELU\n",
    "            outs.append(x.view(self.num_runs, -1, x.size(-1)))  # Return x back to original stacked form \n",
    "        del run_edge_index\n",
    "        \n",
    "        # Aggregates results of runs by taking mean of each run and summing results of runs\n",
    "        out = None\n",
    "        for i, x in enumerate(outs):\n",
    "            x = x.mean(dim=0)                  # Take average of all node features of same nodes \n",
    "            x = global_add_pool(x, batch)      # Take the sum of all node features for nodes in same graph \n",
    "            x = self.reps[i](x)                # Run graph features into linear layer to get contrastive representation\n",
    "            if out is None:\n",
    "                out = x\n",
    "            else:\n",
    "                out += x\n",
    "                \n",
    "        # Returns all contrastive graph embeddings in batch \n",
    "        return out\n",
    "    \n",
    "    def prediction(self, data, dropout, num_runs):\n",
    "        self.dropout = dropout\n",
    "        self.num_runs = num_runs\n",
    "        \n",
    "        # Create intermediate representations \n",
    "        x = data.x \n",
    "        edge_index = data.edge_index\n",
    "        batch = data.batch \n",
    "        \n",
    "        # Do runs in parallel, by repeating the graphs in the batch\n",
    "        x = x.unsqueeze(0).expand(self.num_runs, -1, -1).clone()   # Flattens features and creates num_runs copy of them \n",
    "        drop = torch.bernoulli(torch.ones([x.size(0), x.size(1)], device=x.device) * self.p).bool()   #  Returns a tensor of randomly dropped nodes based on p (p = probability of dropping) \n",
    "        x[drop] = torch.zeros([drop.sum().long().item(), x.size(-1)], device=x.device)  # Drop nodes from data  \n",
    "        del drop\n",
    "        \n",
    "        # Stop gradients from updating base model \n",
    "        for layer in self.convs:\n",
    "            for p in layer.parameters():\n",
    "                p.requires_grad = False\n",
    "                \n",
    "        for layer in self.bns:\n",
    "            for p in layer.parameters():\n",
    "                p.requires_grad = False\n",
    "        \n",
    "        # Run augmented subgraph through model \n",
    "        outs = [x]  # Used to store view of x after each layer \n",
    "        x = x.view(-1, x.size(-1))  # Swap dimensions of data features \n",
    "        run_edge_index = edge_index.repeat(1, self.num_runs) + torch.arange(self.num_runs, device=edge_index.device).repeat_interleave(edge_index.size(1)) * (edge_index.max() + 1) # Expand edge_index and augment values\n",
    "        for i in range(self.num_layers):\n",
    "            x = self.convs[i](x, run_edge_index)  # Run node features and edge indices through CONV layer \n",
    "            x = self.bns[i](x)  # Run resulting values through BatchNorm1d\n",
    "            x = F.relu(x)   # Run final values through RELU\n",
    "            outs.append(x.view(self.num_runs, -1, x.size(-1)))    # Rearrange dimensions and append to outs \n",
    "        del run_edge_index\n",
    "        \n",
    "        # Aggregates results of runs by summing mean and applying random dropout (not dropping out nodes)\n",
    "        out = None\n",
    "        for i, x in enumerate(outs):\n",
    "            x = x.mean(dim=0)\n",
    "            x = global_add_pool(x, batch)\n",
    "            x = F.dropout(self.fcs[i](x), p=self.dropout, training=self.training)\n",
    "            if out is None:\n",
    "                out = x\n",
    "            else:\n",
    "                out += x\n",
    "        \n",
    "        # Returns the likelihood of each outcome class\n",
    "        return F.log_softmax(out, dim=-1)  # Swap this with code block below to allow aux loss, removed for simplicity\n",
    "    \n",
    "#         if self.use_aux_loss:\n",
    "#             # Use predictions from individual runs instead of aggregating results of all runs (no mean(x))\n",
    "#             aux_out = torch.zeros(self.num_runs, out.size(0), out.size(1), device=out.device)\n",
    "#             run_batch = batch.repeat(self.num_runs) + torch.arange(self.num_runs, device=edge_index.device).repeat_interleave(batch.size(0)) * (batch.max() + 1) # Assign updated batch numbers such that each individual run is counted separately\n",
    "#             for i, x in enumerate(outs):\n",
    "#                 x = x.view(-1, x.size(-1))\n",
    "#                 x = global_add_pool(x, run_batch)\n",
    "#                 x = x.view(self.num_runs, -1, x.size(-1))\n",
    "#                 x = F.dropout(self.aux_fcs[i](x), p=self.dropout, training=self.training)\n",
    "#                 aux_out += x\n",
    "\n",
    "#             # Returns probabilities of each class based on aggregated results \n",
    "#             return F.log_softmax(out, dim=-1), F.log_softmax(aux_out, dim=-1)\n",
    "#         else:\n",
    "#             return F.log_softmax(out, dim=-1), 0"
   ]
  },
  {
   "cell_type": "markdown",
   "metadata": {
    "id": "fF6Gp8oIf2yR"
   },
   "source": [
    "## Training Modules\n",
    "\n",
    "Note: DropGIN Training Modules are meant for DropGIN model only\n",
    "\n",
    "Changes Made: \n",
    "- Added training function and validation function for contrastive learning \n",
    "- Added training function, validation function, and testing function for prediction task"
   ]
  },
  {
   "cell_type": "markdown",
   "metadata": {},
   "source": [
    "### DropGIN Training Modules"
   ]
  },
  {
   "cell_type": "code",
   "execution_count": 57,
   "metadata": {
    "id": "GB8RAp5Lf2YJ"
   },
   "outputs": [],
   "source": [
    "# Default training function for original DropGIN\n",
    "def train(model, epoch, loader, optimizer):\n",
    "    # Set model to training \n",
    "    model.train()\n",
    "\n",
    "    # Run data through model and update model \n",
    "    loss_all = 0\n",
    "    n = 0\n",
    "    for data in loader:\n",
    "        data = data.to(device)\n",
    "        optimizer.zero_grad()\n",
    "        logs, aux_logs = model(data) \n",
    "        loss = F.nll_loss(logs, data.y) \n",
    "    \n",
    "        if model.use_aux_loss:\n",
    "            aux_loss = F.nll_loss(aux_logs.view(-1, aux_logs.size(-1)), data.y.unsqueeze(0).expand(aux_logs.size(0), -1).clone().view(-1))\n",
    "            loss = 0.75 * loss + 0.25 * aux_loss \n",
    "    \n",
    "        loss.backward()\n",
    "        loss_all += data.num_graphs * loss.item()\n",
    "        n += len(data.y)\n",
    "        optimizer.step()\n",
    "\n",
    "    return loss_all / n"
   ]
  },
  {
   "cell_type": "code",
   "execution_count": 58,
   "metadata": {
    "id": "e36kqtIcpsN-"
   },
   "outputs": [],
   "source": [
    "# Default validation function for original DropGIN, uses nll loss \n",
    "def validate(model, loader):\n",
    "    model.eval()\n",
    "    with torch.no_grad():\n",
    "        loss_all = 0\n",
    "        for data in loader:\n",
    "            data = data.to(device)\n",
    "            logs, aux_logs = model(data)\n",
    "            loss_all += F.nll_loss(logs, data.y, reduction=\"sum\").item()\n",
    "    return loss_all / len(loader.dataset)"
   ]
  },
  {
   "cell_type": "code",
   "execution_count": 59,
   "metadata": {
    "id": "wG80t0A3qRdg"
   },
   "outputs": [],
   "source": [
    "# Default test function for original DropGIN, uses accuracy \n",
    "def test(model, loader):\n",
    "    model.eval()\n",
    "    with torch.no_grad():\n",
    "        correct = 0\n",
    "        for data in loader:\n",
    "            data = data.to(device)\n",
    "            logs, aux_logs = model(data) \n",
    "            pred = logs.max(1)[1]\n",
    "            correct += pred.eq(data.y).sum().item()\n",
    "    return correct / len(loader.dataset)"
   ]
  },
  {
   "cell_type": "markdown",
   "metadata": {},
   "source": [
    "### Contrastive Learning Training Modules"
   ]
  },
  {
   "cell_type": "code",
   "execution_count": 85,
   "metadata": {},
   "outputs": [],
   "source": [
    "# Used to train contrastive model \n",
    "def train_contrastive(model, loader, optimizer, loss_fn, p1 = 0.1, p2 = 0.2):\n",
    "    # Set model to training\n",
    "    model.train()\n",
    "    \n",
    "#     # Create self-supervised loss function\n",
    "#     loss_func = losses.SelfSupervisedLoss(losses.TripletMarginLoss())\n",
    "    \n",
    "    # Run data through model and update model\n",
    "    loss_all = 0\n",
    "    n = 0 \n",
    "    for data in loader: \n",
    "        data = data.to(device)\n",
    "        optimizer.zero_grad()\n",
    "        embeddings_1 = model(data, mode = \"contrastive\", p = p1)\n",
    "        embeddings_2 = model(data, mode = \"contrastive\", p = p2)\n",
    "        \n",
    "        # Used as loss(embeddings, labels)\n",
    "        loss = loss_fn(embeddings_1, embeddings_2)\n",
    "        loss.backward()\n",
    "        optimizer.step() \n",
    "        \n",
    "        loss_all += data.num_graphs * loss.item()\n",
    "        n += data.num_graphs\n",
    "    return loss_all / n"
   ]
  },
  {
   "cell_type": "code",
   "execution_count": 86,
   "metadata": {},
   "outputs": [],
   "source": [
    "# Used to validate contrastive model \n",
    "def valid_contrastive(model, loader, loss_fn, p1 = 0.1, p2 = 0.2):\n",
    "    # Set model to eval\n",
    "    model.eval()\n",
    "    \n",
    "#     # Create self-supervised loss function\n",
    "#     loss_func = losses.SelfSupervisedLoss(losses.TripletMarginLoss())\n",
    "    \n",
    "    with torch.no_grad():\n",
    "        loss_all = 0\n",
    "        n = 0\n",
    "        for data in loader: \n",
    "            data = data.to(device)\n",
    "            embeddings_1 = model(data, mode = \"contrastive\", p = p1)\n",
    "            embeddings_2 = model(data, mode = \"contrastive\", p = p2)\n",
    "            loss = loss_fn(embeddings_1, embeddings_2)\n",
    "            \n",
    "            loss_all += data.num_graphs * loss.item()\n",
    "            n += data.num_graphs\n",
    "    return loss_all / n"
   ]
  },
  {
   "cell_type": "markdown",
   "metadata": {},
   "source": [
    "### Prediction Training Modules"
   ]
  },
  {
   "cell_type": "code",
   "execution_count": 64,
   "metadata": {},
   "outputs": [],
   "source": [
    "# Used to train prediction model AFTER contrastive learning \n",
    "def train_prediction(model, loader, optimizer, dropout = 0.5):\n",
    "    # Set model to training\n",
    "    model.train()\n",
    "    \n",
    "    # Run data through model and update model \n",
    "    loss_all = 0\n",
    "    n = 0\n",
    "    for data in loader:\n",
    "        data = data.to(device)\n",
    "        optimizer.zero_grad()\n",
    "        results = model(data, mode = \"prediction\", dropout = dropout)\n",
    "        loss = F.nll_loss(results, data.y)\n",
    "        \n",
    "#         if model.use_aux_loss:\n",
    "#             aux_loss = F.nll_loss(aux_logs.view(-1, aux_logs.size(-1)), data.y.unsqueeze(0).expand(aux_logs.size(0), -1).clone().view(-1))\n",
    "#             loss = 0.75 * loss + 0.25 * aux_loss \n",
    "    \n",
    "        loss.backward()\n",
    "        loss_all += data.num_graphs * loss.item()\n",
    "        n += len(data.y)\n",
    "        optimizer.step()\n",
    "\n",
    "    return loss_all / n"
   ]
  },
  {
   "cell_type": "code",
   "execution_count": 65,
   "metadata": {},
   "outputs": [],
   "source": [
    "# Used to validate prediction model AFTER contrastive learning, returns loss \n",
    "def valid_prediction(model, loader, dropout = 0.5):\n",
    "    # Set model to eval\n",
    "    model.eval()\n",
    "    \n",
    "    # Run data through model\n",
    "    with torch.no_grad():\n",
    "        loss_all = 0\n",
    "        n = 0\n",
    "        for data in loader:\n",
    "            data = data.to(device)\n",
    "            results = model(data, mode = \"prediction\", dropout = dropout)\n",
    "            loss = F.nll_loss(results, data.y)\n",
    "\n",
    "#             if model.use_aux_loss:\n",
    "#                 aux_loss = F.nll_loss(aux_logs.view(-1, aux_logs.size(-1)), data.y.unsqueeze(0).expand(aux_logs.size(0), -1).clone().view(-1))\n",
    "#                 loss = 0.75 * loss + 0.25 * aux_loss \n",
    "                \n",
    "            loss_all += data.num_graphs * loss.item()\n",
    "            n += len(data.y)\n",
    "\n",
    "    return loss_all / n"
   ]
  },
  {
   "cell_type": "code",
   "execution_count": 17,
   "metadata": {},
   "outputs": [],
   "source": [
    "# Used to test prediction model AFTER contrastive learning, returns accuracy\n",
    "def test_prediction(model, loader, dropout = 0.5):\n",
    "    # Set model to eval\n",
    "    model.eval() \n",
    "    \n",
    "    # Run data through model and make predictions\n",
    "    with torch.no_grad():\n",
    "        correct = 0\n",
    "        for data in loader: \n",
    "            data = data.to(device)\n",
    "            results = model(data, mode = \"prediction\", dropout = dropout)\n",
    "            pred = results.max(1)[1]\n",
    "            correct += pred.eq(data.y).sum().item()\n",
    "    return correct / len(loader.dataset)"
   ]
  },
  {
   "cell_type": "markdown",
   "metadata": {
    "id": "YyriXAImrdTd"
   },
   "source": [
    "## Split Dataset into K-Folds"
   ]
  },
  {
   "cell_type": "code",
   "execution_count": 66,
   "metadata": {
    "id": "3wui_6Yerfn-"
   },
   "outputs": [],
   "source": [
    "def separate_data(dataset_len, seed=0):\n",
    "    folds = StratifiedKFold(n_splits=10, shuffle=True, random_state=seed)\n",
    "    idx_list = []\n",
    "    for idx in folds.split(np.zeros(dataset_len), np.zeros(dataset_len)):\n",
    "        idx_list.append(idx)\n",
    "    return idx_list"
   ]
  },
  {
   "cell_type": "markdown",
   "metadata": {
    "id": "RK_8wBdMgBjj"
   },
   "source": [
    "## Run DropGIN Model"
   ]
  },
  {
   "cell_type": "raw",
   "metadata": {
    "colab": {
     "base_uri": "https://localhost:8080/"
    },
    "id": "nQjeCJN-c8og",
    "outputId": "fe7dd714-7d4d-4de8-a3ad-42e2eacae683"
   },
   "source": [
    "# Set random seeds\n",
    "torch.manual_seed(0)\n",
    "np.random.seed(0)\n",
    "\n",
    "# Set batch size\n",
    "BATCH = 32    # Default batch size in DropGNN\n",
    "\n",
    "# Set number of epochs\n",
    "NUM_EPOCHS = 100\n",
    "\n",
    "# Use GPU if available\n",
    "device = torch.device('cuda' if torch.cuda.is_available() else 'cpu')\n",
    "print(f\"Device: {device}\")"
   ]
  },
  {
   "cell_type": "raw",
   "metadata": {
    "id": "7qE6ky4lgAFF"
   },
   "source": [
    "# Create model\n",
    "model = DropGIN(64, 0.5).to(device)\n",
    "\n",
    "# Split dataset\n",
    "n = len(dataset)\n",
    "splits = separate_data(n, seed=0)"
   ]
  },
  {
   "cell_type": "raw",
   "metadata": {
    "colab": {
     "base_uri": "https://localhost:8080/"
    },
    "id": "diafNwnnsw1d",
    "outputId": "4a95e6a7-31bd-46d4-9020-05c85ab17924"
   },
   "source": [
    "# Train model\n",
    "acc = []\n",
    "for i, (train_idx, valid_idx) in enumerate(splits[2:3]): # TODO: Change back to all splits\n",
    "    model.reset_parameters()    # Resets upon every new fold \n",
    "    lr = 0.01\n",
    "    optimizer = torch.optim.Adam(model.parameters(), lr=lr)\n",
    "    scheduler = torch.optim.lr_scheduler.StepLR(optimizer, step_size=50, gamma=0.5) # Used to learn learning rate \n",
    "  \n",
    "    valid_dataset = dataset[valid_idx.tolist()]\n",
    "    train_dataset = dataset[train_idx.tolist()]\n",
    "\n",
    "    valid_loader = DataLoader(valid_dataset, batch_size=BATCH)\n",
    "    # train_loader = DataLoader(train_dataset, batch_size=BATCH)\n",
    "    train_loader = torch.utils.data.DataLoader(train_dataset, sampler=torch.utils.data.RandomSampler(train_dataset, replacement=True, num_samples=int(len(train_dataset)*50/(len(train_dataset)/BATCH))), batch_size=BATCH, drop_last=False, collate_fn=Collater(follow_batch=[],exclude_keys=[]))\n",
    "\n",
    "    # Train model for multiple epochs\n",
    "    valid_acc = 0 \n",
    "    acc_temp = []\n",
    "    for epoch in range(NUM_EPOCHS):\n",
    "        if epoch % 25 == 0:\n",
    "            start = time.time()\n",
    "\n",
    "        lr = scheduler.optimizer.param_groups[0]['lr']\n",
    "        train_loss = train(model, epoch, train_loader, optimizer)\n",
    "        scheduler.step()\n",
    "        valid_acc = test(model, valid_loader)\n",
    "        acc_temp.append(valid_acc)\n",
    "\n",
    "        if epoch % 25 == 0:\n",
    "            print('Epoch: {:03d}, LR: {:7f}, Train Loss: {:.7f}, '\n",
    "                'Val Loss: {:.7f}, Test Acc: {:.7f}, Time: {:7f}'.format(\n",
    "                    epoch, lr, train_loss, 0, valid_acc, time.time() - start), flush=True)\n",
    "\n",
    "    acc.append(torch.tensor(acc_temp))\n",
    "\n",
    "acc = torch.stack(acc, dim=0)\n",
    "acc_mean = acc.mean(dim=0)\n",
    "best_epoch = acc_mean.argmax().item()"
   ]
  },
  {
   "cell_type": "raw",
   "metadata": {
    "colab": {
     "base_uri": "https://localhost:8080/"
    },
    "id": "_Uu-W5AzzMoH",
    "outputId": "2dff7bd7-286e-41d3-ac71-2c32ed8f4232"
   },
   "source": [
    "# Note: std won't work if only using one k-fold \n",
    "\n",
    "print('---------------- Final Epoch Result ----------------')\n",
    "print('Mean: {:7f}, Std: {:7f}'.format(acc[:,-1].mean(), acc[:,-1].std()))\n",
    "print(f'---------------- Best Epoch: {best_epoch} ----------------')\n",
    "print('Mean: {:7f}, Std: {:7f}'.format(acc[:,best_epoch].mean(), acc[:,best_epoch].std()), flush=True)"
   ]
  },
  {
   "cell_type": "markdown",
   "metadata": {},
   "source": [
    "## Run DropGNN + Contrastive Learning Model"
   ]
  },
  {
   "cell_type": "code",
   "execution_count": 95,
   "metadata": {},
   "outputs": [
    {
     "name": "stdout",
     "output_type": "stream",
     "text": [
      "Device: cuda\n"
     ]
    }
   ],
   "source": [
    "# Set random seeds\n",
    "torch.manual_seed(0)\n",
    "np.random.seed(0)\n",
    "\n",
    "# Set batch size\n",
    "BATCH = 32    # Default batch size in DropGNN\n",
    "\n",
    "# Set number of epochs\n",
    "NUM_EPOCHS = 100\n",
    "\n",
    "# Use GPU if available\n",
    "device = torch.device('cuda' if torch.cuda.is_available() else 'cpu')\n",
    "print(f\"Device: {device}\")"
   ]
  },
  {
   "cell_type": "code",
   "execution_count": 96,
   "metadata": {},
   "outputs": [],
   "source": [
    "# Create model\n",
    "model = DropGNN_Contrastive(num_features=dataset.num_features, num_reps=32, num_classes=dataset.num_classes, hidden_units=64).to(device)\n",
    "\n",
    "# Split dataset\n",
    "n = len(dataset)\n",
    "splits = separate_data(n, seed=2)"
   ]
  },
  {
   "cell_type": "code",
   "execution_count": 97,
   "metadata": {
    "scrolled": true
   },
   "outputs": [
    {
     "name": "stdout",
     "output_type": "stream",
     "text": [
      "Epoch: 000, LR: 0.001000, Train Loss: 0.2580405, Val Loss: 0.2182602, Time: 1.685957\n",
      "Epoch: 001, LR: 0.001000, Train Loss: 0.1734121, Val Loss: 0.1851906, Time: 1.326933\n",
      "Epoch: 002, LR: 0.001000, Train Loss: 0.1439138, Val Loss: 0.1815940, Time: 1.591096\n",
      "Epoch: 003, LR: 0.001000, Train Loss: 0.1666774, Val Loss: 0.1670579, Time: 1.395135\n",
      "Epoch: 004, LR: 0.001000, Train Loss: 0.1448534, Val Loss: 0.1627869, Time: 1.451784\n",
      "Epoch: 005, LR: 0.001000, Train Loss: 0.1735731, Val Loss: 0.1746911, Time: 1.380292\n",
      "Epoch: 006, LR: 0.001000, Train Loss: 0.1655020, Val Loss: 0.1642491, Time: 1.243545\n",
      "Epoch: 007, LR: 0.001000, Train Loss: 0.1744154, Val Loss: 0.1595738, Time: 1.235600\n",
      "Epoch: 008, LR: 0.001000, Train Loss: 0.1589045, Val Loss: 0.1609388, Time: 1.248390\n",
      "Epoch: 009, LR: 0.001000, Train Loss: 0.1527542, Val Loss: 0.1668701, Time: 1.255108\n",
      "Epoch: 010, LR: 0.001000, Train Loss: 0.1532159, Val Loss: 0.1639269, Time: 1.530680\n",
      "Epoch: 011, LR: 0.001000, Train Loss: 0.1585375, Val Loss: 0.1620551, Time: 1.311445\n",
      "Epoch: 012, LR: 0.001000, Train Loss: 0.1563788, Val Loss: 0.1705491, Time: 1.226556\n",
      "Epoch: 013, LR: 0.001000, Train Loss: 0.1588360, Val Loss: 0.1608689, Time: 1.209139\n",
      "Epoch: 014, LR: 0.001000, Train Loss: 0.1540558, Val Loss: 0.1486285, Time: 1.235545\n",
      "Epoch: 015, LR: 0.001000, Train Loss: 0.1821696, Val Loss: 0.1665661, Time: 1.223178\n",
      "Epoch: 016, LR: 0.001000, Train Loss: 0.1613092, Val Loss: 0.1637391, Time: 1.429003\n",
      "Epoch: 017, LR: 0.001000, Train Loss: 0.1577057, Val Loss: 0.1705845, Time: 1.351239\n",
      "Epoch: 018, LR: 0.001000, Train Loss: 0.1583099, Val Loss: 0.1651073, Time: 1.221562\n",
      "Epoch: 019, LR: 0.001000, Train Loss: 0.1676377, Val Loss: 0.1646260, Time: 1.167024\n",
      "Epoch: 020, LR: 0.001000, Train Loss: 0.1653684, Val Loss: 0.1618390, Time: 1.256007\n",
      "Epoch: 021, LR: 0.001000, Train Loss: 0.1453442, Val Loss: 0.1595445, Time: 1.237627\n",
      "Epoch: 022, LR: 0.001000, Train Loss: 0.1859908, Val Loss: 0.1524403, Time: 1.276423\n",
      "Epoch: 023, LR: 0.001000, Train Loss: 0.1588154, Val Loss: 0.1503948, Time: 1.253358\n",
      "Epoch: 024, LR: 0.001000, Train Loss: 0.1670787, Val Loss: 0.1594492, Time: 1.238453\n",
      "Epoch: 025, LR: 0.001000, Train Loss: 0.1683276, Val Loss: 0.1656787, Time: 1.237427\n",
      "Epoch: 026, LR: 0.001000, Train Loss: 0.1645808, Val Loss: 0.1604478, Time: 1.228716\n",
      "Epoch: 027, LR: 0.001000, Train Loss: 0.1429610, Val Loss: 0.1600738, Time: 1.210785\n",
      "Epoch: 028, LR: 0.001000, Train Loss: 0.1172725, Val Loss: 0.1566547, Time: 1.220225\n",
      "Epoch: 029, LR: 0.001000, Train Loss: 0.1500239, Val Loss: 0.1564291, Time: 1.294919\n",
      "Epoch: 030, LR: 0.001000, Train Loss: 0.1781250, Val Loss: 0.1575618, Time: 1.238684\n",
      "Epoch: 031, LR: 0.001000, Train Loss: 0.1527230, Val Loss: 0.1510766, Time: 1.257585\n",
      "Epoch: 032, LR: 0.001000, Train Loss: 0.1526327, Val Loss: 0.1474577, Time: 1.297141\n",
      "Epoch: 033, LR: 0.001000, Train Loss: 0.1756270, Val Loss: 0.1533465, Time: 1.238919\n",
      "Epoch: 034, LR: 0.001000, Train Loss: 0.1482046, Val Loss: 0.1508842, Time: 1.220695\n",
      "Epoch: 035, LR: 0.001000, Train Loss: 0.1466856, Val Loss: 0.1552669, Time: 1.246268\n",
      "Epoch: 036, LR: 0.001000, Train Loss: 0.1646110, Val Loss: 0.1465721, Time: 1.286241\n",
      "Epoch: 037, LR: 0.001000, Train Loss: 0.1463150, Val Loss: 0.1573198, Time: 1.235709\n",
      "Epoch: 038, LR: 0.001000, Train Loss: 0.1575181, Val Loss: 0.1448099, Time: 1.248257\n",
      "Epoch: 039, LR: 0.001000, Train Loss: 0.1640417, Val Loss: 0.1563270, Time: 1.239065\n",
      "Epoch: 040, LR: 0.001000, Train Loss: 0.1636601, Val Loss: 0.1448263, Time: 1.255765\n",
      "Epoch: 041, LR: 0.001000, Train Loss: 0.1463758, Val Loss: 0.1559613, Time: 1.269723\n",
      "Epoch: 042, LR: 0.001000, Train Loss: 0.1524814, Val Loss: 0.1494579, Time: 1.262186\n",
      "Epoch: 043, LR: 0.001000, Train Loss: 0.1675592, Val Loss: 0.1447212, Time: 1.245797\n",
      "Epoch: 044, LR: 0.001000, Train Loss: 0.1454219, Val Loss: 0.1447343, Time: 1.389509\n",
      "Epoch: 045, LR: 0.001000, Train Loss: 0.1510247, Val Loss: 0.1308898, Time: 1.269450\n",
      "Epoch: 046, LR: 0.001000, Train Loss: 0.1504569, Val Loss: 0.1375021, Time: 1.246284\n",
      "Epoch: 047, LR: 0.001000, Train Loss: 0.1519132, Val Loss: 0.1471778, Time: 1.261211\n",
      "Epoch: 048, LR: 0.001000, Train Loss: 0.1815986, Val Loss: 0.1429201, Time: 1.340211\n",
      "Epoch: 049, LR: 0.001000, Train Loss: 0.1431493, Val Loss: 0.1450333, Time: 1.219307\n",
      "Epoch: 050, LR: 0.000500, Train Loss: 0.1522675, Val Loss: 0.1322822, Time: 1.269629\n",
      "Epoch: 051, LR: 0.000500, Train Loss: 0.1588204, Val Loss: 0.1289101, Time: 1.221949\n",
      "Epoch: 052, LR: 0.000500, Train Loss: 0.1825710, Val Loss: 0.1440296, Time: 1.206722\n",
      "Epoch: 053, LR: 0.000500, Train Loss: 0.1548449, Val Loss: 0.1488349, Time: 1.209391\n",
      "Epoch: 054, LR: 0.000500, Train Loss: 0.1612001, Val Loss: 0.1424779, Time: 1.263757\n",
      "Epoch: 055, LR: 0.000500, Train Loss: 0.1558377, Val Loss: 0.1343766, Time: 1.229520\n",
      "Epoch: 056, LR: 0.000500, Train Loss: 0.1535487, Val Loss: 0.1327389, Time: 1.263089\n",
      "Epoch: 057, LR: 0.000500, Train Loss: 0.1428268, Val Loss: 0.1417654, Time: 1.214474\n",
      "Epoch: 058, LR: 0.000500, Train Loss: 0.1675263, Val Loss: 0.1283087, Time: 1.226403\n",
      "Epoch: 059, LR: 0.000500, Train Loss: 0.1452817, Val Loss: 0.1458244, Time: 1.214249\n",
      "Epoch: 060, LR: 0.000500, Train Loss: 0.1346981, Val Loss: 0.1411855, Time: 1.221621\n",
      "Epoch: 061, LR: 0.000500, Train Loss: 0.1429353, Val Loss: 0.1457160, Time: 1.233327\n",
      "Epoch: 062, LR: 0.000500, Train Loss: 0.1622225, Val Loss: 0.1503885, Time: 1.213106\n",
      "Epoch: 063, LR: 0.000500, Train Loss: 0.1658347, Val Loss: 0.1445698, Time: 1.265530\n",
      "Epoch: 064, LR: 0.000500, Train Loss: 0.1491493, Val Loss: 0.1431594, Time: 1.229721\n",
      "Epoch: 065, LR: 0.000500, Train Loss: 0.1486564, Val Loss: 0.1493636, Time: 1.216873\n",
      "Epoch: 066, LR: 0.000500, Train Loss: 0.1365120, Val Loss: 0.1405989, Time: 1.562275\n",
      "Epoch: 067, LR: 0.000500, Train Loss: 0.1299748, Val Loss: 0.1468226, Time: 1.397139\n",
      "Epoch: 068, LR: 0.000500, Train Loss: 0.1605603, Val Loss: 0.1499475, Time: 1.271631\n",
      "Epoch: 069, LR: 0.000500, Train Loss: 0.1646668, Val Loss: 0.1381915, Time: 1.700158\n",
      "Epoch: 070, LR: 0.000500, Train Loss: 0.1236075, Val Loss: 0.1457663, Time: 1.436901\n",
      "Epoch: 071, LR: 0.000500, Train Loss: 0.1527154, Val Loss: 0.1395477, Time: 1.382455\n",
      "Epoch: 072, LR: 0.000500, Train Loss: 0.1600028, Val Loss: 0.1467140, Time: 1.366407\n",
      "Epoch: 073, LR: 0.000500, Train Loss: 0.1519094, Val Loss: 0.1352184, Time: 1.390892\n",
      "Epoch: 074, LR: 0.000500, Train Loss: 0.1353644, Val Loss: 0.1314427, Time: 1.384705\n",
      "Epoch: 075, LR: 0.000500, Train Loss: 0.1444192, Val Loss: 0.1330550, Time: 1.346204\n",
      "Epoch: 076, LR: 0.000500, Train Loss: 0.1650800, Val Loss: 0.1282625, Time: 1.392607\n",
      "Epoch: 077, LR: 0.000500, Train Loss: 0.1527375, Val Loss: 0.1337034, Time: 1.481723\n",
      "Epoch: 078, LR: 0.000500, Train Loss: 0.1482356, Val Loss: 0.1345073, Time: 1.429883\n",
      "Epoch: 079, LR: 0.000500, Train Loss: 0.1458863, Val Loss: 0.1322684, Time: 1.278994\n",
      "Epoch: 080, LR: 0.000500, Train Loss: 0.1530318, Val Loss: 0.1459082, Time: 1.165218\n",
      "Epoch: 081, LR: 0.000500, Train Loss: 0.1492856, Val Loss: 0.1395270, Time: 1.164551\n",
      "Epoch: 082, LR: 0.000500, Train Loss: 0.1346409, Val Loss: 0.1400616, Time: 1.220952\n",
      "Epoch: 083, LR: 0.000500, Train Loss: 0.1560331, Val Loss: 0.1434676, Time: 1.231377\n",
      "Epoch: 084, LR: 0.000500, Train Loss: 0.1508563, Val Loss: 0.1519209, Time: 1.281056\n",
      "Epoch: 085, LR: 0.000500, Train Loss: 0.1457794, Val Loss: 0.1457582, Time: 1.519871\n",
      "Epoch: 086, LR: 0.000500, Train Loss: 0.1274866, Val Loss: 0.1436227, Time: 1.222075\n",
      "Epoch: 087, LR: 0.000500, Train Loss: 0.1662663, Val Loss: 0.1521526, Time: 1.321927\n",
      "Epoch: 088, LR: 0.000500, Train Loss: 0.1385265, Val Loss: 0.1477025, Time: 1.202828\n",
      "Epoch: 089, LR: 0.000500, Train Loss: 0.1364703, Val Loss: 0.1410556, Time: 1.199048\n",
      "Epoch: 090, LR: 0.000500, Train Loss: 0.1376157, Val Loss: 0.1405519, Time: 1.168411\n",
      "Epoch: 091, LR: 0.000500, Train Loss: 0.1510196, Val Loss: 0.1411632, Time: 1.204658\n",
      "Epoch: 092, LR: 0.000500, Train Loss: 0.1375644, Val Loss: 0.1357690, Time: 1.398105\n",
      "Epoch: 093, LR: 0.000500, Train Loss: 0.1642447, Val Loss: 0.1406245, Time: 1.270550\n",
      "Epoch: 094, LR: 0.000500, Train Loss: 0.1504314, Val Loss: 0.1407110, Time: 1.184176\n",
      "Epoch: 095, LR: 0.000500, Train Loss: 0.1649570, Val Loss: 0.1376133, Time: 1.429334\n",
      "Epoch: 096, LR: 0.000500, Train Loss: 0.1500782, Val Loss: 0.1325193, Time: 1.238634\n"
     ]
    },
    {
     "name": "stdout",
     "output_type": "stream",
     "text": [
      "Epoch: 097, LR: 0.000500, Train Loss: 0.1646086, Val Loss: 0.1389318, Time: 1.159359\n",
      "Epoch: 098, LR: 0.000500, Train Loss: 0.1637669, Val Loss: 0.1446008, Time: 1.194157\n",
      "Epoch: 099, LR: 0.000500, Train Loss: 0.1671937, Val Loss: 0.1558506, Time: 1.142558\n"
     ]
    }
   ],
   "source": [
    "# Run contrastive learning \n",
    "# Train model on different splits, meant to evaluate model, not save best model\n",
    "contrastive_loss = []\n",
    "prediction_loss = []\n",
    "for i, (train_idx, test_idx) in enumerate(splits[:1]): # TODO: Change back to all splits\n",
    "    model.reset_parameters()    # Resets upon every new fold \n",
    "    lr = 0.001   # Starting learning rate for each split \n",
    "    loss_func = losses.SelfSupervisedLoss(losses.NTXentLoss())   # Specify contrastive loss function to use \n",
    "    optimizer = torch.optim.Adam(model.parameters(), lr=lr)      # Optimizer for model to use \n",
    "    scheduler = torch.optim.lr_scheduler.StepLR(optimizer, step_size=50, gamma=0.5) # Used to adjust learning rate while training \n",
    "  \n",
    "    # Create training and testing datasets\n",
    "    train_dataset = dataset[train_idx.tolist()]\n",
    "    test_dataset = dataset[test_idx.tolist()]\n",
    "\n",
    "    train_loader = torch.utils.data.DataLoader(train_dataset, sampler=torch.utils.data.RandomSampler(train_dataset, replacement=True, num_samples=int(len(train_dataset)*50/(len(train_dataset)/BATCH))), batch_size=BATCH, drop_last=False, collate_fn=Collater(follow_batch=[],exclude_keys=[]))\n",
    "    test_loader = DataLoader(test_dataset, batch_size=BATCH)\n",
    "\n",
    "    # CONTRASTIVE LEARNING: Train model on contrastive representation \n",
    "    test_loss = 0 \n",
    "    loss_temp = []\n",
    "    m = 1\n",
    "    for epoch in range(NUM_EPOCHS):\n",
    "        if epoch % m == 0:\n",
    "            start = time.time()\n",
    "\n",
    "        lr = scheduler.optimizer.param_groups[0]['lr']\n",
    "        train_loss = train_contrastive(model, train_loader, optimizer, loss_func, p1=0.1, p2=0.2)\n",
    "        scheduler.step()\n",
    "        test_loss = valid_contrastive(model, test_loader, loss_func, p1=0.1, p2=0.2)\n",
    "        loss_temp.append(test_loss)\n",
    "\n",
    "        if epoch % m == 0:\n",
    "            print('Epoch: {:03d}, LR: {:7f}, Train Loss: {:.7f}, '\n",
    "                'Val Loss: {:.7f}, Time: {:7f}'.format(\n",
    "                    epoch, lr, train_loss, test_loss, time.time() - start), flush=True)\n",
    "\n",
    "    loss.append(torch.tensor(loss_temp))\n",
    "\n",
    "# Calculate \n",
    "loss = torch.stack(loss, dim=0)\n",
    "loss_mean = loss.mean(dim=0)\n",
    "best_epoch = loss_mean.argmax().item()"
   ]
  },
  {
   "cell_type": "code",
   "execution_count": null,
   "metadata": {},
   "outputs": [],
   "source": []
  }
 ],
 "metadata": {
  "accelerator": "GPU",
  "colab": {
   "gpuType": "T4",
   "provenance": []
  },
  "gpuClass": "standard",
  "kernelspec": {
   "display_name": "Python (myenv)",
   "language": "python",
   "name": "my-env"
  },
  "language_info": {
   "codemirror_mode": {
    "name": "ipython",
    "version": 3
   },
   "file_extension": ".py",
   "mimetype": "text/x-python",
   "name": "python",
   "nbconvert_exporter": "python",
   "pygments_lexer": "ipython3",
   "version": "3.8.15"
  }
 },
 "nbformat": 4,
 "nbformat_minor": 1
}
