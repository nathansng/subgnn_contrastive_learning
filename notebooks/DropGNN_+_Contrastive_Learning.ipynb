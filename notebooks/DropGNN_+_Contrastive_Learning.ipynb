{
 "cells": [
  {
   "cell_type": "markdown",
   "metadata": {
    "id": "Bv46oqe2DpeK"
   },
   "source": [
    "# DropGNN + Contrastive Learning Prototyping"
   ]
  },
  {
   "cell_type": "markdown",
   "metadata": {
    "id": "gdzu3FAaGB64"
   },
   "source": [
    "Work based off of DropGNN\n",
    "\n",
    "https://arxiv.org/pdf/2111.06283.pdf \n",
    "\n",
    "https://github.com/KarolisMart/DropGNN "
   ]
  },
  {
   "cell_type": "code",
   "execution_count": 5,
   "metadata": {
    "id": "cmcqq2oyHCvQ"
   },
   "outputs": [],
   "source": [
    "import os.path as osp\n",
    "import numpy as np\n",
    "import networkx as nx\n",
    "import time\n",
    "import random\n",
    "import matplotlib.pyplot as plt\n",
    "import torch\n",
    "from torch import nn\n",
    "import torch.nn.functional as F\n",
    "from sklearn.model_selection import StratifiedKFold\n",
    "\n",
    "\n",
    "# Torch Geometric \n",
    "try: \n",
    "    from torch_geometric.data import DataLoader, Data\n",
    "    from torch_geometric.data.dataloader import Collater\n",
    "    from torch_geometric.datasets import TUDataset\n",
    "    from torch_geometric.utils import degree\n",
    "    from torch_geometric.utils.convert import from_networkx\n",
    "    from torch_geometric.nn import GINConv, GINEConv, global_add_pool\n",
    "except ModuleNotFoundError: \n",
    "    !pip install torch_geometric\n",
    "    from torch_geometric.data import DataLoader, Data\n",
    "    from torch_geometric.data.dataloader import Collater\n",
    "    from torch_geometric.datasets import TUDataset\n",
    "    from torch_geometric.utils import degree\n",
    "    from torch_geometric.utils.convert import from_networkx\n",
    "    from torch_geometric.nn import GINConv, GINEConv, global_add_pool\n",
    "    \n",
    "# Pytorch Metric Learning\n",
    "try: \n",
    "    from pytorch_metric_learning import losses\n",
    "except ModuleNotFoundError:\n",
    "    !pip install pytorch-metric-learning\n",
    "    from pytorch_metric_learning import losses"
   ]
  },
  {
   "cell_type": "markdown",
   "metadata": {
    "id": "U4VpVUxbJeBQ"
   },
   "source": [
    "## Import Dataset\n",
    "\n",
    "Use the IMDB-Binary dataset"
   ]
  },
  {
   "cell_type": "code",
   "execution_count": 6,
   "metadata": {
    "id": "kpop90ZxIaZW"
   },
   "outputs": [],
   "source": [
    "class MyFilter(object):\n",
    "    def __call__(self, data):\n",
    "        return data.num_nodes <= 70\n",
    "\n",
    "class MyPreTransform(object):\n",
    "    def __call__(self, data):\n",
    "        data.x = degree(data.edge_index[0], data.num_nodes, dtype=torch.long)\n",
    "        data.x = F.one_hot(data.x, num_classes=69).to(torch.float)\n",
    "        return data "
   ]
  },
  {
   "cell_type": "code",
   "execution_count": 7,
   "metadata": {
    "id": "oPb5CIfZJ0TV"
   },
   "outputs": [],
   "source": [
    "# Download data \n",
    "path = osp.join(osp.dirname(osp.realpath(\"./\")), 'data', f'IMDB-BINARY')\n",
    "\n",
    "dataset = TUDataset(\n",
    "    path, \n",
    "    name = \"IMDB-BINARY\", \n",
    "    pre_transform = MyPreTransform(), \n",
    "    pre_filter = MyFilter()\n",
    ")"
   ]
  },
  {
   "cell_type": "code",
   "execution_count": 8,
   "metadata": {
    "colab": {
     "base_uri": "https://localhost:8080/"
    },
    "id": "w1u0WXdtb_Zj",
    "outputId": "db3223f4-c7a7-4096-aa77-046cfad4b008"
   },
   "outputs": [
    {
     "name": "stdout",
     "output_type": "stream",
     "text": [
      "IMDB-BINARY(996)\n"
     ]
    }
   ],
   "source": [
    "print(dataset)"
   ]
  },
  {
   "cell_type": "markdown",
   "metadata": {
    "id": "MtqTi8B8HrCb"
   },
   "source": [
    "## Original DropGIN Model\n",
    "\n",
    "DropGIN model found in DropGNN paper modified to work without CLI arguments"
   ]
  },
  {
   "cell_type": "raw",
   "metadata": {
    "id": "C1N3ZszgDkOF"
   },
   "source": [
    "class DropGIN(nn.Module):\n",
    "    def __init__(self, hidden_units, dropout, use_aux_loss=True, num_runs=20, p=0.1):\n",
    "        super(DropGIN, self).__init__()\n",
    "\n",
    "        # Set starting parameters for model \n",
    "        num_features = dataset.num_features # Number of initial features \n",
    "        dim = hidden_units # Number of hidden units per layer \n",
    "        self.dropout = dropout # Dropout rate \n",
    "        self.use_aux_loss = use_aux_loss\n",
    "        self.num_runs = num_runs\n",
    "        self.p = p\n",
    "\n",
    "        # Number of layers in model\n",
    "        self.num_layers = 4\n",
    "\n",
    "        self.convs = nn.ModuleList() # Made of num_layers GINConv (linear -> batchnorm1d -> relu -> linear)\n",
    "        self.bns = nn.ModuleList() # Made of num_layers BatchNorm1d \n",
    "        self.fcs = nn.ModuleList() # Made of num_layers + 1 Linear layers mapping from num_features or dim to num_classes\n",
    "\n",
    "        # Add initial layer from num_features to dim \n",
    "        self.convs.append(GINConv(nn.Sequential(nn.Linear(num_features, dim), nn.BatchNorm1d(dim), nn.ReLU(), nn.Linear(dim, dim))))\n",
    "        self.bns.append(nn.BatchNorm1d(dim))\n",
    "        self.fcs.append(nn.Linear(num_features, dataset.num_classes))\n",
    "        self.fcs.append(nn.Linear(dim, dataset.num_classes))\n",
    "\n",
    "        # Add additional layers from dim to dim \n",
    "        for i in range(self.num_layers-1):\n",
    "            self.convs.append(GINConv(nn.Sequential(nn.Linear(dim, dim), nn.BatchNorm1d(dim), nn.ReLU(), nn.Linear(dim, dim))))\n",
    "            self.bns.append(nn.BatchNorm1d(dim))\n",
    "            self.fcs.append(nn.Linear(dim, dataset.num_classes))\n",
    "\n",
    "        # Use aux_loss for dropGNN: made of num_layers + 1 linear layers \n",
    "        # Adds new module list of linear layers \n",
    "        if self.use_aux_loss:\n",
    "            self.aux_fcs = nn.ModuleList()\n",
    "            self.aux_fcs.append(nn.Linear(num_features, dataset.num_classes))\n",
    "            for i in range(self.num_layers):\n",
    "                self.aux_fcs.append(nn.Linear(dim, dataset.num_classes))\n",
    "        \n",
    "    def reset_parameters(self):\n",
    "        # Resets parameters for Linear, GINConv, and BatchNorm1d layers\n",
    "        for m in self.modules():\n",
    "            if isinstance(m, nn.Linear):\n",
    "                m.reset_parameters()\n",
    "            elif isinstance(m, GINConv):\n",
    "                m.reset_parameters()\n",
    "            elif isinstance(m, nn.BatchNorm1d):\n",
    "                m.reset_parameters()\n",
    "\n",
    "    def forward(self, data, temp):\n",
    "        # Note: num_runs in DropGNN is average number of nodes in each graph in dataset\n",
    "        # Note: p is 2 * 1 / (1 + gamma), but for this project, p is selected to create augmented views \n",
    "\n",
    "        x = data.x\n",
    "        edge_index = data.edge_index\n",
    "        batch = data.batch\n",
    "            \n",
    "        # Do runs in parallel, by repeating the graphs in the batch\n",
    "        x = x.unsqueeze(0).expand(self.num_runs, -1, -1).clone()   # Flattens features and creates num_runs copy of them \n",
    "        drop = torch.bernoulli(torch.ones([x.size(0), x.size(1)], device=x.device) * self.p).bool()   #  Returns a tensor of randomly dropped nodes based on p (p = probability of dropping) \n",
    "        x[drop] = torch.zeros([drop.sum().long().item(), x.size(-1)], device=x.device)  # Drop nodes from data  \n",
    "        del drop\n",
    "\n",
    "        # Run augmented subgraph through model \n",
    "        outs = [x]  # Used to store view of x after each layer \n",
    "        x = x.view(-1, x.size(-1))  # Swap dimensions of data features \n",
    "        run_edge_index = edge_index.repeat(1, self.num_runs) + torch.arange(self.num_runs, device=edge_index.device).repeat_interleave(edge_index.size(1)) * (edge_index.max() + 1) # Expand edge_index and augment values\n",
    "        for i in range(self.num_layers):\n",
    "            x = self.convs[i](x, run_edge_index)  # Run node features and edge indices through CONV layer \n",
    "            x = self.bns[i](x)  # Run resulting values through BatchNorm1d\n",
    "            x = F.relu(x)   # Run final values through RELU\n",
    "            outs.append(x.view(self.num_runs, -1, x.size(-1)))    # Rearrange dimensions and append to outs \n",
    "        del run_edge_index\n",
    "\n",
    "        # TODO: Replace this with replacable head for contrastive learning and making predictions \n",
    "        # Aggregates results of runs by summing mean and applying random dropout (not dropping out nodes)\n",
    "        out = None\n",
    "        for i, x in enumerate(outs):\n",
    "            x = x.mean(dim=0)\n",
    "            x = global_add_pool(x, batch)\n",
    "            x = F.dropout(self.fcs[i](x), p=self.dropout, training=self.training)\n",
    "            if out is None:\n",
    "                out = x\n",
    "            else:\n",
    "                out += x\n",
    "\n",
    "        if self.use_aux_loss:\n",
    "            aux_out = torch.zeros(self.num_runs, out.size(0), out.size(1), device=out.device)\n",
    "            run_batch = batch.repeat(self.num_runs) + torch.arange(self.num_runs, device=edge_index.device).repeat_interleave(batch.size(0)) * (batch.max() + 1)\n",
    "            for i, x in enumerate(outs):\n",
    "                x = x.view(-1, x.size(-1))\n",
    "                x = global_add_pool(x, run_batch)\n",
    "                x = x.view(self.num_runs, -1, x.size(-1))\n",
    "                x = F.dropout(self.aux_fcs[i](x), p=self.dropout, training=self.training)\n",
    "                aux_out += x\n",
    "\n",
    "            # Returns probabilities of each class based on aggregated results \n",
    "            return F.log_softmax(out, dim=-1), F.log_softmax(aux_out, dim=-1)\n",
    "        else:\n",
    "            return F.log_softmax(out, dim=-1), 0"
   ]
  },
  {
   "cell_type": "markdown",
   "metadata": {},
   "source": [
    "## DropGNN + Contrastive Learning Model\n",
    "\n",
    "Copy of DropGIN model with Contrastive Learning Forward methods added\n",
    "\n",
    "Changes made: \n",
    "- Added more arguments when initializing model instead of depending on global variables \n",
    "- Changed how the forward function is called and run\n",
    "- Add two different forward functions\n",
    "    - Contrastive Forward: Runs graph data through the base model and returns a representation vector \n",
    "    - Prediction Forward: Runs graph data through the base model and returns a probablity vector for each class "
   ]
  },
  {
   "cell_type": "code",
   "execution_count": 56,
   "metadata": {},
   "outputs": [],
   "source": [
    "class DropGNN_Contrastive(nn.Module):\n",
    "    def __init__(self, num_features, num_reps, num_classes, hidden_units, use_aux_loss=True):\n",
    "        super(DropGNN_Contrastive, self).__init__()\n",
    "\n",
    "        # Set starting parameters for model \n",
    "        self.num_features = num_features   # Number of initial features \n",
    "        self.num_reps = num_reps           # Number of features in representation vector \n",
    "        self.num_classes = num_classes     # Number of different classes\n",
    "        self.dim = hidden_units            # Number of units for hidden layers\n",
    "        self.use_aux_loss = use_aux_loss   # Whether to include aux loss to total loss\n",
    "\n",
    "        # Number of layers in model\n",
    "        self.num_layers = 4\n",
    "\n",
    "        self.convs = nn.ModuleList()                     # Made of num_layers GINConv (linear -> batchnorm1d -> relu -> linear)\n",
    "        self.bns = nn.ModuleList()                       # Made of num_layers BatchNorm1d \n",
    "        self.reps = nn.ModuleList() # nn.Linear(self.dim, self.num_reps)   # Layer between base model and contrastive learning representation\n",
    "        self.fcs = nn.ModuleList()                       # Made of num_layers + 1 Linear layers mapping from num_features or dim to num_reps\n",
    "\n",
    "        # Add initial layer from num_features to dim \n",
    "        self.convs.append(GINConv(nn.Sequential(nn.Linear(self.num_features, self.dim), nn.BatchNorm1d(self.dim), nn.ReLU(), nn.Linear(self.dim, self.dim))))\n",
    "        self.bns.append(nn.BatchNorm1d(self.dim))\n",
    "        self.reps.append(nn.Linear(self.num_features, self.num_reps))\n",
    "        self.reps.append(nn.Linear(self.dim, self.num_reps))\n",
    "        self.fcs.append(nn.Linear(self.num_features, self.num_classes))\n",
    "        self.fcs.append(nn.Linear(self.dim, self.num_classes))\n",
    "\n",
    "        # Add additional layers from dim to dim \n",
    "        for i in range(self.num_layers-1):\n",
    "            self.convs.append(GINConv(nn.Sequential(nn.Linear(self.dim, self.dim), nn.BatchNorm1d(self.dim), nn.ReLU(), nn.Linear(self.dim, self.dim))))\n",
    "            self.bns.append(nn.BatchNorm1d(self.dim))\n",
    "            self.reps.append(nn.Linear(self.dim, self.num_reps))\n",
    "            self.fcs.append(nn.Linear(self.dim, self.num_classes))\n",
    "\n",
    "        # Use aux_loss for dropGNN: made of num_layers + 1 linear layers \n",
    "        # Adds new module list of linear layers \n",
    "        if self.use_aux_loss:\n",
    "            self.aux_fcs = nn.ModuleList()\n",
    "            self.aux_fcs.append(nn.Linear(self.num_features, self.num_classes))\n",
    "            for i in range(self.num_layers):\n",
    "                self.aux_fcs.append(nn.Linear(self.dim, self.num_classes))\n",
    "        \n",
    "    def reset_parameters(self):\n",
    "        # Resets parameters for Linear, GINConv, and BatchNorm1d layers\n",
    "        for m in self.modules():\n",
    "            if isinstance(m, nn.Linear):\n",
    "                m.reset_parameters()\n",
    "            elif isinstance(m, GINConv):\n",
    "                m.reset_parameters()\n",
    "            elif isinstance(m, nn.BatchNorm1d):\n",
    "                m.reset_parameters()\n",
    "                \n",
    "    def forward(self, data, mode=\"test\", p=None, dropout=None, num_runs=20):\n",
    "        # Runs different modes based on whether running contrastive loss or making predictions\n",
    "        if mode == 'contrastive':\n",
    "            return self.contrastive(data, p, num_runs)\n",
    "        else:\n",
    "            return self.prediction(data, dropout, num_runs)\n",
    "        \n",
    "    def contrastive(self, data, p, num_runs):\n",
    "        # Trains contrastive model and representation vector model \n",
    "        \n",
    "        # Note: num_runs in DropGNN is average number of nodes in each graph in dataset\n",
    "        # Note: p is 2 * 1 / (1 + gamma), but for this project, p is selected to create augmented views \n",
    "        \n",
    "        self.p = p\n",
    "        self.num_runs = num_runs\n",
    "        \n",
    "        # Store all graphs in sampled batch as one large graph with separate components\n",
    "        x = data.x                     # All nodes and their features (# nodes x # node features)\n",
    "        edge_index = data.edge_index   # All edge index pairs from large single graph\n",
    "        batch = data.batch             # Batch numbers that group nodes within the same graph with same batch number\n",
    "        \n",
    "        # Do runs in parallel by repeating nodes and creating num_runs different views\n",
    "        x = x.unsqueeze(0).expand(self.num_runs, -1, -1).clone()   # Creates num_runs copy of node features\n",
    "        drop = torch.bernoulli(torch.ones([x.size(0), x.size(1)], device=x.device) * self.p).bool()   #  Randomly determine whether node is dropped within each copy of num_runs\n",
    "        x[drop] = torch.zeros([drop.sum().long().item(), x.size(-1)], device=x.device)  # Drop nodes from graphs  \n",
    "        del drop\n",
    "        \n",
    "        # Allow gradients to update base model \n",
    "        if self.training:\n",
    "            for layer in self.convs: \n",
    "                for p in layer.parameters():\n",
    "                    p.requires_grad = True\n",
    "\n",
    "            for layer in self.bns:\n",
    "                for p in layer.parameters():\n",
    "                    p.requires_grad = True\n",
    "        \n",
    "        # Run augmented subgraph through model \n",
    "        outs = [x]  # Used to store n-hop neighborhood representations, after running through model n times\n",
    "        x = x.view(-1, x.size(-1))  # Concat all num_run copies of nodes \n",
    "        run_edge_index = edge_index.repeat(1, self.num_runs) + torch.arange(self.num_runs, device=edge_index.device).repeat_interleave(edge_index.size(1)) * (edge_index.max() + 1) # Transform edge_index to correspond to the same nodes in concatenated form  \n",
    "        for i in range(self.num_layers):\n",
    "            x = self.convs[i](x, run_edge_index)  # Run node features and edge indices through CONV layer \n",
    "            x = self.bns[i](x)  # Run resulting values through BatchNorm1d\n",
    "            x = F.relu(x)   # Run final values through RELU\n",
    "            outs.append(x.view(self.num_runs, -1, x.size(-1)))  # Return x back to original stacked form \n",
    "        del run_edge_index\n",
    "        \n",
    "        # Aggregates results of runs by taking mean of each run and summing results of runs\n",
    "        out = None\n",
    "        for i, x in enumerate(outs):\n",
    "            x = x.mean(dim=0)                  # Take average of all node features of same nodes \n",
    "            x = global_add_pool(x, batch)      # Take the sum of all node features for nodes in same graph \n",
    "            x = self.reps[i](x)                # Run graph features into linear layer to get contrastive representation\n",
    "            if out is None:\n",
    "                out = x\n",
    "            else:\n",
    "                out += x\n",
    "                \n",
    "        # Returns all contrastive graph embeddings in batch \n",
    "        return out\n",
    "    \n",
    "    def prediction(self, data, dropout, num_runs):\n",
    "        self.dropout = dropout\n",
    "        self.num_runs = num_runs\n",
    "        \n",
    "        # Create intermediate representations \n",
    "        x = data.x \n",
    "        edge_index = data.edge_index\n",
    "        batch = data.batch \n",
    "        \n",
    "        # Do runs in parallel, by repeating the graphs in the batch\n",
    "        x = x.unsqueeze(0).expand(self.num_runs, -1, -1).clone()   # Flattens features and creates num_runs copy of them \n",
    "        drop = torch.bernoulli(torch.ones([x.size(0), x.size(1)], device=x.device) * self.p).bool()   #  Returns a tensor of randomly dropped nodes based on p (p = probability of dropping) \n",
    "        x[drop] = torch.zeros([drop.sum().long().item(), x.size(-1)], device=x.device)  # Drop nodes from data  \n",
    "        del drop\n",
    "        \n",
    "        # Stop gradients from updating base model \n",
    "        for layer in self.convs:\n",
    "            for p in layer.parameters():\n",
    "                p.requires_grad = False\n",
    "                \n",
    "        for layer in self.bns:\n",
    "            for p in layer.parameters():\n",
    "                p.requires_grad = False\n",
    "        \n",
    "        # Run augmented subgraph through model \n",
    "        outs = [x]  # Used to store view of x after each layer \n",
    "        x = x.view(-1, x.size(-1))  # Swap dimensions of data features \n",
    "        run_edge_index = edge_index.repeat(1, self.num_runs) + torch.arange(self.num_runs, device=edge_index.device).repeat_interleave(edge_index.size(1)) * (edge_index.max() + 1) # Expand edge_index and augment values\n",
    "        for i in range(self.num_layers):\n",
    "            x = self.convs[i](x, run_edge_index)  # Run node features and edge indices through CONV layer \n",
    "            x = self.bns[i](x)  # Run resulting values through BatchNorm1d\n",
    "            x = F.relu(x)   # Run final values through RELU\n",
    "            outs.append(x.view(self.num_runs, -1, x.size(-1)))    # Rearrange dimensions and append to outs \n",
    "        del run_edge_index\n",
    "        \n",
    "        # Aggregates results of runs by summing mean and applying random dropout (not dropping out nodes)\n",
    "        out = None\n",
    "        for i, x in enumerate(outs):\n",
    "            x = x.mean(dim=0)\n",
    "            x = global_add_pool(x, batch)\n",
    "            x = F.dropout(self.fcs[i](x), p=self.dropout, training=self.training)\n",
    "            if out is None:\n",
    "                out = x\n",
    "            else:\n",
    "                out += x\n",
    "        \n",
    "        # Returns the likelihood of each outcome class\n",
    "        return F.log_softmax(out, dim=-1)  # Swap this with code block below to allow aux loss, removed for simplicity\n",
    "    \n",
    "#         if self.use_aux_loss:\n",
    "#             # Use predictions from individual runs instead of aggregating results of all runs (no mean(x))\n",
    "#             aux_out = torch.zeros(self.num_runs, out.size(0), out.size(1), device=out.device)\n",
    "#             run_batch = batch.repeat(self.num_runs) + torch.arange(self.num_runs, device=edge_index.device).repeat_interleave(batch.size(0)) * (batch.max() + 1) # Assign updated batch numbers such that each individual run is counted separately\n",
    "#             for i, x in enumerate(outs):\n",
    "#                 x = x.view(-1, x.size(-1))\n",
    "#                 x = global_add_pool(x, run_batch)\n",
    "#                 x = x.view(self.num_runs, -1, x.size(-1))\n",
    "#                 x = F.dropout(self.aux_fcs[i](x), p=self.dropout, training=self.training)\n",
    "#                 aux_out += x\n",
    "\n",
    "#             # Returns probabilities of each class based on aggregated results \n",
    "#             return F.log_softmax(out, dim=-1), F.log_softmax(aux_out, dim=-1)\n",
    "#         else:\n",
    "#             return F.log_softmax(out, dim=-1), 0"
   ]
  },
  {
   "cell_type": "markdown",
   "metadata": {
    "id": "fF6Gp8oIf2yR"
   },
   "source": [
    "## Training Modules\n",
    "\n",
    "Note: DropGIN Training Modules are meant for DropGIN model only\n",
    "\n",
    "Changes Made: \n",
    "- Added training function and validation function for contrastive learning \n",
    "- Added training function, validation function, and testing function for prediction task"
   ]
  },
  {
   "cell_type": "markdown",
   "metadata": {},
   "source": [
    "### DropGIN Training Modules"
   ]
  },
  {
   "cell_type": "code",
   "execution_count": 57,
   "metadata": {
    "id": "GB8RAp5Lf2YJ"
   },
   "outputs": [],
   "source": [
    "# Default training function for original DropGIN\n",
    "def train(model, epoch, loader, optimizer):\n",
    "    # Set model to training \n",
    "    model.train()\n",
    "\n",
    "    # Run data through model and update model \n",
    "    loss_all = 0\n",
    "    n = 0\n",
    "    for data in loader:\n",
    "        data = data.to(device)\n",
    "        optimizer.zero_grad()\n",
    "        logs, aux_logs = model(data) \n",
    "        loss = F.nll_loss(logs, data.y) \n",
    "    \n",
    "        if model.use_aux_loss:\n",
    "            aux_loss = F.nll_loss(aux_logs.view(-1, aux_logs.size(-1)), data.y.unsqueeze(0).expand(aux_logs.size(0), -1).clone().view(-1))\n",
    "            loss = 0.75 * loss + 0.25 * aux_loss \n",
    "    \n",
    "        loss.backward()\n",
    "        loss_all += data.num_graphs * loss.item()\n",
    "        n += len(data.y)\n",
    "        optimizer.step()\n",
    "\n",
    "    return loss_all / n"
   ]
  },
  {
   "cell_type": "code",
   "execution_count": 58,
   "metadata": {
    "id": "e36kqtIcpsN-"
   },
   "outputs": [],
   "source": [
    "# Default validation function for original DropGIN, uses nll loss \n",
    "def validate(model, loader):\n",
    "    model.eval()\n",
    "    with torch.no_grad():\n",
    "        loss_all = 0\n",
    "        for data in loader:\n",
    "            data = data.to(device)\n",
    "            logs, aux_logs = model(data)\n",
    "            loss_all += F.nll_loss(logs, data.y, reduction=\"sum\").item()\n",
    "    return loss_all / len(loader.dataset)"
   ]
  },
  {
   "cell_type": "code",
   "execution_count": 59,
   "metadata": {
    "id": "wG80t0A3qRdg"
   },
   "outputs": [],
   "source": [
    "# Default test function for original DropGIN, uses accuracy \n",
    "def test(model, loader):\n",
    "    model.eval()\n",
    "    with torch.no_grad():\n",
    "        correct = 0\n",
    "        for data in loader:\n",
    "            data = data.to(device)\n",
    "            logs, aux_logs = model(data) \n",
    "            pred = logs.max(1)[1]\n",
    "            correct += pred.eq(data.y).sum().item()\n",
    "    return correct / len(loader.dataset)"
   ]
  },
  {
   "cell_type": "markdown",
   "metadata": {},
   "source": [
    "### Contrastive Learning Training Modules"
   ]
  },
  {
   "cell_type": "code",
   "execution_count": 85,
   "metadata": {},
   "outputs": [],
   "source": [
    "# Used to train contrastive model \n",
    "def train_contrastive(model, loader, optimizer, loss_fn, p1 = 0.1, p2 = 0.2):\n",
    "    # Set model to training\n",
    "    model.train()\n",
    "    \n",
    "#     # Create self-supervised loss function\n",
    "#     loss_func = losses.SelfSupervisedLoss(losses.TripletMarginLoss())\n",
    "    \n",
    "    # Run data through model and update model\n",
    "    loss_all = 0\n",
    "    n = 0 \n",
    "    for data in loader: \n",
    "        data = data.to(device)\n",
    "        optimizer.zero_grad()\n",
    "        embeddings_1 = model(data, mode = \"contrastive\", p = p1)\n",
    "        embeddings_2 = model(data, mode = \"contrastive\", p = p2)\n",
    "        \n",
    "        # Used as loss(embeddings, labels)\n",
    "        loss = loss_fn(embeddings_1, embeddings_2)\n",
    "        loss.backward()\n",
    "        optimizer.step() \n",
    "        \n",
    "        loss_all += data.num_graphs * loss.item()\n",
    "        n += data.num_graphs\n",
    "    return loss_all / n"
   ]
  },
  {
   "cell_type": "code",
   "execution_count": 86,
   "metadata": {},
   "outputs": [],
   "source": [
    "# Used to validate contrastive model \n",
    "def valid_contrastive(model, loader, loss_fn, p1 = 0.1, p2 = 0.2):\n",
    "    # Set model to eval\n",
    "    model.eval()\n",
    "    \n",
    "#     # Create self-supervised loss function\n",
    "#     loss_func = losses.SelfSupervisedLoss(losses.TripletMarginLoss())\n",
    "    \n",
    "    with torch.no_grad():\n",
    "        loss_all = 0\n",
    "        n = 0\n",
    "        for data in loader: \n",
    "            data = data.to(device)\n",
    "            embeddings_1 = model(data, mode = \"contrastive\", p = p1)\n",
    "            embeddings_2 = model(data, mode = \"contrastive\", p = p2)\n",
    "            loss = loss_fn(embeddings_1, embeddings_2)\n",
    "            \n",
    "            loss_all += data.num_graphs * loss.item()\n",
    "            n += data.num_graphs\n",
    "    return loss_all / n"
   ]
  },
  {
   "cell_type": "markdown",
   "metadata": {},
   "source": [
    "### Prediction Training Modules"
   ]
  },
  {
   "cell_type": "code",
   "execution_count": 64,
   "metadata": {},
   "outputs": [],
   "source": [
    "# Used to train prediction model AFTER contrastive learning \n",
    "def train_prediction(model, loader, optimizer, dropout = 0.5):\n",
    "    # Set model to training\n",
    "    model.train()\n",
    "    \n",
    "    # Run data through model and update model \n",
    "    loss_all = 0\n",
    "    n = 0\n",
    "    for data in loader:\n",
    "        data = data.to(device)\n",
    "        optimizer.zero_grad()\n",
    "        results = model(data, mode = \"prediction\", dropout = dropout)\n",
    "        loss = F.nll_loss(results, data.y)\n",
    "        \n",
    "#         if model.use_aux_loss:\n",
    "#             aux_loss = F.nll_loss(aux_logs.view(-1, aux_logs.size(-1)), data.y.unsqueeze(0).expand(aux_logs.size(0), -1).clone().view(-1))\n",
    "#             loss = 0.75 * loss + 0.25 * aux_loss \n",
    "    \n",
    "        loss.backward()\n",
    "        loss_all += data.num_graphs * loss.item()\n",
    "        n += len(data.y)\n",
    "        optimizer.step()\n",
    "\n",
    "    return loss_all / n"
   ]
  },
  {
   "cell_type": "code",
   "execution_count": 65,
   "metadata": {},
   "outputs": [],
   "source": [
    "# Used to validate prediction model AFTER contrastive learning, returns loss \n",
    "def valid_prediction(model, loader, dropout = 0.5):\n",
    "    # Set model to eval\n",
    "    model.eval()\n",
    "    \n",
    "    # Run data through model\n",
    "    with torch.no_grad():\n",
    "        loss_all = 0\n",
    "        n = 0\n",
    "        for data in loader:\n",
    "            data = data.to(device)\n",
    "            results = model(data, mode = \"prediction\", dropout = dropout)\n",
    "            loss = F.nll_loss(results, data.y)\n",
    "\n",
    "#             if model.use_aux_loss:\n",
    "#                 aux_loss = F.nll_loss(aux_logs.view(-1, aux_logs.size(-1)), data.y.unsqueeze(0).expand(aux_logs.size(0), -1).clone().view(-1))\n",
    "#                 loss = 0.75 * loss + 0.25 * aux_loss \n",
    "                \n",
    "            loss_all += data.num_graphs * loss.item()\n",
    "            n += len(data.y)\n",
    "\n",
    "    return loss_all / n"
   ]
  },
  {
   "cell_type": "code",
   "execution_count": 122,
   "metadata": {},
   "outputs": [],
   "source": [
    "# Used to test prediction model AFTER contrastive learning, returns accuracy\n",
    "def test_prediction(model, loader, dropout = 0.5):\n",
    "    # Set model to eval\n",
    "    model.eval() \n",
    "    \n",
    "    # Run data through model and make predictions\n",
    "    with torch.no_grad():\n",
    "        correct = 0\n",
    "        for data in loader: \n",
    "            data = data.to(device)\n",
    "            results = model(data, mode = \"prediction\", dropout = dropout)\n",
    "            pred = results.max(1)[1]\n",
    "            correct += pred.eq(data.y).sum().item()\n",
    "    return correct / len(loader.dataset)"
   ]
  },
  {
   "cell_type": "markdown",
   "metadata": {
    "id": "YyriXAImrdTd"
   },
   "source": [
    "## Split Dataset into K-Folds"
   ]
  },
  {
   "cell_type": "code",
   "execution_count": 66,
   "metadata": {
    "id": "3wui_6Yerfn-"
   },
   "outputs": [],
   "source": [
    "def separate_data(dataset_len, seed=0):\n",
    "    folds = StratifiedKFold(n_splits=10, shuffle=True, random_state=seed)\n",
    "    idx_list = []\n",
    "    for idx in folds.split(np.zeros(dataset_len), np.zeros(dataset_len)):\n",
    "        idx_list.append(idx)\n",
    "    return idx_list"
   ]
  },
  {
   "cell_type": "markdown",
   "metadata": {
    "id": "RK_8wBdMgBjj"
   },
   "source": [
    "## Run DropGIN Model"
   ]
  },
  {
   "cell_type": "raw",
   "metadata": {
    "colab": {
     "base_uri": "https://localhost:8080/"
    },
    "id": "nQjeCJN-c8og",
    "outputId": "fe7dd714-7d4d-4de8-a3ad-42e2eacae683"
   },
   "source": [
    "# Set random seeds\n",
    "torch.manual_seed(0)\n",
    "np.random.seed(0)\n",
    "\n",
    "# Set batch size\n",
    "BATCH = 32    # Default batch size in DropGNN\n",
    "\n",
    "# Set number of epochs\n",
    "NUM_EPOCHS = 100\n",
    "\n",
    "# Use GPU if available\n",
    "device = torch.device('cuda' if torch.cuda.is_available() else 'cpu')\n",
    "print(f\"Device: {device}\")"
   ]
  },
  {
   "cell_type": "raw",
   "metadata": {
    "id": "7qE6ky4lgAFF"
   },
   "source": [
    "# Create model\n",
    "model = DropGIN(64, 0.5).to(device)\n",
    "\n",
    "# Split dataset\n",
    "n = len(dataset)\n",
    "splits = separate_data(n, seed=0)"
   ]
  },
  {
   "cell_type": "raw",
   "metadata": {
    "colab": {
     "base_uri": "https://localhost:8080/"
    },
    "id": "diafNwnnsw1d",
    "outputId": "4a95e6a7-31bd-46d4-9020-05c85ab17924"
   },
   "source": [
    "# Train model\n",
    "acc = []\n",
    "for i, (train_idx, valid_idx) in enumerate(splits[2:3]): # TODO: Change back to all splits\n",
    "    model.reset_parameters()    # Resets upon every new fold \n",
    "    lr = 0.01\n",
    "    optimizer = torch.optim.Adam(model.parameters(), lr=lr)\n",
    "    scheduler = torch.optim.lr_scheduler.StepLR(optimizer, step_size=50, gamma=0.5) # Used to learn learning rate \n",
    "  \n",
    "    valid_dataset = dataset[valid_idx.tolist()]\n",
    "    train_dataset = dataset[train_idx.tolist()]\n",
    "\n",
    "    valid_loader = DataLoader(valid_dataset, batch_size=BATCH)\n",
    "    # train_loader = DataLoader(train_dataset, batch_size=BATCH)\n",
    "    train_loader = torch.utils.data.DataLoader(train_dataset, sampler=torch.utils.data.RandomSampler(train_dataset, replacement=True, num_samples=int(len(train_dataset)*50/(len(train_dataset)/BATCH))), batch_size=BATCH, drop_last=False, collate_fn=Collater(follow_batch=[],exclude_keys=[]))\n",
    "\n",
    "    # Train model for multiple epochs\n",
    "    valid_acc = 0 \n",
    "    acc_temp = []\n",
    "    for epoch in range(NUM_EPOCHS):\n",
    "        if epoch % 25 == 0:\n",
    "            start = time.time()\n",
    "\n",
    "        lr = scheduler.optimizer.param_groups[0]['lr']\n",
    "        train_loss = train(model, epoch, train_loader, optimizer)\n",
    "        scheduler.step()\n",
    "        valid_acc = test(model, valid_loader)\n",
    "        acc_temp.append(valid_acc)\n",
    "\n",
    "        if epoch % 25 == 0:\n",
    "            print('Epoch: {:03d}, LR: {:7f}, Train Loss: {:.7f}, '\n",
    "                'Val Loss: {:.7f}, Test Acc: {:.7f}, Time: {:7f}'.format(\n",
    "                    epoch, lr, train_loss, 0, valid_acc, time.time() - start), flush=True)\n",
    "\n",
    "    acc.append(torch.tensor(acc_temp))\n",
    "\n",
    "acc = torch.stack(acc, dim=0)\n",
    "acc_mean = acc.mean(dim=0)\n",
    "best_epoch = acc_mean.argmax().item()"
   ]
  },
  {
   "cell_type": "raw",
   "metadata": {
    "colab": {
     "base_uri": "https://localhost:8080/"
    },
    "id": "_Uu-W5AzzMoH",
    "outputId": "2dff7bd7-286e-41d3-ac71-2c32ed8f4232"
   },
   "source": [
    "# Note: std won't work if only using one k-fold \n",
    "\n",
    "print('---------------- Final Epoch Result ----------------')\n",
    "print('Mean: {:7f}, Std: {:7f}'.format(acc[:,-1].mean(), acc[:,-1].std()))\n",
    "print(f'---------------- Best Epoch: {best_epoch} ----------------')\n",
    "print('Mean: {:7f}, Std: {:7f}'.format(acc[:,best_epoch].mean(), acc[:,best_epoch].std()), flush=True)"
   ]
  },
  {
   "cell_type": "markdown",
   "metadata": {},
   "source": [
    "## Run DropGNN + Contrastive Learning Model"
   ]
  },
  {
   "cell_type": "code",
   "execution_count": 123,
   "metadata": {},
   "outputs": [
    {
     "name": "stdout",
     "output_type": "stream",
     "text": [
      "Device: cuda\n"
     ]
    }
   ],
   "source": [
    "# Set random seeds\n",
    "torch.manual_seed(0)\n",
    "np.random.seed(0)\n",
    "\n",
    "# Set batch size\n",
    "BATCH = 32    # Default batch size in DropGNN\n",
    "\n",
    "# Set number of epochs\n",
    "NUM_EPOCHS = 25\n",
    "\n",
    "# Set node dropout probabilities \n",
    "p1 = 0.1\n",
    "p2 = 0.2\n",
    "\n",
    "# Set embedding dropout probabilities \n",
    "dropout = 0.5\n",
    "\n",
    "# Use GPU if available\n",
    "device = torch.device('cuda' if torch.cuda.is_available() else 'cpu')\n",
    "print(f\"Device: {device}\")"
   ]
  },
  {
   "cell_type": "code",
   "execution_count": 124,
   "metadata": {},
   "outputs": [],
   "source": [
    "# Create model\n",
    "model = DropGNN_Contrastive(num_features=dataset.num_features, num_reps=32, num_classes=dataset.num_classes, hidden_units=64).to(device)\n",
    "\n",
    "# Split dataset\n",
    "n = len(dataset)\n",
    "splits = separate_data(n, seed=2)"
   ]
  },
  {
   "cell_type": "code",
   "execution_count": 125,
   "metadata": {
    "scrolled": false
   },
   "outputs": [
    {
     "name": "stdout",
     "output_type": "stream",
     "text": [
      "STARTING CONTRASTIVE LEARNING\n",
      "Epoch: 000, LR: 0.001000, Train Loss: 0.2576021, Val Loss: 0.2122850, Time: 1.410319\n",
      "Epoch: 001, LR: 0.001000, Train Loss: 0.1708165, Val Loss: 0.1970480, Time: 1.217003\n",
      "Epoch: 002, LR: 0.001000, Train Loss: 0.1479224, Val Loss: 0.1832418, Time: 1.243882\n",
      "Epoch: 003, LR: 0.001000, Train Loss: 0.1656429, Val Loss: 0.1602057, Time: 1.264395\n",
      "Epoch: 004, LR: 0.001000, Train Loss: 0.1493958, Val Loss: 0.1710856, Time: 1.604728\n",
      "Epoch: 005, LR: 0.001000, Train Loss: 0.1692626, Val Loss: 0.1676973, Time: 1.487809\n",
      "Epoch: 006, LR: 0.001000, Train Loss: 0.1646822, Val Loss: 0.1682601, Time: 1.279662\n",
      "Epoch: 007, LR: 0.001000, Train Loss: 0.1765160, Val Loss: 0.1668057, Time: 1.236818\n",
      "Epoch: 008, LR: 0.001000, Train Loss: 0.1616273, Val Loss: 0.1734642, Time: 1.371315\n",
      "Epoch: 009, LR: 0.001000, Train Loss: 0.1548172, Val Loss: 0.1719823, Time: 1.655273\n",
      "Epoch: 010, LR: 0.001000, Train Loss: 0.1555394, Val Loss: 0.1691408, Time: 1.512682\n",
      "Epoch: 011, LR: 0.001000, Train Loss: 0.1620296, Val Loss: 0.1523920, Time: 1.335742\n",
      "Epoch: 012, LR: 0.001000, Train Loss: 0.1531318, Val Loss: 0.1644626, Time: 1.308495\n",
      "Epoch: 013, LR: 0.001000, Train Loss: 0.1574468, Val Loss: 0.1683789, Time: 1.228034\n",
      "Epoch: 014, LR: 0.001000, Train Loss: 0.1544486, Val Loss: 0.1534139, Time: 1.267179\n",
      "Epoch: 015, LR: 0.001000, Train Loss: 0.1823025, Val Loss: 0.1623138, Time: 1.262761\n",
      "Epoch: 016, LR: 0.001000, Train Loss: 0.1592142, Val Loss: 0.1609905, Time: 1.232134\n",
      "Epoch: 017, LR: 0.001000, Train Loss: 0.1582699, Val Loss: 0.1578055, Time: 1.215340\n",
      "Epoch: 018, LR: 0.001000, Train Loss: 0.1561260, Val Loss: 0.1637641, Time: 1.403850\n",
      "Epoch: 019, LR: 0.001000, Train Loss: 0.1661206, Val Loss: 0.1534011, Time: 1.259192\n",
      "Epoch: 020, LR: 0.001000, Train Loss: 0.1634522, Val Loss: 0.1554799, Time: 1.280807\n",
      "Epoch: 021, LR: 0.001000, Train Loss: 0.1454494, Val Loss: 0.1537418, Time: 1.223626\n",
      "Epoch: 022, LR: 0.001000, Train Loss: 0.1866831, Val Loss: 0.1548048, Time: 1.224831\n",
      "Epoch: 023, LR: 0.001000, Train Loss: 0.1597088, Val Loss: 0.1563457, Time: 1.246505\n",
      "Epoch: 024, LR: 0.001000, Train Loss: 0.1663462, Val Loss: 0.1492556, Time: 1.366088\n",
      "\n",
      "STARTING PREDICTION LEARNING\n",
      "Epoch: 000, LR: 0.001000, Train Loss: 6.3286364, Val Loss: 1.5435483, Time: 0.798822\n",
      "Epoch: 001, LR: 0.001000, Train Loss: 3.4417793, Val Loss: 1.2455747, Time: 0.684435\n",
      "Epoch: 002, LR: 0.001000, Train Loss: 2.5264410, Val Loss: 1.0251628, Time: 0.627848\n",
      "Epoch: 003, LR: 0.001000, Train Loss: 2.2281005, Val Loss: 0.9207599, Time: 0.661446\n",
      "Epoch: 004, LR: 0.001000, Train Loss: 1.8900227, Val Loss: 0.8938515, Time: 0.625766\n",
      "Epoch: 005, LR: 0.001000, Train Loss: 1.6410878, Val Loss: 0.8355759, Time: 0.622717\n",
      "Epoch: 006, LR: 0.001000, Train Loss: 1.7069240, Val Loss: 0.9441175, Time: 0.623336\n",
      "Epoch: 007, LR: 0.001000, Train Loss: 1.4519368, Val Loss: 0.9074675, Time: 0.621125\n",
      "Epoch: 008, LR: 0.001000, Train Loss: 1.4578466, Val Loss: 0.6336483, Time: 0.633348\n",
      "Epoch: 009, LR: 0.001000, Train Loss: 1.3043995, Val Loss: 0.7089282, Time: 0.623135\n",
      "Epoch: 010, LR: 0.001000, Train Loss: 1.2925169, Val Loss: 0.6597934, Time: 0.621065\n",
      "Epoch: 011, LR: 0.001000, Train Loss: 1.2158930, Val Loss: 0.6539457, Time: 0.623548\n",
      "Epoch: 012, LR: 0.001000, Train Loss: 1.1502949, Val Loss: 0.7313439, Time: 0.620438\n",
      "Epoch: 013, LR: 0.001000, Train Loss: 1.0933640, Val Loss: 0.6923027, Time: 0.637814\n",
      "Epoch: 014, LR: 0.001000, Train Loss: 1.1983738, Val Loss: 0.5368548, Time: 0.632646\n",
      "Epoch: 015, LR: 0.001000, Train Loss: 1.1312482, Val Loss: 0.5683770, Time: 0.630218\n",
      "Epoch: 016, LR: 0.001000, Train Loss: 1.0590985, Val Loss: 0.5431480, Time: 0.634321\n",
      "Epoch: 017, LR: 0.001000, Train Loss: 1.0954379, Val Loss: 0.5769205, Time: 0.620045\n",
      "Epoch: 018, LR: 0.001000, Train Loss: 0.9877036, Val Loss: 0.5547777, Time: 0.619968\n",
      "Epoch: 019, LR: 0.001000, Train Loss: 1.0106353, Val Loss: 0.5487218, Time: 0.624395\n",
      "Epoch: 020, LR: 0.001000, Train Loss: 1.0028404, Val Loss: 0.6318211, Time: 0.620074\n",
      "Epoch: 021, LR: 0.001000, Train Loss: 1.0460527, Val Loss: 0.8465386, Time: 0.625232\n",
      "Epoch: 022, LR: 0.001000, Train Loss: 1.0044504, Val Loss: 0.5532518, Time: 0.620786\n",
      "Epoch: 023, LR: 0.001000, Train Loss: 0.9165948, Val Loss: 0.5583527, Time: 0.620503\n",
      "Epoch: 024, LR: 0.001000, Train Loss: 1.0928077, Val Loss: 0.5816655, Time: 0.617096\n",
      "\n",
      "Final Prediction Accuracy: 0.75\n"
     ]
    }
   ],
   "source": [
    "# Run contrastive learning \n",
    "# Train model on different splits, meant to evaluate model, not save best model\n",
    "contrastive_loss = []\n",
    "prediction_loss = []\n",
    "test_accuracies = []\n",
    "for i, (train_idx, test_idx) in enumerate(splits[:1]): # TODO: Change back to all splits\n",
    "    # Create training and testing datasets\n",
    "    train_dataset = dataset[train_idx.tolist()]\n",
    "    test_dataset = dataset[test_idx.tolist()]\n",
    "    train_loader = torch.utils.data.DataLoader(train_dataset, sampler=torch.utils.data.RandomSampler(train_dataset, replacement=True, num_samples=int(len(train_dataset)*50/(len(train_dataset)/BATCH))), batch_size=BATCH, drop_last=False, collate_fn=Collater(follow_batch=[],exclude_keys=[]))\n",
    "    test_loader = DataLoader(test_dataset, batch_size=BATCH)\n",
    "    \n",
    "    # Set up for contrastive learning\n",
    "    model.reset_parameters()    # Resets upon every new fold \n",
    "    lr = 0.001   # Starting learning rate for each split \n",
    "    loss_func = losses.SelfSupervisedLoss(losses.NTXentLoss())   # Specify contrastive loss function to use \n",
    "    optimizer = torch.optim.Adam(model.parameters(), lr=lr)      # Optimizer for model to use \n",
    "    scheduler = torch.optim.lr_scheduler.StepLR(optimizer, step_size=50, gamma=0.5) # Used to adjust learning rate while training \n",
    "    m = 10  # How often updates get printed\n",
    "\n",
    "    # CONTRASTIVE LEARNING: Train model on contrastive representation \n",
    "    temp_losses = []\n",
    "    print(\"STARTING CONTRASTIVE LEARNING\")\n",
    "    for epoch in range(NUM_EPOCHS):\n",
    "        if epoch % m == 0:\n",
    "            start = time.time()\n",
    "\n",
    "        lr = scheduler.optimizer.param_groups[0]['lr']\n",
    "        train_loss = train_contrastive(model, train_loader, optimizer, loss_func, p1=p1, p2=p2)\n",
    "        scheduler.step()\n",
    "        test_loss = valid_contrastive(model, test_loader, loss_func, p1=p1, p2=p2)\n",
    "        temp_losses.append(test_loss)\n",
    "\n",
    "        if epoch % m == 0:\n",
    "            print('Epoch: {:03d}, LR: {:7f}, Train Loss: {:.7f}, '\n",
    "                'Val Loss: {:.7f}, Time: {:7f}'.format(\n",
    "                    epoch, lr, train_loss, test_loss, time.time() - start), flush=True)\n",
    "            \n",
    "    # Append all losses recorded for this split \n",
    "    contrastive_loss.append(torch.tensor(temp_losses))\n",
    "    \n",
    "    # Set up for prediction \n",
    "    lr = 0.001   # Starting learning rate for each split \n",
    "    optimizer = torch.optim.Adam(model.parameters(), lr=lr)      # Optimizer for model to use \n",
    "    scheduler = torch.optim.lr_scheduler.StepLR(optimizer, step_size=50, gamma=0.5) # Used to adjust learning rate while training \n",
    "    m = 1  # How often updates get printed\n",
    "    \n",
    "    # PREDICTION: Train model using contrastive representation to make predictions \n",
    "    temp_losses = []\n",
    "    print(\"\\nSTARTING PREDICTION LEARNING\")\n",
    "    for epoch in range(NUM_EPOCHS):\n",
    "        if epoch % m == 0:\n",
    "            start = time.time()\n",
    "\n",
    "        lr = scheduler.optimizer.param_groups[0]['lr']\n",
    "        train_loss = train_prediction(model, train_loader, optimizer, dropout=dropout)\n",
    "        scheduler.step()\n",
    "        test_loss = valid_prediction(model, test_loader, dropout=dropout)\n",
    "        temp_losses.append(test_loss)\n",
    "\n",
    "        if epoch % m == 0:\n",
    "            print('Epoch: {:03d}, LR: {:7f}, Train Loss: {:.7f}, '\n",
    "                'Val Loss: {:.7f}, Time: {:7f}'.format(\n",
    "                    epoch, lr, train_loss, test_loss, time.time() - start), flush=True)\n",
    "    \n",
    "    # Append all losses recorded for this split \n",
    "    prediction_loss.append(torch.tensor(temp_losses))\n",
    "    \n",
    "    # Run final model and return accuracy on test\n",
    "    test_acc = test_prediction(model, test_loader, dropout=dropout)\n",
    "    test_accuracies.append(test_acc)\n",
    "    \n",
    "    print(f\"\\nFinal Prediction Accuracy: {test_acc}\")\n",
    "    \n",
    "# Calculate average contrastive loss and return best epoch for contrastive loss\n",
    "contrastive_loss = torch.stack(contrastive_loss, dim=0)\n",
    "contrastive_loss_mean = contrastive_loss.mean(dim=0)\n",
    "best_contrastive_epoch = contrastive_loss_mean.argmin().item()\n",
    "\n",
    "# Calculate average prediction loss and return best epoch for predictions \n",
    "prediction_loss = torch.stack(prediction_loss, dim=0)\n",
    "prediction_loss_mean = prediction_loss.mean(dim=0)\n",
    "best_prediction_epoch = prediction_loss_mean.argmin().item()"
   ]
  },
  {
   "cell_type": "code",
   "execution_count": 126,
   "metadata": {},
   "outputs": [
    {
     "name": "stdout",
     "output_type": "stream",
     "text": [
      "Average Contrastive Loss\n",
      "tensor([0.2123, 0.1970, 0.1832, 0.1602, 0.1711, 0.1677, 0.1683, 0.1668, 0.1735,\n",
      "        0.1720, 0.1691, 0.1524, 0.1645, 0.1684, 0.1534, 0.1623, 0.1610, 0.1578,\n",
      "        0.1638, 0.1534, 0.1555, 0.1537, 0.1548, 0.1563, 0.1493]) \n",
      "\n",
      "Best Contrastive Loss Epoch 24\n"
     ]
    }
   ],
   "source": [
    "# Print metrics from contrastive learning \n",
    "print(f\"Average Contrastive Loss\")\n",
    "print(f\"{contrastive_loss_mean} \\n\")\n",
    "print(f\"Best Contrastive Loss Epoch {best_contrastive_epoch}\")"
   ]
  },
  {
   "cell_type": "code",
   "execution_count": 127,
   "metadata": {},
   "outputs": [
    {
     "name": "stdout",
     "output_type": "stream",
     "text": [
      "Average Prediction Loss\n",
      "tensor([1.5435, 1.2456, 1.0252, 0.9208, 0.8939, 0.8356, 0.9441, 0.9075, 0.6336,\n",
      "        0.7089, 0.6598, 0.6539, 0.7313, 0.6923, 0.5369, 0.5684, 0.5431, 0.5769,\n",
      "        0.5548, 0.5487, 0.6318, 0.8465, 0.5533, 0.5584, 0.5817]) \n",
      "\n",
      "Best Prediction Loss Epoch 14\n"
     ]
    }
   ],
   "source": [
    "# Print metrics from prediction learning \n",
    "print(f\"Average Prediction Loss\")\n",
    "print(f\"{prediction_loss_mean} \\n\")\n",
    "print(f\"Best Prediction Loss Epoch {best_prediction_epoch}\")"
   ]
  },
  {
   "cell_type": "code",
   "execution_count": null,
   "metadata": {},
   "outputs": [],
   "source": []
  }
 ],
 "metadata": {
  "accelerator": "GPU",
  "colab": {
   "gpuType": "T4",
   "provenance": []
  },
  "gpuClass": "standard",
  "kernelspec": {
   "display_name": "Python (myenv)",
   "language": "python",
   "name": "my-env"
  },
  "language_info": {
   "codemirror_mode": {
    "name": "ipython",
    "version": 3
   },
   "file_extension": ".py",
   "mimetype": "text/x-python",
   "name": "python",
   "nbconvert_exporter": "python",
   "pygments_lexer": "ipython3",
   "version": "3.8.15"
  }
 },
 "nbformat": 4,
 "nbformat_minor": 1
}
