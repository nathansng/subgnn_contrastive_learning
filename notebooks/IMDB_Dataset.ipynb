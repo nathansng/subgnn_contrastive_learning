{
 "cells": [
  {
   "cell_type": "markdown",
   "id": "2de3aa47",
   "metadata": {},
   "source": [
    "# Analyze IMDB Datasets"
   ]
  },
  {
   "cell_type": "code",
   "execution_count": 17,
   "id": "c8069558",
   "metadata": {},
   "outputs": [],
   "source": [
    "import os.path as osp\n",
    "import numpy as np\n",
    "import networkx as nx\n",
    "import time\n",
    "import random\n",
    "import matplotlib.pyplot as plt\n",
    "import torch\n",
    "from torch import nn\n",
    "import torch.nn.functional as F\n",
    "from sklearn.model_selection import StratifiedKFold\n",
    "import pandas as pd\n",
    "\n",
    "\n",
    "# Torch Geometric \n",
    "try: \n",
    "    from torch_geometric.data import DataLoader, Data\n",
    "    from torch_geometric.data.dataloader import Collater\n",
    "    from torch_geometric.datasets import TUDataset\n",
    "    from torch_geometric.utils import degree\n",
    "    from torch_geometric.utils.convert import from_networkx\n",
    "    from torch_geometric.nn import GINConv, GINEConv, global_add_pool\n",
    "except ModuleNotFoundError: \n",
    "    !pip install torch_geometric\n",
    "    from torch_geometric.data import DataLoader, Data\n",
    "    from torch_geometric.data.dataloader import Collater\n",
    "    from torch_geometric.datasets import TUDataset\n",
    "    from torch_geometric.utils import degree\n",
    "    from torch_geometric.utils.convert import from_networkx\n",
    "    from torch_geometric.nn import GINConv, GINEConv, global_add_pool\n",
    "    \n",
    "# Pytorch Metric Learning\n",
    "try: \n",
    "    from pytorch_metric_learning import losses\n",
    "except ModuleNotFoundError:\n",
    "    !pip install pytorch-metric-learning\n",
    "    from pytorch_metric_learning import losses"
   ]
  },
  {
   "cell_type": "markdown",
   "id": "6bb0795c",
   "metadata": {},
   "source": [
    "## Download IMDB Datasets"
   ]
  },
  {
   "cell_type": "code",
   "execution_count": 2,
   "id": "c7b5739e",
   "metadata": {},
   "outputs": [],
   "source": [
    "class MyFilter(object):\n",
    "    def __call__(self, data):\n",
    "        return data.num_nodes <= 70\n",
    "\n",
    "class MyPreTransform(object):\n",
    "    def __call__(self, data):\n",
    "        data.x = degree(data.edge_index[0], data.num_nodes, dtype=torch.long)\n",
    "        data.x = F.one_hot(data.x, num_classes=69).to(torch.float)\n",
    "        return data "
   ]
  },
  {
   "cell_type": "code",
   "execution_count": 4,
   "id": "20c9e9a6",
   "metadata": {},
   "outputs": [],
   "source": [
    "# Download imdb-b \n",
    "path = osp.join(osp.dirname(osp.realpath(\"./\")), 'data', f'IMDB-BINARY')\n",
    "\n",
    "imdb_b = TUDataset(\n",
    "    path, \n",
    "    name = \"IMDB-BINARY\", \n",
    "    pre_transform = MyPreTransform(), \n",
    "    pre_filter = MyFilter()\n",
    ")"
   ]
  },
  {
   "cell_type": "code",
   "execution_count": 5,
   "id": "e57dbdf4",
   "metadata": {},
   "outputs": [
    {
     "name": "stdout",
     "output_type": "stream",
     "text": [
      "IMDB-BINARY(996)\n"
     ]
    }
   ],
   "source": [
    "print(imdb_b)"
   ]
  },
  {
   "cell_type": "code",
   "execution_count": 6,
   "id": "a0c6b94e",
   "metadata": {},
   "outputs": [],
   "source": [
    "# Download imdb-m \n",
    "path = osp.join(osp.dirname(osp.realpath(\"./\")), 'data', f'IMDB-MULTI')\n",
    "\n",
    "imdb_m = TUDataset(\n",
    "    path, \n",
    "    name = \"IMDB-MULTI\", \n",
    "    pre_transform = MyPreTransform(), \n",
    "    pre_filter = MyFilter()\n",
    ")"
   ]
  },
  {
   "cell_type": "code",
   "execution_count": 7,
   "id": "9fc167c6",
   "metadata": {},
   "outputs": [
    {
     "name": "stdout",
     "output_type": "stream",
     "text": [
      "IMDB-MULTI(1498)\n"
     ]
    }
   ],
   "source": [
    "print(imdb_m)"
   ]
  },
  {
   "cell_type": "markdown",
   "id": "1420c408",
   "metadata": {},
   "source": [
    "## Analyze IMDB-BINARY"
   ]
  },
  {
   "cell_type": "code",
   "execution_count": 19,
   "id": "426a0bd9",
   "metadata": {},
   "outputs": [],
   "source": [
    "dataset = imdb_b"
   ]
  },
  {
   "cell_type": "code",
   "execution_count": 20,
   "id": "7eb1d8e7",
   "metadata": {},
   "outputs": [
    {
     "name": "stdout",
     "output_type": "stream",
     "text": [
      "Mean Degree: 18.486948013305664\n",
      "Max Degree: 68\n",
      "Min Degree: 11\n",
      "Mean number of nodes: 19\n",
      "Max number of nodes: 69\n",
      "Min number of nodes: 12\n",
      "Number of graphs: 996\n"
     ]
    }
   ],
   "source": [
    "n = []\n",
    "degs = []\n",
    "for g in dataset:\n",
    "    num_nodes = g.num_nodes\n",
    "    deg = degree(g.edge_index[0], g.num_nodes, dtype=torch.long)\n",
    "    n.append(g.num_nodes)\n",
    "    degs.append(deg.max())\n",
    "\n",
    "print(f'Mean Degree: {torch.stack(degs).float().mean()}')\n",
    "print(f'Max Degree: {torch.stack(degs).max()}')\n",
    "print(f'Min Degree: {torch.stack(degs).min()}')\n",
    "mean_n = torch.tensor(n).float().mean().round().long().item()\n",
    "print(f'Mean number of nodes: {mean_n}')\n",
    "print(f'Max number of nodes: {torch.tensor(n).float().max().round().long().item()}')\n",
    "print(f'Min number of nodes: {torch.tensor(n).float().min().round().long().item()}')\n",
    "print(f'Number of graphs: {len(dataset)}')"
   ]
  },
  {
   "cell_type": "code",
   "execution_count": null,
   "id": "51e28dde",
   "metadata": {},
   "outputs": [],
   "source": []
  },
  {
   "cell_type": "markdown",
   "id": "62b6b99a",
   "metadata": {},
   "source": [
    "## Analyze IMDB-Multi"
   ]
  },
  {
   "cell_type": "code",
   "execution_count": 21,
   "id": "c5e3d847",
   "metadata": {},
   "outputs": [],
   "source": [
    "dataset = imdb_m"
   ]
  },
  {
   "cell_type": "code",
   "execution_count": 22,
   "id": "ef391f25",
   "metadata": {},
   "outputs": [
    {
     "name": "stdout",
     "output_type": "stream",
     "text": [
      "Mean Degree: 11.907209396362305\n",
      "Max Degree: 62\n",
      "Min Degree: 6\n",
      "Mean number of nodes: 13\n",
      "Max number of nodes: 63\n",
      "Min number of nodes: 7\n",
      "Number of graphs: 1498\n"
     ]
    }
   ],
   "source": [
    "n = []\n",
    "degs = []\n",
    "for g in dataset:\n",
    "    num_nodes = g.num_nodes\n",
    "    deg = degree(g.edge_index[0], g.num_nodes, dtype=torch.long)\n",
    "    n.append(g.num_nodes)\n",
    "    degs.append(deg.max())\n",
    "print(f'Mean Degree: {torch.stack(degs).float().mean()}')\n",
    "print(f'Max Degree: {torch.stack(degs).max()}')\n",
    "print(f'Min Degree: {torch.stack(degs).min()}')\n",
    "mean_n = torch.tensor(n).float().mean().round().long().item()\n",
    "print(f'Mean number of nodes: {mean_n}')\n",
    "print(f'Max number of nodes: {torch.tensor(n).float().max().round().long().item()}')\n",
    "print(f'Min number of nodes: {torch.tensor(n).float().min().round().long().item()}')\n",
    "print(f'Number of graphs: {len(dataset)}')"
   ]
  },
  {
   "cell_type": "code",
   "execution_count": null,
   "id": "f557dadc",
   "metadata": {},
   "outputs": [],
   "source": []
  }
 ],
 "metadata": {
  "kernelspec": {
   "display_name": "Python (myenv)",
   "language": "python",
   "name": "my-env"
  },
  "language_info": {
   "codemirror_mode": {
    "name": "ipython",
    "version": 3
   },
   "file_extension": ".py",
   "mimetype": "text/x-python",
   "name": "python",
   "nbconvert_exporter": "python",
   "pygments_lexer": "ipython3",
   "version": "3.8.15"
  }
 },
 "nbformat": 4,
 "nbformat_minor": 5
}
